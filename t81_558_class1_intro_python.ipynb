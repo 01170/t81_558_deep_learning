{
 "cells": [
  {
   "cell_type": "markdown",
   "metadata": {},
   "source": [
    "# T81-558: Applications of Deep Neural Networks\n",
    "**Washington University in St. Louis**\n",
    "\n",
    "Instructor: [Jeff Heaton](http://sites.wustl.edu/jeffheaton)\n",
    "\n",
    "# Class 1: Python for Machine Learning"
   ]
  },
  {
   "cell_type": "markdown",
   "metadata": {},
   "source": [
    "# Course Description\n",
    "\n",
    "Deep learning is a group of exciting new technologies for neural networks. By using a combination of advanced training techniques neural network architectural components, it is now possible to train neural networks of much greater complexity. This course will introduce the student to deep belief neural networks, regularization units (ReLU), convolution neural networks and recurrent neural networks. High performance computing (HPC) aspects will demonstrate how deep learning can be leveraged both on graphical processing units (GPUs), as well as grids. Deep learning allows a model to learn hierarchies of information in a way that is similar to the function of the human brain. Focus will be primarily upon the application of deep learning, with some introduction to the mathematical foundations of deep learning. Students will use the Python programming language to architect a deep learning model for several of real-world data sets and interpret the results of these networks."
   ]
  },
  {
   "cell_type": "markdown",
   "metadata": {},
   "source": [
    "# Assignments\n",
    "\n",
    "Your grade will be calculated according to the following assignments:\n",
    "\n",
    "Assignment          |Weight|Title\n",
    "--------------------|------|-------\n",
    "Class Participation |   10%|Class attendance and participation\n",
    "Program 1           |   10%|Python for data science\n",
    "Program 2           |   10%|Tensorflow for classification\n",
    "Program 3           |   10%|Time series with TensorFlow\n",
    "Program 4           |   10%|Computer Vision with Tensorflow\n",
    "Mid Term            |   20%|Understanding of deep learning and TensorFlow\n",
    "Final Project       |   30%|Adapt deep learning to a past Kaggle competition"
   ]
  },
  {
   "cell_type": "markdown",
   "metadata": {},
   "source": [
    "# Course Book\n",
    "The following book will be used to supplement in class discussion.  Internet resources and papers will augment the text with the latest research.\n",
    "\n",
    "![Artificial Intelligence for Humans, Volume 3: Neural Networks and Deep Learning](http://www.heatonresearch.com/images/books/1505714346-sm.jpg \"AIFH Vol3: Deep Learning\")\n",
    "\n",
    "Heaton, J. (2015). *Deep learning and neural networks* (Vol. 3, Artificial Intelligence for Humans). St. Louis, MO: Heaton Research.\n",
    "\n",
    "**You do not need the other two books in the series.**"
   ]
  },
  {
   "cell_type": "markdown",
   "metadata": {},
   "source": [
    "# Jeff Heaton\n",
    "I will be your instructor for this course.  A brief summary of my credentials is given here:\n",
    "\n",
    "* Master of Information Management (MIM), Washington University in St. Louis, MO\n",
    "* PhD (candidate) in Computer Science, Nova Southeastern University in Ft. Lauderdale, FL\n",
    "* Senior Data Scientist, Reinsurance Group of America (RGA)\n",
    "* Senior Member, IEEE\n",
    "* jtheaton at domain name of this university\n",
    "* Other industry certifications: FLMI, ARA, ACS\n",
    "\n",
    "Social media:\n",
    "\n",
    "* [Homepage](http://www.heatonresearch.com) - My home page.  Includes my research interests and publications.\n",
    "* [Linked In](https://www.linkedin.com/in/jeffheaton) - My Linked In profile, feel free to connect.\n",
    "* [Twitter](https://twitter.com/jeffheaton) - My Twitter feed.\n",
    "* [Google Scholar](https://scholar.google.com/citations?user=1jPGeg4AAAAJ&hl=en) - My citations on Google Scholar.\n",
    "* [Research Gate](https://www.researchgate.net/profile/Jeff_Heaton) - My profile/research at Research Gate.\n",
    "* [Others](http://www.heatonresearch.com/about/) - About me and other social media sites that I am a member of."
   ]
  },
  {
   "cell_type": "markdown",
   "metadata": {},
   "source": [
    "# Course Resources\n",
    "\n",
    "* [IBM Data Science Workbench](https://www.datascientistworkbench.com) - Free web based platform that includes Python, Jupyter Notebooks, and TensorFlow.  No setup needed.\n",
    "* [Python Anaconda](https://www.continuum.io/downloads) - Python distribution that includes many data science packages, such as Numpy, Scipy, Scikit-Learn, Pandas, and much more.\n",
    "* [Jupyter Notebooks](http://jupyter.org/) - Easy to use environment that combines Python, Graphics and Text. \n",
    "* [TensorFlow](https://www.tensorflow.org/) - Google's mathematics package for deep learning.\n",
    "* [Kaggle](https://www.kaggle.com/) - Competitive data science.  Good source of sample data.\n",
    "* [Course GitHub Repository](https://github.com/jeffheaton/t81_558_deep_learning) - All of the course notebooks will be published here."
   ]
  },
  {
   "cell_type": "markdown",
   "metadata": {},
   "source": [
    "# What is Deep Learning\n",
    "\n",
    "This class focuses upon deep learning, which is a very popular type of machine learning that is based upon the original neural networks popularized in the 1980's. There is very little difference between how a deep neural network is calculated compared with the original neural network.  We've always been able to create and calculate deep neural networks.  A deep neural network is nothing more than a neural network with many layers.  While we've always been able to create/calculate deep neural networks, we've lacked an effective means of training them.  Deep learning provides an efficient means to train deep neural networks.\n",
    "\n",
    "## What is Machine Learning\n",
    "\n",
    "If deep learning is a type of machine learning, this begs the question, \"What is machine learning?\"  The following diagram illustrates how machine learning differs from traditional software development.\n",
    "\n",
    "![ML vs Traditional Software Development](https://raw.githubusercontent.com/jeffheaton/t81_558_deep_learning/master/images/class_1_ml_vs_trad.png \"Machine Learning vs Traditional Software Development\")\n",
    "\n",
    "* **Traditional Software Development** - Programmers create programs that specify how to transform input into the desired output.\n",
    "* **Machine Learning** - Programmers create models that can learn to produce the desired output for given input. This learning fills the traditional role of the computer program. \n",
    "\n",
    "Researchers have applied machine learning to many different areas.  This class will explore three specific domains for the application of deep neural networks:\n",
    "\n",
    "![Application of Machine Learning](https://raw.githubusercontent.com/jeffheaton/t81_558_deep_learning/master/images/class_1_ml_types.png \"Application of Machine Learning\")\n",
    "\n",
    "* **Low-Dimension Predictive Modeling** - Several named input values are used to predict another named value that becomes the output.  For example, using four measurements of iris flowers to predict the species.  Neural networks are not always the best choice for low-dimension predictive modeling.\n",
    "* **Computer Vision** - The use of machine learning to detect patterns in visual data. Neural networks are a good choice for computer vision.\n",
    "* **Time Series** - The use of machine learning to detect patterns in in time.  Common applications of time series are: financial applications, speech recognition, and even natural language processing (NLP).  Recurrent neural networks are a great choice for time series.\n",
    "\n",
    "## What are Neural Networks\n",
    "\n",
    "Neural networks one of the earliest types of machine learning model.  Neural networks were originally introduced in the 1940's and have risen and fallen [several times from popularity](http://hushmagazine.ca/living-2/business/the-believers-the-hidden-story-behind-the-code-that-runs-our-lives). Four researchers have contributed greatly to the development neural networks through their ups and downs: \n",
    "\n",
    "![Neural Network Luminaries](https://raw.githubusercontent.com/jeffheaton/t81_558_deep_learning/master/images/class_1_luminaries_ann.png \"Neural Network Luminaries\")\n",
    "\n",
    "The current luminaries of artificial neural network (ANN) research and ultimately deep learning, in order as appearing in the above picture:\n",
    "\n",
    "* [Yann LeCun](http://yann.lecun.com/), Facebook and New York University - Optical character recognition and computer vision using convolutional neural networks (CNN).  The founding father of convolutional nets.\n",
    "* [Geoffrey Hinton](http://www.cs.toronto.edu/~hinton/), Google and University of Toronto. Extensive work on neural networks. Creator of deep learning and early adapter/creator of backpropagation for neural networks.\n",
    "* [Yoshua Bengio](http://www.iro.umontreal.ca/~bengioy/yoshua_en/index.html), University of Montreal. Extensive research into deep learning, neural networks, and machine learning.  He has so far remained completely in academia.\n",
    "* [Andrew Ng](http://www.andrewng.org/), Baidu and Stanford University.  Extensive research into deep learning, neural networks, and application to robotics.\n",
    "\n",
    "## Why Deep Learning?\n",
    "\n",
    "For predictive modeling neural networks are not that different than other models, such as:\n",
    "\n",
    "* Support Vector Machines\n",
    "* Random Forests\n",
    "* Gradient Boosted Machines\n",
    "\n",
    "Like these other models, neural networks can perform both **classification** and **regression**.  When applied to relatively low-dimensional predictive modeling tasks, deep neural networks do not necessarily add significant accuracy over other model types.  Andrew Ng describes the advantage of deep neural networks over traditional model types as follows:\n",
    "\n",
    "![Why Deep Learning?](https://raw.githubusercontent.com/jeffheaton/t81_558_deep_learning/master/images/class_1_why_deep.png \"Why Deep Learning\")\n",
    "\n",
    "Neural networks also have two additional significant advantages over other machine learning models:\n",
    "\n"
   ]
  },
  {
   "cell_type": "markdown",
   "metadata": {},
   "source": [
    "# Software Installation\n",
    "This is a technical class.  You will need to be able to compile and execute Python code that makes use of TensorFlow for deep learning. There are two options to you for accomplish this:\n",
    "\n",
    "* Use IBM Data Scientist Workbench online\n",
    "* Install Python, TensorFlow and some IDE (Jupyter, Tensor Flow, etc.)\n",
    "\n",
    "## Using IBM Data Scientist Workbench\n",
    "\n",
    "![DSWB Logo](https://github.com/jeffheaton/t81_558_deep_learning/blob/master/images/datascientistworkbenchlogo2-2.png?raw=true \"DSWB Logo\")\n",
    "\n",
    "This option allows you to skip any issues associated with installing Python and TensorFlow on your machine. Installing Python is relatively easy.  However, TensorFlow has specific instructions for Windows, Linux and Mac. It is straightforward to install TensorFlow onto a Mac or Linux.  Windows is an entirely different prospect, as Google does not offer specific support for Windows at this time.\n",
    "\n",
    "The IBM Data Scientist Workbench is a web site that provides you with your own environment to run Jupyter notebook from.  There is nothing proprietary about the workbench, the same code that will run from the IBM system will also run on your local computer. I will be using the Data Scientist Workbench for many of the examples during class.  To make use of this website you will need to register at the following URL:\n",
    "\n",
    "* [Data Scientist Workbench](https://datascientistworkbench.com/)\n",
    "\n",
    "When you first sign up, it will take the workbench some time to setup your environment, this could easily take 30 minutes plus.  While your environment is being setup, you will see a cute icon of a dog chasing his tail.\n",
    "\n",
    "Upon logging into the workbench, you will see a welcome screen similar to the following:\n",
    "\n",
    "![DSWB Data](https://raw.githubusercontent.com/jeffheaton/t81_558_deep_learning/master/images/dswb_home.png \"IBM Data Scientist Workbench\")\n",
    "\n",
    "You will primarily make use of the \"My Data\" and \"Jupyter Notebook\" buttons on the above page. Clicking \"My Data\" will reveal all data that is currently held by your account.  This includes both CSV data files, as well as any Jupyter notebooks you might have loaded or created.\n",
    "\n",
    "![IBM Data Science Workbench](https://raw.githubusercontent.com/jeffheaton/t81_558_deep_learning/master/images/dswb_data.png \"DSWB Data\")\n",
    "\n",
    "Clicking \"Jupyter Notebook\" will start Jupyter Notebook.  This allows you to choose which notebook you would like to work with.  If you downloaded a notebook from my GitHub site you can simply drag the **.ipynb** file to the web browser.  You can also choose to create a new Jupyter notebook that you can later download.  The following screen capture shows Jupyter notebook running in Data Scientist Workbench.\n",
    "\n",
    "![DSWB Jupyter Notebook](https://raw.githubusercontent.com/jeffheaton/t81_558_deep_learning/master/images/dswb_jupyter.png \"DSWB Jupyter Notebook\")\n",
    "\n",
    "\n",
    "## Installing Python and TensorFlow\n",
    "\n",
    "It is also possible to install and run Python/TensorFlow entirely from your own computer.  This will be somewhat difficult for Microsoft Windows, as Google has not yet added official support for TensorFlow.  Official support is currently only provided for Mac and Linux.\n",
    "\n",
    "The first step is to install Python 3.x.  I recommend using the Anaconda release of Python, as it already includes many of the data science related packages that will be needed by this class.  Anaconda directly supports: Windows, Mac and Linux.  Download Anaconda from the following URL:\n",
    "\n",
    "* [Anaconda](https://www.continuum.io/downloads)\n",
    "\n",
    "Once Anaconda has been downloaded it is easy to install Jupyter notebooks with the following command:\n",
    "\n",
    "```\n",
    "conda install jupyter\n",
    "```\n",
    "\n",
    "Once Jupyter is installed, it is started with the following command:\n",
    "\n",
    "```\n",
    "jupyter notebook\n",
    "```\n"
   ]
  },
  {
   "cell_type": "markdown",
   "metadata": {},
   "source": [
    "# Python Introduction\n",
    "\n",
    "\n",
    "* [Anaconda v3.5](https://www.continuum.io/downloads) Scientific Python Distribution, including:\n",
    "    * [Scikit-Learn](http://scikit-learn.org/)\n",
    "    * [Pandas](http://pandas.pydata.org/)\n",
    "    * Others: csv, json, numpy, scipy\n",
    "* [Jupyter Notebooks](http://jupyter.readthedocs.io/en/latest/install.html)\n",
    "* [PyCharm IDE](https://www.jetbrains.com/pycharm/)\n",
    "* [Cx_Oracle](http://cx-oracle.sourceforge.net/)\n",
    "* [MatPlotLib](http://matplotlib.org/)\n",
    "\n",
    "## Jupyter Notebooks\n",
    "\n",
    "Space matters in Python, indent code to define blocks\n",
    "\n",
    "Jupyter Notebooks Allow Python and Markdown to coexist.\n",
    "\n",
    "Even $\\LaTeX$:\n",
    "\n",
    "$ f'(x) = \\lim_{h\\to0} \\frac{f(x+h) - f(x)}{h}. $\n",
    "\n",
    "## Python Versions\n",
    "\n",
    "* If you see `xrange` instead of `range`, you are dealing with Python 2\n",
    "* If you see `print x` instead of `print(x)`, you are dealing with Python 2 \n",
    "\n",
    "## Count to 10 in Python\n",
    "\n",
    "Use a `for` loop and a `range`."
   ]
  },
  {
   "cell_type": "code",
   "execution_count": 5,
   "metadata": {
    "collapsed": false
   },
   "outputs": [
    {
     "name": "stdout",
     "output_type": "stream",
     "text": [
      "1\n",
      "2\n",
      "3\n",
      "4\n",
      "5\n",
      "6\n",
      "7\n",
      "8\n",
      "9\n"
     ]
    }
   ],
   "source": [
    "#Python cares about space!  No curly braces.\n",
    "for x in range(1,10):  # If you ever see xrange, you are in Python 2\n",
    "    print(x)  # If you ever see print x (no parenthesis), you are in Python 2"
   ]
  },
  {
   "cell_type": "markdown",
   "metadata": {},
   "source": [
    "Printing Numbers and Strings\n",
    "============================"
   ]
  },
  {
   "cell_type": "code",
   "execution_count": 3,
   "metadata": {
    "collapsed": false
   },
   "outputs": [
    {
     "name": "stdout",
     "output_type": "stream",
     "text": [
      "Adding 1, sum so far is 1\n",
      "Adding 2, sum so far is 3\n",
      "Adding 3, sum so far is 6\n",
      "Adding 4, sum so far is 10\n",
      "Adding 5, sum so far is 15\n",
      "Adding 6, sum so far is 21\n",
      "Adding 7, sum so far is 28\n",
      "Adding 8, sum so far is 36\n",
      "Adding 9, sum so far is 45\n",
      "Final sum: 45\n"
     ]
    }
   ],
   "source": [
    "sum = 0\n",
    "for x in range(1,10):\n",
    "    sum += x\n",
    "    print(\"Adding {}, sum so far is {}\".format(x,sum))\n",
    "    \n",
    "print(\"Final sum: {}\".format(sum))"
   ]
  },
  {
   "cell_type": "markdown",
   "metadata": {},
   "source": [
    "Lists & Sets\n",
    "============"
   ]
  },
  {
   "cell_type": "code",
   "execution_count": 123,
   "metadata": {
    "collapsed": false
   },
   "outputs": [
    {
     "name": "stdout",
     "output_type": "stream",
     "text": [
      "['a', 'b', 'c', 'd']\n"
     ]
    }
   ],
   "source": [
    "c = ['a', 'b', 'c', 'd']\n",
    "print(c)"
   ]
  },
  {
   "cell_type": "code",
   "execution_count": 7,
   "metadata": {
    "collapsed": false
   },
   "outputs": [
    {
     "name": "stdout",
     "output_type": "stream",
     "text": [
      "a\n",
      "b\n",
      "c\n"
     ]
    }
   ],
   "source": [
    "# Iterate over a collection.\n",
    "for s in c:\n",
    "    print(s)"
   ]
  },
  {
   "cell_type": "code",
   "execution_count": 124,
   "metadata": {
    "collapsed": false
   },
   "outputs": [
    {
     "name": "stdout",
     "output_type": "stream",
     "text": [
      "0:a\n",
      "1:b\n",
      "2:c\n",
      "3:d\n"
     ]
    }
   ],
   "source": [
    "# Iterate over a collection, and know where your index.  (Python is zero-based!)\n",
    "for i,c in enumerate(c):\n",
    "    print(\"{}:{}\".format(i,c))"
   ]
  },
  {
   "cell_type": "code",
   "execution_count": 21,
   "metadata": {
    "collapsed": false
   },
   "outputs": [
    {
     "name": "stdout",
     "output_type": "stream",
     "text": [
      "['a', 'b', 'c', 'c']\n"
     ]
    }
   ],
   "source": [
    "# Manually add items, lists allow duplicates\n",
    "c = []\n",
    "c.append('a')\n",
    "c.append('b')\n",
    "c.append('c')\n",
    "c.append('c')\n",
    "print(c)"
   ]
  },
  {
   "cell_type": "code",
   "execution_count": 19,
   "metadata": {
    "collapsed": false
   },
   "outputs": [
    {
     "name": "stdout",
     "output_type": "stream",
     "text": [
      "{'c', 'a', 'b'}\n"
     ]
    }
   ],
   "source": [
    "# Manually add items, sets do not allow duplicates\n",
    "# Sets add, lists append.  I find this annoying.\n",
    "c = set()\n",
    "c.add('a')\n",
    "c.add('b')\n",
    "c.add('c')\n",
    "c.add('c')\n",
    "print(c)"
   ]
  },
  {
   "cell_type": "code",
   "execution_count": 22,
   "metadata": {
    "collapsed": false
   },
   "outputs": [
    {
     "name": "stdout",
     "output_type": "stream",
     "text": [
      "['a0', 'a', 'b', 'c']\n",
      "['a0', 'a', 'c']\n",
      "['a', 'c']\n"
     ]
    }
   ],
   "source": [
    "# Insert\n",
    "c = ['a','b','c']\n",
    "c.insert(0,'a0')\n",
    "print(c)\n",
    "# Remove\n",
    "c.remove('b')\n",
    "print(c)\n",
    "# Remove at index\n",
    "del c[0]\n",
    "print(c)"
   ]
  },
  {
   "cell_type": "markdown",
   "metadata": {},
   "source": [
    "Maps/Dictionaries/Hash Tables\n",
    "============================="
   ]
  },
  {
   "cell_type": "code",
   "execution_count": 24,
   "metadata": {
    "collapsed": false
   },
   "outputs": [
    {
     "name": "stdout",
     "output_type": "stream",
     "text": [
      "{'name': 'Jeff', 'address': '123 Main'}\n",
      "Jeff\n",
      "Name is defined\n",
      "age undefined\n"
     ]
    }
   ],
   "source": [
    "map = { 'name': \"Jeff\", 'address':\"123 Main\"}\n",
    "print(map)\n",
    "print(map['name'])\n",
    "\n",
    "if 'name' in map:\n",
    "    print(\"Name is defined\")\n",
    "    \n",
    "if 'age' in map:\n",
    "    print(\"age defined\")\n",
    "else:\n",
    "    print(\"age undefined\")"
   ]
  },
  {
   "cell_type": "code",
   "execution_count": 26,
   "metadata": {
    "collapsed": false
   },
   "outputs": [
    {
     "name": "stdout",
     "output_type": "stream",
     "text": [
      "Values: dict_keys(['name', 'address'])\n",
      "Keys: dict_values(['Jeff', '123 Main'])\n"
     ]
    }
   ],
   "source": [
    "map = { 'name': \"Jeff\", 'address':\"123 Main\"}\n",
    "# All of the keys\n",
    "print(\"Values: {}\".format(map.keys()))\n",
    "\n",
    "# All of the values\n",
    "print(\"Keys: {}\".format(map.values()))"
   ]
  },
  {
   "cell_type": "markdown",
   "metadata": {},
   "source": [
    "Files\n",
    "====="
   ]
  },
  {
   "cell_type": "code",
   "execution_count": 38,
   "metadata": {
    "collapsed": false
   },
   "outputs": [
    {
     "name": "stdout",
     "output_type": "stream",
     "text": [
      "mpg,cylinders,displacement,horsepower,weight,acceleration,year,origin,name\n",
      "18,8,307,130,3504,12,70,1,chevrolet chevelle malibu\n",
      "15,8,350,165,3693,11.5,70,1,buick skylark 320\n",
      "18,8,318,150,3436,11,70,1,plymouth satellite\n",
      "16,8,304,150,3433,12,70,1,amc rebel sst\n"
     ]
    }
   ],
   "source": [
    "# Read a raw text file (avoid this)\n",
    "import codecs\n",
    "import os\n",
    "\n",
    "path = os.getcwd()\n",
    "\n",
    "# Always specify your encoding! There is no such thing as \"its just a text file\".\n",
    "# See... http://www.joelonsoftware.com/articles/Unicode.html\n",
    "# Also see... http://www.utf8everywhere.org/\n",
    "encoding = 'utf-8'\n",
    "filename = os.path.join(path,\"auto-mpg.csv\")\n",
    "\n",
    "c = 0\n",
    "\n",
    "with codecs.open(filename, \"r\", encoding) as fh:\n",
    "    # Iterate over this line by line...\n",
    "    for line in fh:\n",
    "        c+=1 # Only the first 5 lines\n",
    "        if c>5: break\n",
    "        print(line.strip())"
   ]
  },
  {
   "cell_type": "code",
   "execution_count": 127,
   "metadata": {
    "collapsed": false
   },
   "outputs": [
    {
     "name": "stdout",
     "output_type": "stream",
     "text": [
      "['mpg', 'cylinders', 'displacement', 'horsepower', 'weight', 'acceleration', 'year', 'origin', 'name']\n",
      "['18', '8', '307', '130', '3504', '12', '70', '1', 'chevrolet chevelle malibu']\n",
      "['15', '8', '350', '165', '3693', '11.5', '70', '1', 'buick skylark 320']\n",
      "['18', '8', '318', '150', '3436', '11', '70', '1', 'plymouth satellite']\n",
      "['16', '8', '304', '150', '3433', '12', '70', '1', 'amc rebel sst']\n"
     ]
    }
   ],
   "source": [
    "# Read a CSV file\n",
    "import codecs\n",
    "import os\n",
    "import csv\n",
    "\n",
    "path = os.getcwd()\n",
    "\n",
    "encoding = 'utf-8'\n",
    "filename = os.path.join(path,\"auto-mpg.csv\")\n",
    "\n",
    "c = 0\n",
    "\n",
    "with codecs.open(filename, \"r\", encoding) as fh:\n",
    "    reader = csv.reader(fh)\n",
    "    for row in reader:\n",
    "        c+=1\n",
    "        if c>5: break\n",
    "        print(row)\n"
   ]
  },
  {
   "cell_type": "code",
   "execution_count": 47,
   "metadata": {
    "collapsed": false
   },
   "outputs": [
    {
     "name": "stdout",
     "output_type": "stream",
     "text": [
      "Car Name: chevrolet chevelle malibu\n",
      "Car Name: buick skylark 320\n",
      "Car Name: plymouth satellite\n",
      "Car Name: amc rebel sst\n",
      "Car Name: ford torino\n"
     ]
    }
   ],
   "source": [
    "# Read a CSV, symbolic headers\n",
    "import codecs\n",
    "import os\n",
    "import csv\n",
    "\n",
    "path = os.getcwd()\n",
    "\n",
    "encoding = 'utf-8'\n",
    "filename = os.path.join(path,\"auto-mpg.csv\")\n",
    "\n",
    "c = 0\n",
    "\n",
    "with codecs.open(filename, \"r\", encoding) as fh:\n",
    "    reader = csv.reader(fh)\n",
    "\n",
    "    # Generate header index using comprehension.\n",
    "    # Comprehension is cool, but not necessarily a beginners feature of Python.\n",
    "    header_idx = {key: value for (value, key) in enumerate(next(reader))}\n",
    "    \n",
    "    for row in reader:\n",
    "        c+=1\n",
    "        if c>5: break\n",
    "        print( \"Car Name: {}\".format(row[header_idx['name']]))\n"
   ]
  },
  {
   "cell_type": "code",
   "execution_count": 128,
   "metadata": {
    "collapsed": false
   },
   "outputs": [
    {
     "name": "stdout",
     "output_type": "stream",
     "text": [
      "acceleration:{'sdev': 2.7542223175940177, 'variance': 7.585740574732961, 'count': 398, 'mean': 15.568090452261291}\n",
      "cylinders:{'sdev': 1.698865960539558, 'variance': 2.8861455518799946, 'count': 398, 'mean': 5.454773869346734}\n",
      "displacement:{'sdev': 104.13876352708563, 'variance': 10844.882068950259, 'count': 398, 'mean': 193.42587939698493}\n",
      "horsepower:{'sdev': 38.442032714425984, 'variance': 1477.7898792169979, 'count': 392, 'mean': 104.46938775510205}\n",
      "mpg:{'sdev': 7.806159061274433, 'variance': 60.93611928991693, 'count': 398, 'mean': 23.514572864321615}\n",
      "name:{'sum': 0, 'count': 0}\n",
      "origin:{'sdev': 0.801046637381194, 'variance': 0.6416757152597181, 'count': 398, 'mean': 1.5728643216080402}\n",
      "weight:{'sdev': 845.7772335198177, 'variance': 715339.1287404363, 'count': 398, 'mean': 2970.424623115578}\n",
      "year:{'sdev': 3.6929784655780975, 'variance': 13.638089947223559, 'count': 398, 'mean': 76.01005025125629}\n"
     ]
    }
   ],
   "source": [
    "# Read a CSV, manual stats\n",
    "import codecs\n",
    "import os\n",
    "import csv\n",
    "import math\n",
    "\n",
    "path = os.getcwd()\n",
    "\n",
    "encoding = 'utf-8'\n",
    "filename_read = os.path.join(path,\"auto-mpg.csv\")\n",
    "filename_write = os.path.join(path,\"auto-mpg-norm.csv\")\n",
    "\n",
    "c = 0\n",
    "\n",
    "with codecs.open(filename_read, \"r\", encoding) as fh:\n",
    "    reader = csv.reader(fh)\n",
    "\n",
    "    # Generate header index using comprehension.\n",
    "    # Comprehension is cool, but not necessarily a beginners feature of Python.\n",
    "    header_idx = {key: value for (value, key) in enumerate(next(reader))}\n",
    "    headers = header_idx.keys()\n",
    "    \n",
    "    #print([(key,{'count':0}) for key in headers])\n",
    "    \n",
    "    fields = {key: value for (key, value) in [(key,{'count':0,'sum':0,'variance':0}) for key in headers] }\n",
    "    \n",
    "    # Pass 1, means\n",
    "    row_count = 0\n",
    "    for row in reader:\n",
    "        row_count += 1\n",
    "        for name in headers:\n",
    "            try:\n",
    "                value = float(row[header_idx[name]])\n",
    "                field = fields[name]\n",
    "                field['count'] += 1\n",
    "                field['sum'] += value\n",
    "            except ValueError:\n",
    "                pass\n",
    "    \n",
    "    # Calculate means, toss sums (part of pass 1)\n",
    "    for field in fields.values():\n",
    "        # If 90% are not missing (or non-numeric) calculate a mean\n",
    "        if (field['count']/row_count)>0.9:\n",
    "            field['mean'] = field['sum'] / field['count']\n",
    "            del field['sum']\n",
    "    \n",
    "    # Pass 2, standard deviation & variance\n",
    "    fh.seek(0)\n",
    "    for row in reader:\n",
    "        for name in headers:\n",
    "            try:\n",
    "                value = float(row[header_idx[name]])\n",
    "                field = fields[name]\n",
    "                # If we failed to calculate a mean, no variance.\n",
    "                if 'mean' in field:\n",
    "                    field['variance'] += (value - field['mean'])**2\n",
    "            except ValueError:\n",
    "                pass\n",
    "            \n",
    "    # Calculate standard deviation, keep variance (part of pass 2)\n",
    "    for field in fields.values():\n",
    "        # If no variance, then no standard deviation\n",
    "        if 'mean' in field:\n",
    "            field['variance'] /= field['count']\n",
    "            field['sdev'] = math.sqrt(field['variance'])\n",
    "        else:\n",
    "            del field['variance']\n",
    "    \n",
    "    # Print summary stats\n",
    "    for key in sorted(fields.keys()):\n",
    "        print(\"{}:{}\".format(key,fields[key]))\n",
    "        \n",
    "        \n"
   ]
  },
  {
   "cell_type": "code",
   "execution_count": 92,
   "metadata": {
    "collapsed": false
   },
   "outputs": [
    {
     "name": "stdout",
     "output_type": "stream",
     "text": [
      "[{'name': 'Jeff & Tracy Heaton', 'pets': ['Wynton', 'Cricket']}, {'name': 'John Smith', 'pets': ['rover']}, {'name': 'Jane Doe'}]\n",
      "Jeff & Tracy Heaton:['Wynton', 'Cricket']\n",
      "John Smith:['rover']\n",
      "Jane Doe:no pets\n"
     ]
    }
   ],
   "source": [
    "# Python list & map structures\n",
    "customers = [\n",
    "    {'name': 'Jeff & Tracy Heaton', 'pets': ['Wynton','Cricket']},\n",
    "    {'name': 'John Smith', 'pets': ['rover']},\n",
    "    {'name': 'Jane Doe'}\n",
    "]\n",
    "\n",
    "print(customers)\n",
    "\n",
    "for customer in customers:\n",
    "    print(\"{}:{}\".format(customer['name'],customer.get('pets','no pets')))"
   ]
  },
  {
   "cell_type": "markdown",
   "metadata": {},
   "source": [
    "Pandas\n",
    "======"
   ]
  },
  {
   "cell_type": "code",
   "execution_count": 96,
   "metadata": {
    "collapsed": false
   },
   "outputs": [
    {
     "name": "stdout",
     "output_type": "stream",
     "text": [
      "   mpg  cylinders  displacement horsepower  weight  acceleration  year  \\\n",
      "0   18          8           307        130    3504          12.0    70   \n",
      "1   15          8           350        165    3693          11.5    70   \n",
      "2   18          8           318        150    3436          11.0    70   \n",
      "3   16          8           304        150    3433          12.0    70   \n",
      "4   17          8           302        140    3449          10.5    70   \n",
      "\n",
      "   origin                       name  \n",
      "0       1  chevrolet chevelle malibu  \n",
      "1       1          buick skylark 320  \n",
      "2       1         plymouth satellite  \n",
      "3       1              amc rebel sst  \n",
      "4       1                ford torino  \n"
     ]
    }
   ],
   "source": [
    "# Simple dataframe\n",
    "import os\n",
    "import pandas as pd\n",
    "\n",
    "path = os.getcwd()\n",
    "\n",
    "filename_read = os.path.join(path,\"auto-mpg.csv\")\n",
    "df = pd.read_csv(filename_read)\n",
    "print(df[0:5])"
   ]
  },
  {
   "cell_type": "code",
   "execution_count": 122,
   "metadata": {
    "collapsed": false
   },
   "outputs": [
    {
     "name": "stdout",
     "output_type": "stream",
     "text": [
      "{'name': 'mpg', 'sdev': 7.8159843125657922, 'mean': 23.514572864321607, 'var': 61.089610774274554}\n",
      "{'name': 'cylinders', 'sdev': 1.7010042445332123, 'mean': 5.4547738693467336, 'var': 2.8934154399200041}\n",
      "{'name': 'displacement', 'sdev': 104.26983817119591, 'mean': 193.42587939698493, 'var': 10872.199152247384}\n",
      "{'name': 'horsepower', 'sdev': 38.491159932828488, 'mean': 104.46938775510205, 'var': 1481.5693929745814}\n",
      "{'name': 'weight', 'sdev': 846.84177419732646, 'mean': 2970.424623115578, 'var': 717140.9905256757}\n",
      "{'name': 'acceleration', 'sdev': 2.757688929812677, 'mean': 15.568090452261307, 'var': 7.6048482336113885}\n",
      "{'name': 'year', 'sdev': 3.6976266467326111, 'mean': 76.010050251256288, 'var': 13.672442818627053}\n",
      "{'name': 'origin', 'sdev': 0.80205487772661477, 'mean': 1.5728643216080402, 'var': 0.64329202688505494}\n"
     ]
    }
   ],
   "source": [
    "# Simple dataframe\n",
    "import os\n",
    "import pandas as pd\n",
    "\n",
    "path = os.getcwd()\n",
    "\n",
    "filename_read = os.path.join(path,\"auto-mpg.csv\")\n",
    "df = pd.read_csv(filename_read,na_values=['NA','?'])\n",
    "\n",
    "# Strip non-numerics\n",
    "df = df.select_dtypes(include=['int', 'float'])\n",
    "\n",
    "headers = list(df.columns.values)\n",
    "fields = []\n",
    "\n",
    "for field in headers:\n",
    "    fields.append( {\n",
    "        'name' : field,\n",
    "        'mean': df[field].mean(numeric_only=True),\n",
    "        'var': df[field].var(numeric_only=True),\n",
    "        'sdev': df[field].std(numeric_only=True)\n",
    "    })\n",
    "    \n",
    "for field in fields:\n",
    "    print(field)\n",
    "    \n",
    "\n",
    "    \n",
    "    \n"
   ]
  },
  {
   "cell_type": "code",
   "execution_count": null,
   "metadata": {
    "collapsed": true
   },
   "outputs": [],
   "source": []
  },
  {
   "cell_type": "code",
   "execution_count": null,
   "metadata": {
    "collapsed": true
   },
   "outputs": [],
   "source": []
  }
 ],
 "metadata": {
  "kernelspec": {
   "display_name": "Python 3",
   "language": "python",
   "name": "python3"
  },
  "language_info": {
   "codemirror_mode": {
    "name": "ipython",
    "version": 3
   },
   "file_extension": ".py",
   "mimetype": "text/x-python",
   "name": "python",
   "nbconvert_exporter": "python",
   "pygments_lexer": "ipython3",
   "version": "3.5.1"
  },
  "widgets": {
   "state": {},
   "version": "1.1.2"
  }
 },
 "nbformat": 4,
 "nbformat_minor": 0
}
