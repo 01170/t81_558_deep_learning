{
 "cells": [
  {
   "cell_type": "markdown",
   "metadata": {},
   "source": [
    "# T81-558: Applications of Deep Neural Networks\n",
    "**Class 3: Training a Neural Network**\n",
    "* Instructor: [Jeff Heaton](https://sites.wustl.edu/jeffheaton/), School of Engineering and Applied Science, [Washington University in St. Louis](https://engineering.wustl.edu/Programs/Pages/default.aspx)\n",
    "* For more information visit the [class website](https://sites.wustl.edu/jeffheaton/t81-558/)."
   ]
  },
  {
   "cell_type": "markdown",
   "metadata": {},
   "source": [
    "# Building the Feature Vector\n",
    "\n",
    "Neural networks require their input to be a fixed number of columns.  This is very similar to spreadsheet data.  This input must be completely numeric.  \n",
    "\n",
    "It is important to represent the data in a way that the neural network can train from it.  In class 6, we will see even more ways to preprocess data.  For now, we will look at several of the most basic ways to transform data for a neural network.\n",
    "\n",
    "Before we look at specific ways to preprocess data, it is important to consider four basic types of data, as defined by [Stanley Smith Stevens](https://en.wikipedia.org/wiki/Stanley_Smith_Stevens).  These are commonly referred to as the [levels of measure](https://en.wikipedia.org/wiki/Level_of_measurement):\n",
    "\n",
    "* Character Data (strings)\n",
    "    * **Nominal** - Individual discrete items, no order. For example: color, zip code, shape.\n",
    "    * **Ordinal** - Individual discrete items that can be ordered.  For example: grade level, job title, Starbucks(tm) coffee size (tall, vente, grande) \n",
    "* Numeric Data\n",
    "    * **Interval** - Numeric values, no defined start.  For example, temperature.  You would never say \"yesterday was twice as hot as today\".\n",
    "    * **Ratio** - Numeric values, clearly defined start.  For example, speed.  You would say that \"The first car is going twice as fast as the second.\"\n",
    "\n",
    "The following code contains several useful functions to encode the feature vector for various types of data.  Encoding data:\n",
    "\n",
    "* **encode_text_dummy** - Encode text fields, such as the iris species as a single field for each class.  Three classes would become \"0,0,1\" \"0,1,0\" and \"1,0,0\". Encode non-target predictors this way. Good for nominal.\n",
    "* **encode_text_index** - Encode text fields, such as the iris species as a single numeric field as \"0\" \"1\" and \"2\".  Encode the target field for a classification this way.  Good for nominal.\n",
    "* **encode_numeric_zscore** - Encode numeric values as a z-score.  Neural networks deal well with \"centered\" fields, zscore is usually a good starting point for interval/ratio.\n",
    "\n",
    "*Ordinal values can be encoded as dummy or index.  Later we will see a more advanced means of encoding*\n",
    "\n",
    "Dealing with missing data:\n",
    "\n",
    "* **missing_median** - Fill all missing values with the median value.\n",
    "\n",
    "Creating the final feature vector:\n",
    "\n",
    "* **to_xy** - Once all fields are numeric, this function can provide the x and y matrixes that are used to fit the neural network.\n",
    "\n",
    "Other utility functions:\n",
    "\n",
    "* **hms_string** - Print out an elapsed time string.\n",
    "* **chart_regression** - Display a chart to show how well a regression performs.\n"
   ]
  },
  {
   "cell_type": "code",
   "execution_count": 18,
   "metadata": {
    "collapsed": true
   },
   "outputs": [],
   "source": [
    "from sklearn import preprocessing\n",
    "import matplotlib.pyplot as plt\n",
    "import numpy as np\n",
    "import pandas as pd\n",
    "\n",
    "# Encode text values to dummy variables(i.e. [1,0,0],[0,1,0],[0,0,1] for red,green,blue)\n",
    "def encode_text_dummy(df,name):\n",
    "    dummies = pd.get_dummies(df[name])\n",
    "    for x in dummies.columns:\n",
    "        dummy_name = \"{}-{}\".format(name,x)\n",
    "        df[dummy_name] = dummies[x]\n",
    "    df.drop(name, axis=1, inplace=True)\n",
    "\n",
    "# Encode text values to indexes(i.e. [1],[2],[3] for red,green,blue).\n",
    "def encode_text_index(df,name):\n",
    "    le = preprocessing.LabelEncoder()\n",
    "    df[name] = le.fit_transform(df[name])\n",
    "    return le.classes_\n",
    "\n",
    "# Encode a numeric column as zscores\n",
    "def encode_numeric_zscore(df,name,mean=None,sd=None):\n",
    "    if mean is None:\n",
    "        mean = df[name].mean()\n",
    "\n",
    "    if sd is None:\n",
    "        sd = df[name].std()\n",
    "\n",
    "    df[name] = (df[name]-mean)/sd\n",
    "\n",
    "# Convert all missing values in the specified column to the median\n",
    "def missing_median(df, name):\n",
    "    med = df[name].median()\n",
    "    df[name] = df[name].fillna(med)\n",
    "\n",
    "# Convert a Pandas dataframe to the x,y inputs that TensorFlow needs\n",
    "def to_xy(df,target):\n",
    "    result = []\n",
    "    for x in df.columns:\n",
    "        if x != target:\n",
    "            result.append(x)\n",
    "\n",
    "    # find out the type of the target column.  Is it really this hard? :(\n",
    "    target_type = df[target].dtypes\n",
    "    target_type = target_type[0] if hasattr(target_type, '__iter__') else target_type\n",
    "\n",
    "    # Encode to int for classification, float otherwise. TensorFlow likes 32 bits.\n",
    "    if target_type in (np.int64, np.int32):\n",
    "        # Classification\n",
    "        return df.as_matrix(result).astype(np.float32),df.as_matrix([target]).astype(np.int32)\n",
    "    else:\n",
    "        # Regression\n",
    "        return df.as_matrix(result).astype(np.float32),df.as_matrix([target]).astype(np.float32)\n",
    "\n",
    "# Nicely formatted time string\n",
    "def hms_string(sec_elapsed):\n",
    "    h = int(sec_elapsed / (60 * 60))\n",
    "    m = int((sec_elapsed % (60 * 60)) / 60)\n",
    "    s = sec_elapsed % 60\n",
    "    return \"{}:{:>02}:{:>05.2f}\".format(h, m, s)\n",
    "\n",
    "# Regression chart, we will see more of this chart in the next class.\n",
    "def chart_regression(pred,y):\n",
    "    t = pd.DataFrame({'pred' : pred.flatten(), 'y' : y_test.flatten()})\n",
    "    t.sort_values(by=['y'],inplace=True)\n",
    "    a = plt.plot(t['y'].tolist(),label='expected')\n",
    "    b = plt.plot(t['pred'].tolist(),label='prediction')\n",
    "    plt.ylabel('output')\n",
    "    plt.legend()\n",
    "    plt.show()"
   ]
  },
  {
   "cell_type": "markdown",
   "metadata": {
    "collapsed": true
   },
   "source": [
    "# Training with a Validation Set and Early Stopping\n",
    "\n",
    "**Overfitting** occurs when a neural network is trained to the point that it begins to memorize rather than generalize.  \n",
    "\n",
    "![Training vs Validation Error for Overfitting](https://raw.githubusercontent.com/jeffheaton/t81_558_deep_learning/master/images/class_3_training_val.png \"Training vs Validation Error for Overfitting\")\n",
    "\n",
    "It is important to segment the original dataset into several datasets:\n",
    "\n",
    "* **Training Set**\n",
    "* **Validation Set**\n",
    "* **Holdout Set**\n",
    "\n",
    "There are several different ways that these sets can be constructed.  The following programs demonstrate some of these.\n",
    "\n",
    "The first method is a training and validation set.  The training data are used to train the neural network until the validation set no longer improves.  This attempts to stop at a near optimal training point.  This method will only give accurate \"out of sample\" predictions for the validation set, this is usually 20% or so of the data.  The predictions for the training data will be overly optimistic, as these were the data that the neural network was trained on.  \n",
    "\n",
    "![Training with a Validation Set](https://raw.githubusercontent.com/jeffheaton/t81_558_deep_learning/master/images/class_1_train_val.png \"Training with a Validation Set\")\n"
   ]
  },
  {
   "cell_type": "code",
   "execution_count": 19,
   "metadata": {
    "collapsed": false
   },
   "outputs": [
    {
     "name": "stderr",
     "output_type": "stream",
     "text": [
      "/usr/local/lib/python3.4/dist-packages/tensorflow/contrib/learn/python/learn/io/data_feeder.py:281: VisibleDeprecationWarning: converting an array with ndim > 0 to an index will result in an error in the future\n",
      "  out.itemset((i, self.y[sample]), 1.0)\n"
     ]
    },
    {
     "name": "stdout",
     "output_type": "stream",
     "text": [
      "Step #50, epoch #12, avg. train loss: 0.53108, avg. val loss: 0.53152\n",
      "Step #100, epoch #25, avg. train loss: 0.10657, avg. val loss: 0.16325\n",
      "Step #150, epoch #37, avg. train loss: 0.05762, avg. val loss: 0.13760\n",
      "Step #200, epoch #50, avg. train loss: 0.05041, avg. val loss: 0.15182\n",
      "Step #250, epoch #62, avg. train loss: 0.03561, avg. val loss: 0.14002\n",
      "Step #300, epoch #75, avg. train loss: 0.04022, avg. val loss: 0.13479\n",
      "Step #350, epoch #87, avg. train loss: 0.02812, avg. val loss: 0.14996\n",
      "Step #400, epoch #100, avg. train loss: 0.02655, avg. val loss: 0.14363\n",
      "Step #450, epoch #112, avg. train loss: 0.02942, avg. val loss: 0.14883\n",
      "Step #500, epoch #125, avg. train loss: 0.03025, avg. val loss: 0.14984\n",
      "Step #550, epoch #137, avg. train loss: 0.02500, avg. val loss: 0.13992\n",
      "Step #600, epoch #150, avg. train loss: 0.02287, avg. val loss: 0.14733\n",
      "Step #650, epoch #162, avg. train loss: 0.02709, avg. val loss: 0.15769\n"
     ]
    },
    {
     "name": "stderr",
     "output_type": "stream",
     "text": [
      "Stopping. Best step:\n",
      " step 464 with loss 0.018344204872846603\n"
     ]
    },
    {
     "data": {
      "text/plain": [
       "TensorFlowDNNClassifier(batch_size=32, class_weight=None, clip_gradients=5.0,\n",
       "            config=None, continue_training=False, dropout=None,\n",
       "            hidden_units=[5, 20, 10], learning_rate=0.1, n_classes=3,\n",
       "            optimizer='Adagrad', steps=10000, verbose=1)"
      ]
     },
     "execution_count": 19,
     "metadata": {},
     "output_type": "execute_result"
    }
   ],
   "source": [
    "import os\n",
    "import pandas as pd\n",
    "from sklearn.cross_validation import train_test_split\n",
    "import tensorflow.contrib.learn as skflow\n",
    "import numpy as np\n",
    "\n",
    "path = \"./data/\"\n",
    "    \n",
    "filename = os.path.join(path,\"iris.csv\")    \n",
    "df = pd.read_csv(filename,na_values=['NA','?'])\n",
    "\n",
    "# Encode feature vector\n",
    "encode_numeric_zscore(df,'petal_w')\n",
    "encode_numeric_zscore(df,'petal_l')\n",
    "encode_numeric_zscore(df,'sepal_w')\n",
    "encode_numeric_zscore(df,'sepal_l')\n",
    "species = encode_text_index(df,\"species\")\n",
    "num_classes = len(species)\n",
    "\n",
    "# Create x & y for training\n",
    "\n",
    "# Create the x-side (feature vectors) of the training\n",
    "x, y = to_xy(df,'species')\n",
    "    \n",
    "# Split into train/test\n",
    "x_train, x_test, y_train, y_test = train_test_split(    \n",
    "    x, y, test_size=0.25, random_state=45) \n",
    "    # as much as I would like to use 42, it gives a perfect result, and a boring confusion matrix!\n",
    "    \n",
    "# Create a deep neural network with 3 hidden layers of 10, 20, 10\n",
    "classifier = skflow.TensorFlowDNNClassifier(hidden_units=[5, 20, 10], n_classes=num_classes,\n",
    "    steps=10000)\n",
    "\n",
    "# Early stopping\n",
    "early_stop = skflow.monitors.ValidationMonitor(x_test, y_test,\n",
    "    early_stopping_rounds=200, print_steps=50, n_classes=num_classes)\n",
    "    \n",
    "# Fit/train neural network\n",
    "classifier.fit(x_train, y_train, monitor=early_stop)\n",
    "    "
   ]
  },
  {
   "cell_type": "markdown",
   "metadata": {},
   "source": [
    "# Calculate Classification Accuracy\n",
    " \n",
    "Accuracy is the number of rows where the neural network correctly predicted the target class.  Accuracy is only used for classification, not regression.\n",
    "\n",
    "$ accuracy = \\frac{\\textit{#} \\ correct}{N} $\n",
    "\n",
    "Where $N$ is the size of the evaluted set (training or validation)."
   ]
  },
  {
   "cell_type": "code",
   "execution_count": 20,
   "metadata": {
    "collapsed": false
   },
   "outputs": [
    {
     "name": "stdout",
     "output_type": "stream",
     "text": [
      "Accuracy score: 0.9210526315789473\n"
     ]
    }
   ],
   "source": [
    "from sklearn import metrics\n",
    "\n",
    "# Evaluate success using accuracy\n",
    "pred = classifier.predict(x_test)\n",
    "score = metrics.accuracy_score(y_test, pred)\n",
    "print(\"Accuracy score: {}\".format(score))"
   ]
  },
  {
   "cell_type": "markdown",
   "metadata": {},
   "source": [
    "# Calculate Classification Log Loss\n",
    "\n",
    "Accuracy is like a final exam with no partial credit.  However, neural networks can predict a probability of each of the target classes.  Neural networks will give high probabilities to predictions that are more likely.  Log loss is an error metric that penalizes confidence in wrong answers.\n",
    "\n",
    "For any scikit-learn model there are two ways to get a prediction:\n",
    "\n",
    "* **predict** - In the case of classification output the numeric id of the predicted class.  For regression, this is simply the prediction.\n",
    "* **predict_proba** - In the case of classification output the probability of each of the classes.  Not used for regression.\n",
    "\n",
    "The following code shows the output of predict_proba:\n"
   ]
  },
  {
   "cell_type": "code",
   "execution_count": 21,
   "metadata": {
    "collapsed": false
   },
   "outputs": [
    {
     "name": "stdout",
     "output_type": "stream",
     "text": [
      "Numpy array of predictions\n",
      "[[  9.9992e-01   8.0931e-05   1.1739e-14]\n",
      " [  9.9985e-01   1.4813e-04   3.7525e-12]\n",
      " [  2.6230e-05   8.2637e-01   1.7360e-01]\n",
      " [  9.9992e-01   7.7227e-05   4.7578e-14]\n",
      " [  9.9979e-01   2.1312e-04   1.4006e-14]]\n",
      "As percent probability\n",
      "Log loss score: 0.1745572018822043\n"
     ]
    }
   ],
   "source": [
    "pred = classifier.predict_proba(x_test)\n",
    "\n",
    "np.set_printoptions(precision=4)\n",
    "\n",
    "print(\"Numpy array of predictions\")\n",
    "print(pred[0:5])\n",
    "\n",
    "print(\"As percent probability\")\n",
    "(pred[0:5]*100).astype(int)\n",
    "\n",
    "score = metrics.log_loss(y_test, pred)\n",
    "print(\"Log loss score: {}\".format(score))"
   ]
  },
  {
   "cell_type": "markdown",
   "metadata": {},
   "source": [
    "[Log loss](https://www.kaggle.com/wiki/LogarithmicLoss) is calculated as follows:\n",
    "\n",
    "$ \\text{log loss} = -\\frac{1}{N}\\sum_{i=1}^N {( {y}_i\\log(\\hat{y}_i) + (1 - {y}_i)\\log(1 - \\hat{y}_i))} $\n",
    "\n",
    "The log function is useful to penalizing wrong answers.  The following code demonstrates the utility of the log function:"
   ]
  },
  {
   "cell_type": "code",
   "execution_count": 22,
   "metadata": {
    "collapsed": false
   },
   "outputs": [
    {
     "data": {
      "image/png": "[encoded data removed]",
      "text/plain": [
       "<matplotlib.figure.Figure at 0x7fcf2025b550>"
      ]
     },
     "metadata": {},
     "output_type": "display_data"
    }
   ],
   "source": [
    "%matplotlib inline\n",
    "from matplotlib.pyplot import figure, show\n",
    "from numpy import arange, sin, pi\n",
    "\n",
    "t = arange(0.0, 5.0, 0.00001)\n",
    "#t = arange(1.0, 5.0, 0.00001) # computer scientists\n",
    "#t = arange(0.0, 1.0, 0.00001)  # data     scientists\n",
    "\n",
    "fig = figure(1,figsize=(12, 10))\n",
    "\n",
    "ax1 = fig.add_subplot(211)\n",
    "ax1.plot(t, np.log(t))\n",
    "ax1.grid(True)\n",
    "ax1.set_ylim((-8, 1.5))\n",
    "ax1.set_xlim((-0.1, 2))\n",
    "ax1.set_xlabel('x')\n",
    "ax1.set_ylabel('y')\n",
    "ax1.set_title('log(x)')\n",
    "\n",
    "show()"
   ]
  },
  {
   "cell_type": "markdown",
   "metadata": {},
   "source": [
    "# Evaluating Regression Results\n",
    "\n",
    "Regression results are evaluated differently than classification.  Consider the following code that trains a neural network for the [MPG dataset](https://github.com/jeffheaton/t81_558_deep_learning/blob/master/datasets_mpg.ipynb). "
   ]
  },
  {
   "cell_type": "code",
   "execution_count": 23,
   "metadata": {
    "collapsed": false
   },
   "outputs": [
    {
     "name": "stdout",
     "output_type": "stream",
     "text": [
      "Step #50, epoch #5, avg. train loss: 40.25010, avg. val loss: 35.26281\n",
      "Step #100, epoch #10, avg. train loss: 6.67342, avg. val loss: 6.36329\n",
      "Step #150, epoch #15, avg. train loss: 3.44723, avg. val loss: 3.21085\n",
      "Step #200, epoch #20, avg. train loss: 1.99451, avg. val loss: 1.88279\n",
      "Step #250, epoch #25, avg. train loss: 1.46245, avg. val loss: 1.39983\n",
      "Step #300, epoch #30, avg. train loss: 1.22336, avg. val loss: 1.14907\n"
     ]
    },
    {
     "name": "stderr",
     "output_type": "stream",
     "text": [
      "Stopping. Best step:\n",
      " step 109 with loss 0.603066623210907\n"
     ]
    },
    {
     "data": {
      "text/plain": [
       "TensorFlowDNNRegressor(batch_size=32, clip_gradients=5.0, config=None,\n",
       "            continue_training=False, dropout=None,\n",
       "            hidden_units=[50, 25, 10], learning_rate=0.1, n_classes=0,\n",
       "            optimizer='Adagrad', steps=5000, verbose=1)"
      ]
     },
     "execution_count": 23,
     "metadata": {},
     "output_type": "execute_result"
    }
   ],
   "source": [
    "import tensorflow.contrib.learn as skflow\n",
    "from sklearn.cross_validation import train_test_split\n",
    "import pandas as pd\n",
    "import os\n",
    "import numpy as np\n",
    "from sklearn import metrics\n",
    "from scipy.stats import zscore\n",
    "\n",
    "path = \"./data/\"\n",
    "\n",
    "filename_read = os.path.join(path,\"auto-mpg.csv\")\n",
    "df = pd.read_csv(filename_read,na_values=['NA','?'])\n",
    "\n",
    "# create feature vector\n",
    "missing_median(df, 'horsepower')\n",
    "df.drop('name',1,inplace=True)\n",
    "encode_numeric_zscore(df, 'horsepower')\n",
    "encode_numeric_zscore(df, 'weight')\n",
    "encode_numeric_zscore(df, 'cylinders')\n",
    "encode_numeric_zscore(df, 'displacement')\n",
    "encode_numeric_zscore(df, 'acceleration')\n",
    "encode_text_dummy(df, 'origin')\n",
    "\n",
    "# Encode to a 2D matrix for training\n",
    "x,y = to_xy(df,['mpg'])\n",
    "\n",
    "# Split into train/test\n",
    "x_train, x_test, y_train, y_test = train_test_split(\n",
    "    x, y, test_size=0.25, random_state=42)\n",
    "\n",
    "# Create a deep neural network with 3 hidden layers of 50, 25, 10\n",
    "regressor = skflow.TensorFlowDNNRegressor(hidden_units=[50, 25, 10], steps=5000)\n",
    "\n",
    "# Early stopping\n",
    "early_stop = skflow.monitors.ValidationMonitor(x_test, y_test,\n",
    "    early_stopping_rounds=200, print_steps=50)\n",
    "\n",
    "# Fit/train neural network\n",
    "regressor.fit(x_train, y_train, monitor=early_stop)\n"
   ]
  },
  {
   "cell_type": "markdown",
   "metadata": {},
   "source": [
    "### Mean Square Error\n",
    "\n",
    "The mean square error is the sum of the squared differences between the prediction ($\\hat{y}$) and the expected ($y$).  MSE values are not of a particular unit.  If an MSE value has decreased for a model, that is good.  However, beyond this, there is not much more you can determine.\n",
    "\n",
    "$ \\text{MSE} = \\frac{1}{n} \\sum_{i=1}^n \\left(\\hat{y}_i - y_i\\right)^2 $\n"
   ]
  },
  {
   "cell_type": "code",
   "execution_count": 24,
   "metadata": {
    "collapsed": false
   },
   "outputs": [
    {
     "name": "stdout",
     "output_type": "stream",
     "text": [
      "Final score (MSE): 2.2958037853240967\n"
     ]
    }
   ],
   "source": [
    "pred = regressor.predict(x_test)\n",
    "# Measure MSE error.  \n",
    "score = metrics.mean_squared_error(pred,y_test)\n",
    "print(\"Final score (MSE): {}\".format(score))"
   ]
  },
  {
   "cell_type": "markdown",
   "metadata": {},
   "source": [
    "### Root Mean Square Error\n",
    "\n",
    "The root mean square (RMSE) is essentially the square root of the MSE.  Because of this, the RMSE error is in the same units as the training data outcome.\n",
    "\n",
    "$ \\text{MSE} = \\sqrt{\\frac{1}{n} \\sum_{i=1}^n \\left(\\hat{y}_i - y_i\\right)^2} $"
   ]
  },
  {
   "cell_type": "code",
   "execution_count": 25,
   "metadata": {
    "collapsed": false
   },
   "outputs": [
    {
     "name": "stdout",
     "output_type": "stream",
     "text": [
      "Final score (RMSE): 1.5151909589767456\n"
     ]
    }
   ],
   "source": [
    "# Measure RMSE error.  RMSE is common for regression.\n",
    "score = np.sqrt(metrics.mean_squared_error(pred,y_test))\n",
    "print(\"Final score (RMSE): {}\".format(score))"
   ]
  },
  {
   "cell_type": "markdown",
   "metadata": {},
   "source": [
    "# Training with Cross Validation\n",
    "\n",
    "Cross validation uses a number of folds, and multiple models, to generate out of sample predictions on the entire dataset.  It is important to note that there will be one model (neural network) for each fold. Each model contributes part of the final out-of-sample prediction.\n",
    "\n",
    "![K-Fold Crossvalidation](https://raw.githubusercontent.com/jeffheaton/t81_558_deep_learning/master/images/class_1_kfold.png \"K-Fold Crossvalidation\")\n",
    "\n",
    "For new data, which is data not present in the training set, predictions from the fold models can be handled in several ways.\n",
    "\n",
    "* Choose the model that had the highest validation score as the final model.\n",
    "* Preset new data to the 5 models and average the result (this is an [enesmble](https://en.wikipedia.org/wiki/Ensemble_learning)).\n",
    "* Retrain a new model (using the same settings as the crossvalidation) on the entire dataset.  Train for as many steps, and with the same hidden layer structure.\n",
    "\n",
    "The following code trains the MPG dataset using a 5-fold cross validation.  The expected performance of a neural network, of the type trained here, would be the score for the generated out-of-sample predictions."
   ]
  },
  {
   "cell_type": "code",
   "execution_count": 37,
   "metadata": {
    "collapsed": false
   },
   "outputs": [
    {
     "name": "stdout",
     "output_type": "stream",
     "text": [
      "Fold #1\n",
      "Step #50, epoch #3, avg. train loss: 26.28529, avg. val loss: 21.69395\n",
      "Step #100, epoch #7, avg. train loss: 4.14423, avg. val loss: 3.98790\n",
      "Step #150, epoch #11, avg. train loss: 2.81061, avg. val loss: 2.71588\n",
      "Step #200, epoch #15, avg. train loss: 2.04829, avg. val loss: 1.96061\n",
      "Step #250, epoch #19, avg. train loss: 1.44071, avg. val loss: 1.36827\n",
      "Step #300, epoch #23, avg. train loss: 1.16614, avg. val loss: 1.11980\n",
      "Step #350, epoch #26, avg. train loss: 0.95145, avg. val loss: 0.91015\n",
      "Step #400, epoch #30, avg. train loss: 0.83353, avg. val loss: 0.79693\n",
      "Step #450, epoch #34, avg. train loss: 0.70365, avg. val loss: 0.68443\n",
      "Step #500, epoch #38, avg. train loss: 0.62153, avg. val loss: 0.59630\n",
      "[ 32.7134] [ 33.]\n",
      "[ 27.4831] [ 28.]\n",
      "[ 18.7998] [ 19.]\n",
      "[ 13.2602] [ 13.]\n",
      "[ 13.9047] [ 14.]\n",
      "[ 26.6593] [ 27.]\n",
      "[ 23.558] [ 24.]\n",
      "[ 12.754] [ 13.]\n",
      "[ 16.6831] [ 17.]\n",
      "[ 20.6262] [ 21.]\n",
      "[ 14.7108] [ 15.]\n",
      "[ 37.5354] [ 38.]\n",
      "[ 25.7457] [ 26.]\n",
      "[ 14.8516] [ 15.]\n",
      "[ 24.5913] [ 25.]\n",
      "[ 11.8729] [ 12.]\n",
      "[ 30.415] [ 31.]\n",
      "[ 16.9325] [ 17.]\n",
      "[ 15.6672] [ 16.]\n",
      "[ 30.6699] [ 31.]\n",
      "[ 21.605] [ 22.]\n",
      "[ 21.489] [ 22.]\n",
      "[ 21.646] [ 22.]\n",
      "[ 32.9944] [ 33.5]\n",
      "[ 17.5147] [ 18.]\n",
      "[ 42.8624] [ 44.]\n",
      "[ 25.5434] [ 26.]\n",
      "[ 24.0059] [ 24.5]\n",
      "[ 18.0038] [ 18.1]\n",
      "[ 11.9675] [ 12.]\n",
      "[ 26.449] [ 27.]\n",
      "[ 35.414] [ 36.]\n",
      "[ 22.0811] [ 23.]\n",
      "[ 23.6645] [ 24.]\n",
      "[ 36.7414] [ 37.2]\n",
      "[ 15.3711] [ 16.]\n",
      "[ 20.7205] [ 21.]\n",
      "[ 18.802] [ 19.2]\n",
      "[ 15.5873] [ 16.]\n",
      "[ 28.4917] [ 29.]\n",
      "[ 26.1671] [ 26.8]\n",
      "[ 26.7147] [ 27.]\n",
      "[ 17.8056] [ 18.]\n",
      "[ 10.1142] [ 10.]\n",
      "[ 22.6259] [ 23.]\n",
      "[ 35.4091] [ 36.]\n",
      "[ 25.6067] [ 26.]\n",
      "[ 24.367] [ 25.]\n",
      "[ 24.4967] [ 25.]\n",
      "[ 24.6572] [ 25.]\n",
      "[ 21.7026] [ 22.]\n",
      "[ 33.7141] [ 34.1]\n",
      "[ 31.9178] [ 32.4]\n",
      "[ 12.8811] [ 13.]\n",
      "[ 23.0803] [ 23.5]\n",
      "[ 13.7162] [ 14.]\n",
      "[ 18.0564] [ 18.5]\n",
      "[ 29.199] [ 29.8]\n",
      "[ 27.5322] [ 28.]\n",
      "[ 18.7404] [ 19.]\n",
      "[ 11.5043] [ 11.]\n",
      "[ 32.7138] [ 33.]\n",
      "[ 22.5919] [ 23.]\n",
      "[ 20.4874] [ 21.]\n",
      "[ 22.442] [ 23.]\n",
      "[ 24.6607] [ 25.]\n",
      "[ 23.2942] [ 23.8]\n",
      "[ 33.9495] [ 34.4]\n",
      "[ 24.2588] [ 24.5]\n",
      "[ 13.1109] [ 13.]\n",
      "[ 34.208] [ 34.7]\n",
      "[ 13.9135] [ 14.]\n",
      "[ 14.4736] [ 15.]\n",
      "[ 17.7956] [ 18.]\n",
      "[ 24.3442] [ 25.]\n",
      "[ 19.5276] [ 19.9]\n",
      "[ 17.3749] [ 17.5]\n",
      "[ 27.4516] [ 28.]\n",
      "[ 28.6468] [ 29.]\n",
      "[ 16.8316] [ 17.]\n",
      "Fold score (RMSE): 0.42925626039505005\n",
      "Fold #2\n",
      "Step #50, epoch #3, avg. train loss: 26.28529, avg. val loss: 22.76836\n",
      "Step #100, epoch #7, avg. train loss: 4.14423, avg. val loss: 4.26753\n",
      "Step #150, epoch #11, avg. train loss: 2.81061, avg. val loss: 2.99831\n",
      "Step #200, epoch #15, avg. train loss: 2.04829, avg. val loss: 2.21511\n",
      "Step #250, epoch #19, avg. train loss: 1.44071, avg. val loss: 1.52916\n",
      "Step #300, epoch #23, avg. train loss: 1.16614, avg. val loss: 1.25998\n",
      "Step #350, epoch #26, avg. train loss: 0.95145, avg. val loss: 1.02435\n",
      "Step #400, epoch #30, avg. train loss: 0.83353, avg. val loss: 0.89097\n",
      "Step #450, epoch #34, avg. train loss: 0.70365, avg. val loss: 0.75956\n",
      "Step #500, epoch #38, avg. train loss: 0.62153, avg. val loss: 0.66060\n",
      "[ 15.7752] [ 16.]\n",
      "[ 26.6646] [ 27.]\n",
      "[ 36.4913] [ 37.]\n",
      "[ 35.7383] [ 36.1]\n",
      "[ 22.4864] [ 23.]\n",
      "[ 13.7742] [ 14.]\n",
      "[ 32.4646] [ 32.8]\n",
      "[ 29.448] [ 29.9]\n",
      "[ 19.8976] [ 20.]\n",
      "[ 11.9005] [ 12.]\n",
      "[ 15.1865] [ 15.5]\n",
      "[ 23.4139] [ 23.7]\n",
      "[ 23.673] [ 24.]\n",
      "[ 35.5513] [ 36.]\n",
      "[ 18.8514] [ 19.]\n",
      "[ 37.4682] [ 38.]\n",
      "[ 28.4729] [ 29.]\n",
      "[ 21.0001] [ 21.5]\n",
      "[ 27.2423] [ 27.9]\n",
      "[ 13.9325] [ 14.]\n",
      "[ 35.6926] [ 36.1]\n",
      "[ 21.7073] [ 22.]\n",
      "[ 17.8672] [ 18.]\n",
      "[ 16.63] [ 17.]\n",
      "[ 17.8176] [ 18.]\n",
      "[ 13.5753] [ 14.]\n",
      "[ 25.7793] [ 26.]\n",
      "[ 12.9294] [ 13.]\n",
      "[ 32.4461] [ 33.]\n",
      "[ 36.5144] [ 37.]\n",
      "[ 31.6653] [ 32.]\n",
      "[ 27.4462] [ 28.]\n",
      "[ 18.8537] [ 19.2]\n",
      "[ 31.6626] [ 32.]\n",
      "[ 26.9083] [ 27.4]\n",
      "[ 19.8076] [ 20.]\n",
      "[ 25.624] [ 26.]\n",
      "[ 20.1861] [ 20.6]\n",
      "[ 36.73] [ 37.3]\n",
      "[ 16.1037] [ 16.2]\n",
      "[ 14.7838] [ 15.]\n",
      "[ 20.8156] [ 21.]\n",
      "[ 20.6525] [ 21.]\n",
      "[ 20.1609] [ 20.5]\n",
      "[ 20.6226] [ 21.]\n",
      "[ 24.7783] [ 25.4]\n",
      "[ 33.6902] [ 34.1]\n",
      "[ 26.3676] [ 27.]\n",
      "[ 35.4585] [ 36.]\n",
      "[ 31.0198] [ 31.6]\n",
      "[ 37.644] [ 38.1]\n",
      "[ 31.6421] [ 32.]\n",
      "[ 39.9851] [ 40.8]\n",
      "[ 18.7589] [ 19.]\n",
      "[ 19.75] [ 20.]\n",
      "[ 21.3984] [ 22.]\n",
      "[ 17.5009] [ 17.5]\n",
      "[ 34.7633] [ 35.1]\n",
      "[ 30.1526] [ 30.5]\n",
      "[ 33.2144] [ 33.7]\n",
      "[ 18.6236] [ 19.]\n",
      "[ 13.804] [ 14.]\n",
      "[ 15.4702] [ 15.5]\n",
      "[ 15.2657] [ 15.]\n",
      "[ 21.9672] [ 22.5]\n",
      "[ 28.7071] [ 29.]\n",
      "[ 22.6776] [ 23.]\n",
      "[ 18.2346] [ 18.]\n",
      "[ 25.0926] [ 25.5]\n",
      "[ 23.5718] [ 24.]\n",
      "[ 13.5372] [ 14.]\n",
      "[ 16.3691] [ 16.5]\n",
      "[ 19.9798] [ 20.3]\n",
      "[ 25.592] [ 26.]\n",
      "[ 14.8251] [ 15.]\n",
      "[ 33.3364] [ 33.8]\n",
      "[ 11.1621] [ 11.]\n",
      "[ 27.5605] [ 28.]\n",
      "[ 18.7043] [ 19.]\n",
      "[ 29.6955] [ 30.]\n",
      "Fold score (RMSE): 0.3877447843551636\n",
      "Fold #3\n",
      "Step #50, epoch #3, avg. train loss: 26.28529, avg. val loss: 22.54552\n",
      "Step #100, epoch #7, avg. train loss: 4.14423, avg. val loss: 4.12657\n",
      "Step #150, epoch #11, avg. train loss: 2.81061, avg. val loss: 2.81572\n",
      "Step #200, epoch #15, avg. train loss: 2.04829, avg. val loss: 2.03533\n",
      "Step #250, epoch #19, avg. train loss: 1.44071, avg. val loss: 1.41883\n",
      "Step #300, epoch #23, avg. train loss: 1.16614, avg. val loss: 1.16460\n",
      "Step #350, epoch #26, avg. train loss: 0.95145, avg. val loss: 0.94420\n",
      "Step #400, epoch #30, avg. train loss: 0.83353, avg. val loss: 0.82187\n",
      "Step #450, epoch #34, avg. train loss: 0.70365, avg. val loss: 0.70488\n",
      "Step #500, epoch #38, avg. train loss: 0.62153, avg. val loss: 0.61257\n",
      "[ 26.4307] [ 27.2]\n",
      "[ 16.1785] [ 16.5]\n",
      "[ 28.6425] [ 29.]\n",
      "[ 19.5814] [ 20.]\n",
      "[ 14.9227] [ 15.]\n",
      "[ 17.1268] [ 17.5]\n",
      "[ 17.8118] [ 18.]\n",
      "[ 23.7079] [ 24.]\n",
      "[ 19.9001] [ 20.2]\n",
      "[ 13.0127] [ 13.]\n",
      "[ 12.0782] [ 12.]\n",
      "[ 19.6755] [ 20.]\n",
      "[ 13.1778] [ 13.]\n",
      "[ 25.5908] [ 26.]\n",
      "[ 34.0042] [ 34.5]\n",
      "[ 17.8248] [ 18.]\n",
      "[ 18.3675] [ 18.5]\n",
      "[ 12.9337] [ 13.]\n",
      "[ 25.4658] [ 26.]\n",
      "[ 17.7318] [ 18.]\n",
      "[ 30.827] [ 31.]\n",
      "[ 23.4102] [ 24.]\n",
      "[ 11.0981] [ 11.]\n",
      "[ 18.8918] [ 19.4]\n",
      "[ 32.218] [ 32.9]\n",
      "[ 31.056] [ 31.5]\n",
      "[ 19.0614] [ 19.1]\n",
      "[ 23.4283] [ 24.]\n",
      "[ 19.648] [ 20.]\n",
      "[ 27.6788] [ 28.]\n",
      "[ 28.6087] [ 29.]\n",
      "[ 14.1364] [ 14.]\n",
      "[ 34.2316] [ 35.]\n",
      "[ 29.1703] [ 29.5]\n",
      "[ 23.1527] [ 23.6]\n",
      "[ 15.3788] [ 15.5]\n",
      "[ 20.1581] [ 20.6]\n",
      "[ 33.7125] [ 34.2]\n",
      "[ 24.5978] [ 25.]\n",
      "[ 35.5586] [ 36.4]\n",
      "[ 21.9459] [ 22.3]\n",
      "[ 18.9049] [ 19.]\n",
      "[ 19.6735] [ 19.8]\n",
      "[ 30.6645] [ 31.]\n",
      "[ 13.8324] [ 14.]\n",
      "[ 14.0239] [ 14.]\n",
      "[ 42.1568] [ 43.4]\n",
      "[ 25.6549] [ 26.]\n",
      "[ 33.1046] [ 33.5]\n",
      "[ 19.0337] [ 19.]\n",
      "[ 21.4933] [ 22.]\n",
      "[ 26.7719] [ 27.2]\n",
      "[ 31.8167] [ 32.7]\n",
      "[ 28.7115] [ 29.]\n",
      "[ 17.6106] [ 17.6]\n",
      "[ 22.538] [ 23.]\n",
      "[ 33.4958] [ 34.]\n",
      "[ 17.3912] [ 17.6]\n",
      "[ 29.8719] [ 30.7]\n",
      "[ 20.5432] [ 21.]\n",
      "[ 37.5133] [ 38.]\n",
      "[ 15.6982] [ 16.]\n",
      "[ 15.1819] [ 15.]\n",
      "[ 19.5018] [ 20.]\n",
      "[ 28.6466] [ 29.]\n",
      "[ 31.3351] [ 32.]\n",
      "[ 17.4758] [ 18.]\n",
      "[ 31.6289] [ 32.]\n",
      "[ 14.8303] [ 15.]\n",
      "[ 15.7105] [ 16.]\n",
      "[ 33.3529] [ 34.]\n",
      "[ 10.3474] [ 10.]\n",
      "[ 18.6723] [ 19.]\n",
      "[ 27.8104] [ 28.4]\n",
      "[ 14.9122] [ 15.]\n",
      "[ 31.9035] [ 32.3]\n",
      "[ 29.6249] [ 30.]\n",
      "[ 25.8127] [ 26.4]\n",
      "[ 29.5068] [ 30.]\n",
      "[ 18.8063] [ 19.]\n",
      "Fold score (RMSE): 0.43332892656326294\n",
      "Fold #4\n",
      "Step #50, epoch #3, avg. train loss: 26.28529, avg. val loss: 24.67588\n",
      "Step #100, epoch #7, avg. train loss: 4.14423, avg. val loss: 4.17193\n",
      "Step #150, epoch #11, avg. train loss: 2.81061, avg. val loss: 2.63519\n",
      "Step #200, epoch #15, avg. train loss: 2.04829, avg. val loss: 1.85469\n",
      "Step #250, epoch #19, avg. train loss: 1.44071, avg. val loss: 1.31242\n",
      "Step #300, epoch #23, avg. train loss: 1.16614, avg. val loss: 1.07216\n",
      "Step #350, epoch #26, avg. train loss: 0.95145, avg. val loss: 0.87491\n",
      "Step #400, epoch #30, avg. train loss: 0.83353, avg. val loss: 0.76204\n",
      "Step #450, epoch #34, avg. train loss: 0.70365, avg. val loss: 0.65775\n",
      "Step #500, epoch #38, avg. train loss: 0.62153, avg. val loss: 0.57350\n",
      "[ 12.9919] [ 13.]\n",
      "[ 31.7328] [ 32.2]\n",
      "[ 26.6661] [ 27.]\n",
      "[ 27.6357] [ 28.]\n",
      "[ 43.1175] [ 44.6]\n",
      "[ 17.9473] [ 18.]\n",
      "[ 38.6622] [ 39.4]\n",
      "[ 24.6093] [ 25.1]\n",
      "[ 15.8677] [ 16.]\n",
      "[ 41.8697] [ 43.1]\n",
      "[ 24.538] [ 25.]\n",
      "[ 16.5063] [ 16.9]\n",
      "[ 12.6717] [ 13.]\n",
      "[ 20.0439] [ 20.2]\n",
      "[ 13.9215] [ 14.]\n",
      "[ 36.2967] [ 37.]\n",
      "[ 13.0598] [ 13.]\n",
      "[ 21.1453] [ 21.5]\n",
      "[ 26.5634] [ 27.]\n",
      "[ 13.8555] [ 14.]\n",
      "[ 14.8465] [ 15.]\n",
      "[ 16.8649] [ 17.]\n",
      "[ 9.7664] [ 9.]\n",
      "[ 22.6116] [ 23.]\n",
      "[ 25.7302] [ 26.]\n",
      "[ 33.6859] [ 34.3]\n",
      "[ 22.7293] [ 23.2]\n",
      "[ 17.186] [ 17.5]\n",
      "[ 11.8227] [ 12.]\n",
      "[ 29.5401] [ 30.]\n",
      "[ 30.0018] [ 30.5]\n",
      "[ 24.5769] [ 25.4]\n",
      "[ 42.9727] [ 44.3]\n",
      "[ 22.4216] [ 23.]\n",
      "[ 13.91] [ 14.]\n",
      "[ 29.4777] [ 29.8]\n",
      "[ 26.0855] [ 26.5]\n",
      "[ 19.9992] [ 20.2]\n",
      "[ 36.9994] [ 38.]\n",
      "[ 16.6552] [ 17.]\n",
      "[ 20.0713] [ 20.5]\n",
      "[ 31.8923] [ 32.4]\n",
      "[ 17.8887] [ 18.]\n",
      "[ 20.0224] [ 20.5]\n",
      "[ 25.302] [ 25.8]\n",
      "[ 13.2554] [ 13.]\n",
      "[ 23.5505] [ 24.]\n",
      "[ 15.9825] [ 16.]\n",
      "[ 13.3073] [ 13.]\n",
      "[ 20.831] [ 21.]\n",
      "[ 18.5929] [ 19.]\n",
      "[ 24.6655] [ 25.]\n",
      "[ 26.9932] [ 27.5]\n",
      "[ 17.9094] [ 18.]\n",
      "[ 33.7839] [ 34.5]\n",
      "[ 11.0637] [ 11.]\n",
      "[ 31.6788] [ 32.1]\n",
      "[ 15.3181] [ 15.5]\n",
      "[ 18.4468] [ 18.6]\n",
      "[ 17.8959] [ 18.2]\n",
      "[ 15.0027] [ 15.]\n",
      "[ 26.734] [ 27.2]\n",
      "[ 13.8818] [ 14.]\n",
      "[ 13.0097] [ 13.]\n",
      "[ 17.7365] [ 18.]\n",
      "[ 15.1531] [ 15.]\n",
      "[ 13.4954] [ 14.]\n",
      "[ 14.7622] [ 15.]\n",
      "[ 23.1579] [ 23.9]\n",
      "[ 23.64] [ 24.]\n",
      "[ 15.4765] [ 16.]\n",
      "[ 13.8691] [ 14.]\n",
      "[ 25.5579] [ 26.6]\n",
      "[ 44.7096] [ 46.6]\n",
      "[ 31.115] [ 31.5]\n",
      "[ 29.1641] [ 29.5]\n",
      "[ 26.4786] [ 27.]\n",
      "[ 24.9798] [ 25.5]\n",
      "[ 19.5661] [ 20.]\n",
      "Fold score (RMSE): 0.5342126488685608\n",
      "Fold #5\n",
      "Step #50, epoch #3, avg. train loss: 26.28529, avg. val loss: 23.11902\n",
      "Step #100, epoch #7, avg. train loss: 4.14423, avg. val loss: 4.20558\n",
      "Step #150, epoch #11, avg. train loss: 2.81061, avg. val loss: 2.83565\n",
      "Step #200, epoch #15, avg. train loss: 2.04829, avg. val loss: 2.05617\n",
      "Step #250, epoch #19, avg. train loss: 1.44071, avg. val loss: 1.43671\n",
      "Step #300, epoch #23, avg. train loss: 1.16614, avg. val loss: 1.18703\n",
      "Step #350, epoch #26, avg. train loss: 0.95145, avg. val loss: 0.96534\n",
      "Step #400, epoch #30, avg. train loss: 0.83353, avg. val loss: 0.84720\n",
      "Step #450, epoch #34, avg. train loss: 0.70365, avg. val loss: 0.73127\n",
      "Step #500, epoch #38, avg. train loss: 0.62153, avg. val loss: 0.63459\n",
      "[ 15.9965] [ 16.5]\n",
      "[ 35.2126] [ 35.7]\n",
      "[ 23.624] [ 24.2]\n",
      "[ 19.6314] [ 20.2]\n",
      "[ 25.5066] [ 26.]\n",
      "[ 21.8272] [ 22.4]\n",
      "[ 31.4321] [ 31.8]\n",
      "[ 30.4633] [ 30.9]\n",
      "[ 18.1969] [ 18.5]\n",
      "[ 15.8266] [ 16.]\n",
      "[ 12.8084] [ 13.]\n",
      "[ 29.5812] [ 30.]\n",
      "[ 14.4635] [ 14.5]\n",
      "[ 40.5754] [ 41.5]\n",
      "[ 20.4968] [ 20.8]\n",
      "[ 12.8915] [ 13.]\n",
      "[ 30.7235] [ 31.]\n",
      "[ 14.7696] [ 15.]\n",
      "[ 22.7265] [ 23.]\n",
      "[ 21.6922] [ 22.]\n",
      "[ 27.6732] [ 28.]\n",
      "[ 15.9179] [ 16.]\n",
      "[ 17.4763] [ 17.7]\n",
      "[ 13.0169] [ 13.]\n",
      "[ 26.0935] [ 26.6]\n",
      "[ 29.552] [ 30.]\n",
      "[ 17.9516] [ 18.1]\n",
      "[ 21.6598] [ 22.]\n",
      "[ 13.8891] [ 14.]\n",
      "[ 23.7228] [ 24.3]\n",
      "[ 13.9965] [ 14.]\n",
      "[ 23.5346] [ 23.9]\n",
      "[ 13.5445] [ 13.]\n",
      "[ 29.176] [ 30.]\n",
      "[ 35.3475] [ 36.]\n",
      "[ 15.8777] [ 16.]\n",
      "[ 28.1525] [ 28.8]\n",
      "[ 35.4579] [ 36.]\n",
      "[ 30.7547] [ 31.3]\n",
      "[ 21.2154] [ 21.5]\n",
      "[ 34.6245] [ 35.]\n",
      "[ 27.5213] [ 28.]\n",
      "[ 17.9726] [ 18.]\n",
      "[ 15.4566] [ 15.5]\n",
      "[ 31.4872] [ 32.]\n",
      "[ 17.066] [ 17.5]\n",
      "[ 19.6903] [ 20.]\n",
      "[ 24.7143] [ 25.]\n",
      "[ 17.8054] [ 18.]\n",
      "[ 38.5306] [ 39.]\n",
      "[ 25.6863] [ 26.]\n",
      "[ 18.955] [ 19.2]\n",
      "[ 23.5518] [ 24.]\n",
      "[ 27.4169] [ 28.]\n",
      "[ 16.6568] [ 17.]\n",
      "[ 21.1562] [ 21.6]\n",
      "[ 21.4551] [ 22.]\n",
      "[ 31.4714] [ 31.9]\n",
      "[ 38.723] [ 39.1]\n",
      "[ 19.2033] [ 19.4]\n",
      "[ 32.8209] [ 33.5]\n",
      "[ 23.6013] [ 24.]\n",
      "[ 25.5864] [ 26.]\n",
      "[ 30.5752] [ 31.]\n",
      "[ 27.2997] [ 28.1]\n",
      "[ 17.8897] [ 18.]\n",
      "[ 26.4203] [ 27.]\n",
      "[ 13.1638] [ 13.]\n",
      "[ 40.0788] [ 40.9]\n",
      "[ 13.2979] [ 13.]\n",
      "[ 15.0557] [ 15.]\n",
      "[ 30.3554] [ 31.]\n",
      "[ 24.4424] [ 25.]\n",
      "[ 15.7379] [ 16.]\n",
      "[ 18.9837] [ 19.]\n",
      "[ 12.0677] [ 12.]\n",
      "[ 20.9442] [ 21.1]\n",
      "[ 37.2229] [ 37.7]\n",
      "[ 25.7477] [ 26.]\n",
      "Fold score (RMSE): 0.4237663745880127\n",
      "Final, out of sample score (RMSE): 0.44417616724967957\n"
     ]
    }
   ],
   "source": [
    "import tensorflow.contrib.learn as skflow\n",
    "import pandas as pd\n",
    "import os\n",
    "import numpy as np\n",
    "from sklearn import metrics\n",
    "from scipy.stats import zscore\n",
    "from sklearn.cross_validation import KFold\n",
    "\n",
    "path = \"./data/\"\n",
    "\n",
    "filename_read = os.path.join(path,\"auto-mpg.csv\")\n",
    "filename_write = os.path.join(path,\"auto-mpg-out-of-sample.csv\")\n",
    "df = pd.read_csv(filename_read,na_values=['NA','?'])\n",
    "\n",
    "# create feature vector\n",
    "missing_median(df, 'horsepower')\n",
    "df.drop('name',1,inplace=True)\n",
    "encode_numeric_zscore(df, 'horsepower')\n",
    "encode_numeric_zscore(df, 'weight')\n",
    "encode_numeric_zscore(df, 'cylinders')\n",
    "encode_numeric_zscore(df, 'displacement')\n",
    "encode_numeric_zscore(df, 'acceleration')\n",
    "encode_text_dummy(df, 'origin')\n",
    "\n",
    "# Shuffle\n",
    "np.random.seed(42)\n",
    "df = df.reindex(np.random.permutation(df.index))\n",
    "df.reset_index(inplace=True, drop=True)\n",
    "\n",
    "# Encode to a 2D matrix for training\n",
    "x,y = to_xy(df,['mpg'])\n",
    "\n",
    "# Cross validate\n",
    "kf = KFold(len(x), n_folds=5)\n",
    "    \n",
    "oos_y = []\n",
    "oos_pred = []\n",
    "fold = 1\n",
    "for train, test in kf:        \n",
    "    print(\"Fold #{}\".format(fold))\n",
    "    fold+=1\n",
    "        \n",
    "    x_train = x[train]\n",
    "    y_train = y[train]\n",
    "    x_test = x[test]\n",
    "    y_test = y[test]\n",
    "        \n",
    "    # Create a deep neural network with 3 hidden layers of 10, 20, 10\n",
    "    regressor = skflow.TensorFlowDNNRegressor(hidden_units=[10, 20, 10], steps=500)\n",
    "\n",
    "    # Early stopping\n",
    "    early_stop = skflow.monitors.ValidationMonitor(x_test, y_test,\n",
    "        early_stopping_rounds=200, print_steps=50)\n",
    "        \n",
    "    # Fit/train neural network\n",
    "    regressor.fit(x, y, monitor=early_stop)\n",
    "\n",
    "    # Add the predictions to the oos prediction list\n",
    "    pred = regressor.predict(x_test)\n",
    "    \n",
    "    for i in range(len(pred)):\n",
    "        print(\"{} {}\".format(pred[i],y_test[i]))\n",
    "    \n",
    "    oos_y.append(y_test)\n",
    "    oos_pred.append(pred)        \n",
    "\n",
    "    # Measure accuracy\n",
    "    score = np.sqrt(metrics.mean_squared_error(pred,y_test))\n",
    "    print(\"Fold score (RMSE): {}\".format(score))\n",
    "\n",
    "\n",
    "# Build the oos prediction list and calculate the error.\n",
    "oos_y = np.concatenate(oos_y)\n",
    "oos_pred = np.concatenate(oos_pred)\n",
    "score = np.sqrt(metrics.mean_squared_error(oos_pred,oos_y))\n",
    "print(\"Final, out of sample score (RMSE): {}\".format(score))    \n",
    "    \n",
    "# Write the cross-validated prediction\n",
    "oos_y = pd.DataFrame(oos_y)\n",
    "oos_pred = pd.DataFrame(oos_pred)\n",
    "oosDF = pd.concat( [df, oos_y, oos_pred],axis=1 )\n",
    "oosDF.to_csv(filename_write,index=False)\n"
   ]
  },
  {
   "cell_type": "markdown",
   "metadata": {},
   "source": [
    "# Training with Cross Validation and a Holdout Set\n",
    "\n",
    "If you have a considerable amount of data, it is always valuable to set aside a holdout set before you crossvalidate.  This hold out set will be the final evaluation before you make use of your model for its real-world use.\n",
    "\n",
    "![Cross Validation and a Holdout Set](https://raw.githubusercontent.com/jeffheaton/t81_558_deep_learning/master/images/class_3_hold_train_val.png \"Cross Validation and a Holdout Set\")\n",
    "\n",
    "The following program makes use of a hodlout set, and then still cross validates.  "
   ]
  },
  {
   "cell_type": "code",
   "execution_count": 27,
   "metadata": {
    "collapsed": false
   },
   "outputs": [
    {
     "name": "stdout",
     "output_type": "stream",
     "text": [
      "Fold #1\n",
      "Step #50, epoch #3, avg. train loss: 26.28529, avg. val loss: 24.36897\n",
      "Step #100, epoch #7, avg. train loss: 4.14423, avg. val loss: 4.49891\n",
      "Step #150, epoch #11, avg. train loss: 2.81061, avg. val loss: 3.08176\n",
      "Step #200, epoch #15, avg. train loss: 2.04829, avg. val loss: 2.23625\n",
      "Step #250, epoch #19, avg. train loss: 1.44071, avg. val loss: 1.54594\n",
      "Step #300, epoch #23, avg. train loss: 1.16614, avg. val loss: 1.26415\n",
      "Step #350, epoch #26, avg. train loss: 0.95145, avg. val loss: 1.02359\n",
      "Step #400, epoch #30, avg. train loss: 0.83353, avg. val loss: 0.89303\n",
      "Step #450, epoch #34, avg. train loss: 0.70365, avg. val loss: 0.76433\n",
      "Step #500, epoch #38, avg. train loss: 0.62153, avg. val loss: 0.66763\n",
      "Fold score (RMSE): 0.47584784030914307\n",
      "Fold #2\n",
      "Step #50, epoch #3, avg. train loss: 26.28529, avg. val loss: 23.21247\n",
      "Step #100, epoch #7, avg. train loss: 4.14423, avg. val loss: 4.09952\n",
      "Step #150, epoch #11, avg. train loss: 2.81061, avg. val loss: 2.73427\n",
      "Step #200, epoch #15, avg. train loss: 2.04829, avg. val loss: 1.96246\n",
      "Step #250, epoch #19, avg. train loss: 1.44071, avg. val loss: 1.37904\n",
      "Step #300, epoch #23, avg. train loss: 1.16614, avg. val loss: 1.13339\n",
      "Step #350, epoch #26, avg. train loss: 0.95145, avg. val loss: 0.92001\n",
      "Step #400, epoch #30, avg. train loss: 0.83353, avg. val loss: 0.80442\n",
      "Step #450, epoch #34, avg. train loss: 0.70365, avg. val loss: 0.69181\n",
      "Step #500, epoch #38, avg. train loss: 0.62153, avg. val loss: 0.60163\n",
      "Fold score (RMSE): 0.462093323469162\n",
      "Fold #3\n",
      "Step #50, epoch #3, avg. train loss: 26.28529, avg. val loss: 23.32214\n",
      "Step #100, epoch #7, avg. train loss: 4.14423, avg. val loss: 4.07071\n",
      "Step #150, epoch #11, avg. train loss: 2.81061, avg. val loss: 2.73452\n",
      "Step #200, epoch #15, avg. train loss: 2.04829, avg. val loss: 2.01027\n",
      "Step #250, epoch #19, avg. train loss: 1.44071, avg. val loss: 1.40615\n",
      "Step #300, epoch #23, avg. train loss: 1.16614, avg. val loss: 1.16010\n",
      "Step #350, epoch #26, avg. train loss: 0.95145, avg. val loss: 0.94061\n",
      "Step #400, epoch #30, avg. train loss: 0.83353, avg. val loss: 0.82465\n",
      "Step #450, epoch #34, avg. train loss: 0.70365, avg. val loss: 0.70810\n",
      "Step #500, epoch #38, avg. train loss: 0.62153, avg. val loss: 0.61712\n",
      "Fold score (RMSE): 0.4775190055370331\n",
      "Fold #4\n",
      "Step #50, epoch #3, avg. train loss: 26.28529, avg. val loss: 22.57838\n",
      "Step #100, epoch #7, avg. train loss: 4.14423, avg. val loss: 4.05816\n",
      "Step #150, epoch #11, avg. train loss: 2.81061, avg. val loss: 2.75206\n",
      "Step #200, epoch #15, avg. train loss: 2.04829, avg. val loss: 1.98246\n",
      "Step #250, epoch #19, avg. train loss: 1.44071, avg. val loss: 1.38396\n",
      "Step #300, epoch #23, avg. train loss: 1.16614, avg. val loss: 1.14151\n",
      "Step #350, epoch #26, avg. train loss: 0.95145, avg. val loss: 0.93207\n",
      "Step #400, epoch #30, avg. train loss: 0.83353, avg. val loss: 0.81169\n",
      "Step #450, epoch #34, avg. train loss: 0.70365, avg. val loss: 0.69628\n",
      "Step #500, epoch #38, avg. train loss: 0.62153, avg. val loss: 0.60403\n",
      "Fold score (RMSE): 0.404416024684906\n",
      "Fold #5\n",
      "Step #50, epoch #3, avg. train loss: 26.28529, avg. val loss: 21.84064\n",
      "Step #100, epoch #7, avg. train loss: 4.14423, avg. val loss: 4.04928\n",
      "Step #150, epoch #11, avg. train loss: 2.81061, avg. val loss: 2.68914\n",
      "Step #200, epoch #15, avg. train loss: 2.04829, avg. val loss: 1.92015\n",
      "Step #250, epoch #19, avg. train loss: 1.44071, avg. val loss: 1.34485\n",
      "Step #300, epoch #23, avg. train loss: 1.16614, avg. val loss: 1.10171\n",
      "Step #350, epoch #26, avg. train loss: 0.95145, avg. val loss: 0.89934\n",
      "Step #400, epoch #30, avg. train loss: 0.83353, avg. val loss: 0.78222\n",
      "Step #450, epoch #34, avg. train loss: 0.70365, avg. val loss: 0.67328\n",
      "Step #500, epoch #38, avg. train loss: 0.62153, avg. val loss: 0.58416\n",
      "Fold score (RMSE): 0.40052589774131775\n",
      "\n",
      "Cross-validated score (RMSE): 0.4456402361392975\n",
      "Holdout score (RMSE): 0.43085187673568726\n"
     ]
    }
   ],
   "source": [
    "import tensorflow.contrib.learn as skflow\n",
    "from sklearn.cross_validation import train_test_split\n",
    "import pandas as pd\n",
    "import os\n",
    "import numpy as np\n",
    "from sklearn import metrics\n",
    "from scipy.stats import zscore\n",
    "from sklearn.cross_validation import KFold\n",
    "\n",
    "path = \"./data/\"\n",
    "\n",
    "filename_read = os.path.join(path,\"auto-mpg.csv\")\n",
    "filename_write = os.path.join(path,\"auto-mpg-holdout.csv\")\n",
    "df = pd.read_csv(filename_read,na_values=['NA','?'])\n",
    "\n",
    "# create feature vector\n",
    "missing_median(df, 'horsepower')\n",
    "df.drop('name',1,inplace=True)\n",
    "encode_numeric_zscore(df, 'horsepower')\n",
    "encode_numeric_zscore(df, 'weight')\n",
    "encode_numeric_zscore(df, 'cylinders')\n",
    "encode_numeric_zscore(df, 'displacement')\n",
    "encode_numeric_zscore(df, 'acceleration')\n",
    "encode_text_dummy(df, 'origin')\n",
    "\n",
    "# Shuffle\n",
    "np.random.seed(42)\n",
    "df = df.reindex(np.random.permutation(df.index))\n",
    "df.reset_index(inplace=True, drop=True)\n",
    "\n",
    "# Encode to a 2D matrix for training\n",
    "x,y = to_xy(df,['mpg'])\n",
    "\n",
    "\n",
    "# Keep a 10% holdout\n",
    "x_main, x_holdout, y_main, y_holdout = train_test_split(    \n",
    "    x, y, test_size=0.10) \n",
    "\n",
    "\n",
    "# Cross validate\n",
    "kf = KFold(len(x_main), n_folds=5)\n",
    "    \n",
    "oos_y = []\n",
    "oos_pred = []\n",
    "fold = 1\n",
    "for train, test in kf:        \n",
    "    print(\"Fold #{}\".format(fold))\n",
    "    fold+=1\n",
    "        \n",
    "    x_train = x_main[train]\n",
    "    y_train = y_main[train]\n",
    "    x_test = x_main[test]\n",
    "    y_test = y_main[test]\n",
    "        \n",
    "    # Create a deep neural network with 3 hidden layers of 10, 20, 10\n",
    "    regressor = skflow.TensorFlowDNNRegressor(hidden_units=[10, 20, 10], steps=500)\n",
    "\n",
    "    # Early stopping\n",
    "    early_stop = skflow.monitors.ValidationMonitor(x_test, y_test,\n",
    "        early_stopping_rounds=200, print_steps=50)\n",
    "        \n",
    "    # Fit/train neural network\n",
    "    regressor.fit(x, y, monitor=early_stop)\n",
    "\n",
    "    # Add the predictions to the OOS prediction list\n",
    "    pred = regressor.predict(x_test)\n",
    "    oos_y.append(y_test)\n",
    "    oos_pred.append(pred)        \n",
    "\n",
    "    # Measure accuracy\n",
    "    score = np.sqrt(metrics.mean_squared_error(pred,y_test))\n",
    "    print(\"Fold score (RMSE): {}\".format(score))\n",
    "\n",
    "\n",
    "# Build the oos prediction list and calculate the error.\n",
    "oos_y = np.concatenate(oos_y)\n",
    "oos_pred = np.concatenate(oos_pred)\n",
    "score = np.sqrt(metrics.mean_squared_error(oos_pred,oos_y))\n",
    "print()\n",
    "print(\"Cross-validated score (RMSE): {}\".format(score))    \n",
    "    \n",
    "# Write the cross-validated prediction\n",
    "holdout_pred = regressor.predict(x_holdout)\n",
    "score = np.sqrt(metrics.mean_squared_error(holdout_pred,y_holdout))\n",
    "print(\"Holdout score (RMSE): {}\".format(score))    \n"
   ]
  },
  {
   "cell_type": "markdown",
   "metadata": {},
   "source": [
    "# How Kaggle Competitions are Scored\n",
    "\n",
    "[Kaggle](https://www.kaggle.com/) is a platform for competitive data science. Competitions are posted onto Kaggle by companies seeking the best model for their data.  Competing in a Kaggle competition is quite a bit of work, I've [competed in one Kaggle competition](https://www.kaggle.com/jeffheaton).   \n",
    "\n",
    "Kaggle awards \"tiers\", such as:\n",
    "\n",
    "* Kaggle Grandmaster\n",
    "* Kaggle Master\n",
    "* Kaggle Expert\n",
    "\n",
    "Your [tier](https://www.kaggle.com/progression) is based on your performance in past competitions.  \n",
    "\n",
    "To compete in Kaggle you simply provide predictions for a dataset that they post.  You do not need to submit any code.  Your prediction output will place you onto the [leaderboard of a competition](https://www.kaggle.com/c/otto-group-product-classification-challenge/leaderboard/public).\n",
    "\n",
    "![How Kaggle Competitions are Scored](https://raw.githubusercontent.com/jeffheaton/t81_558_deep_learning/master/images/class_3_kaggle.png \"How Kaggle Competitions are Scored\")"
   ]
  },
  {
   "cell_type": "markdown",
   "metadata": {
    "collapsed": true
   },
   "source": [
    "An original dataset is sent to Kaggle by the company.  From this dataset, Kaggle posts public data that includes \"train\" and \"test.  For the \"train\" data, the outcomes (y) are provided.  For the test data, no outcomes are provided.  Your submission file contains your predictions for the \"test data\".  When you submit your results, Kaggle will calculate a score on part of your prediction data.  They do not publish want part of the submission data are used for the public and private leaderboard scores (this is a secret to prevent overfitting).  While the competition is still running, Kaggle publishes the public leaderboard ranks.  Once the competition ends, the private leaderboard is revealed to designate the true winners.  Due to overfitting, there is sometimes an upset in positions when the final private leaderboard is revealed.  "
   ]
  },
  {
   "cell_type": "markdown",
   "metadata": {},
   "source": [
    "# Managing Hyperparameters\n",
    "\n",
    "There are many different settings that you can use for a neural network.  These can affect performance.  The following code changes some of these, beyond their default values:"
   ]
  },
  {
   "cell_type": "code",
   "execution_count": 28,
   "metadata": {
    "collapsed": false
   },
   "outputs": [
    {
     "name": "stdout",
     "output_type": "stream",
     "text": [
      "Step #50, epoch #5, avg. train loss: 116.54040, avg. val loss: 112.99763\n",
      "Step #100, epoch #10, avg. train loss: 89.96941, avg. val loss: 87.74393\n",
      "Step #150, epoch #15, avg. train loss: 85.77597, avg. val loss: 82.47623\n",
      "Step #200, epoch #20, avg. train loss: 107.34383, avg. val loss: 105.91818\n",
      "Step #250, epoch #25, avg. train loss: 260.06281, avg. val loss: 255.98512\n",
      "Step #300, epoch #30, avg. train loss: 400.08148, avg. val loss: 385.52271\n",
      "Step #350, epoch #35, avg. train loss: 327.46240, avg. val loss: 332.21866\n",
      "Step #400, epoch #40, avg. train loss: 313.56699, avg. val loss: 296.57434\n",
      "Step #450, epoch #45, avg. train loss: 318.39151, avg. val loss: 307.89630\n",
      "Step #500, epoch #50, avg. train loss: 306.70233, avg. val loss: 293.10837\n",
      "Final score (RMSE): 4.693182945251465\n"
     ]
    },
    {
     "name": "stderr",
     "output_type": "stream",
     "text": [
      "Stopping. Best step:\n",
      " step 320 with loss 4.109667778015137\n"
     ]
    },
    {
     "data": {
      "image/png": "[encoded data removed]",
      "text/plain": [
       "<matplotlib.figure.Figure at 0x7fcf22140978>"
      ]
     },
     "metadata": {},
     "output_type": "display_data"
    }
   ],
   "source": [
    "%matplotlib inline\n",
    "from matplotlib.pyplot import figure, show\n",
    "from numpy import arange\n",
    "import tensorflow.contrib.learn as skflow\n",
    "import pandas as pd\n",
    "import os\n",
    "import numpy as np\n",
    "import tensorflow as tf\n",
    "from sklearn import metrics\n",
    "from scipy.stats import zscore\n",
    "import matplotlib.pyplot as plt\n",
    "\n",
    "path = \"./data/\"\n",
    "\n",
    "filename_read = os.path.join(path,\"auto-mpg.csv\")\n",
    "df = pd.read_csv(filename_read,na_values=['NA','?'])\n",
    "\n",
    "# create feature vector\n",
    "missing_median(df, 'horsepower')\n",
    "df.drop('name',1,inplace=True)\n",
    "encode_numeric_zscore(df, 'horsepower')\n",
    "encode_numeric_zscore(df, 'weight')\n",
    "encode_numeric_zscore(df, 'cylinders')\n",
    "encode_numeric_zscore(df, 'displacement')\n",
    "encode_numeric_zscore(df, 'acceleration')\n",
    "encode_text_dummy(df, 'origin')\n",
    "\n",
    "# Encode to a 2D matrix for training\n",
    "x,y = to_xy(df,['mpg'])\n",
    "\n",
    "# Split into train/test\n",
    "x_train, x_test, y_train, y_test = train_test_split(\n",
    "    x, y, test_size=0.25, random_state=42)\n",
    "\n",
    "# Create a deep neural network with 3 hidden layers of 50, 25, 10\n",
    "regressor = skflow.TensorFlowDNNRegressor(\n",
    "    hidden_units=[50, 25, 10], \n",
    "    batch_size = 32,\n",
    "    optimizer='SGD', \n",
    "    learning_rate=0.1,  \n",
    "    steps=5000)\n",
    "\n",
    "# Early stopping\n",
    "early_stop = skflow.monitors.ValidationMonitor(x_test, y_test,\n",
    "    early_stopping_rounds=200, print_steps=50)\n",
    "\n",
    "# Fit/train neural network\n",
    "regressor.fit(x_train, y_train, monitor=early_stop)\n",
    "\n",
    "# Measure RMSE error.  RMSE is common for regression.\n",
    "pred = regressor.predict(x_test)\n",
    "score = np.sqrt(metrics.mean_squared_error(pred,y_test))\n",
    "print(\"Final score (RMSE): {}\".format(score))\n",
    "\n",
    "# Plot the chart\n",
    "chart_regression(pred,y_test)\n"
   ]
  },
  {
   "cell_type": "markdown",
   "metadata": {},
   "source": [
    "# Grid Search\n",
    "\n",
    "Finding the right set of hyperparameters can be a large task.  Often computational power is thrown at this job.  The scikit-learn grid search makes use of your computer's CPU cores to try every one of a defined number of hyperparameters to see which gets the best score.\n",
    "\n",
    "The following code shows how many CPU cores are available to Python:"
   ]
  },
  {
   "cell_type": "code",
   "execution_count": 29,
   "metadata": {
    "collapsed": false
   },
   "outputs": [
    {
     "name": "stdout",
     "output_type": "stream",
     "text": [
      "Your system has 16 cores.\n"
     ]
    }
   ],
   "source": [
    "import multiprocessing\n",
    "\n",
    "print(\"Your system has {} cores.\".format(multiprocessing.cpu_count()))"
   ]
  },
  {
   "cell_type": "markdown",
   "metadata": {},
   "source": [
    "The following code performs a grid search.  Your system is queried for the number of cores available they are used to scan through the combinations of hyperparameters that you specify."
   ]
  },
  {
   "cell_type": "code",
   "execution_count": 31,
   "metadata": {
    "collapsed": false
   },
   "outputs": [
    {
     "name": "stdout",
     "output_type": "stream",
     "text": [
      "Using 1 cores.\n",
      "Fitting 3 folds for each of 9 candidates, totalling 27 fits\n",
      "Step #50, epoch #2, avg. train loss: 117.61263, avg. val loss: 112.52674\n",
      "Step #100, epoch #4, avg. train loss: 85.18143, avg. val loss: 88.04768\n",
      "Step #150, epoch #6, avg. train loss: 85.25250, avg. val loss: 83.23692\n",
      "Step #200, epoch #8, avg. train loss: 84.87563, avg. val loss: 83.49469\n",
      "Step #250, epoch #10, avg. train loss: 111.80933, avg. val loss: 112.94936\n",
      "Step #300, epoch #12, avg. train loss: 143.66399, avg. val loss: 150.81792\n"
     ]
    },
    {
     "name": "stderr",
     "output_type": "stream",
     "text": [
      "Stopping. Best step:\n",
      " step 115 with loss 4.446322441101074\n"
     ]
    },
    {
     "name": "stdout",
     "output_type": "stream",
     "text": [
      "Step #50, epoch #2, avg. train loss: 121.87177, avg. val loss: nan\n",
      "Step #100, epoch #4, avg. train loss: 91.63583, avg. val loss: nan\n",
      "Step #150, epoch #6, avg. train loss: 85.63168, avg. val loss: nan\n",
      "Step #200, epoch #8, avg. train loss: 122.88097, avg. val loss: nan\n",
      "Step #250, epoch #10, avg. train loss: 132.26941, avg. val loss: nan\n",
      "Step #300, epoch #12, avg. train loss: 122.21429, avg. val loss: nan\n"
     ]
    },
    {
     "name": "stderr",
     "output_type": "stream",
     "text": [
      "Stopping. Best step:\n",
      " step 115 with loss 4.446322441101074\n"
     ]
    },
    {
     "name": "stdout",
     "output_type": "stream",
     "text": [
      "Step #50, epoch #2, avg. train loss: 113.44821, avg. val loss: nan\n",
      "Step #100, epoch #4, avg. train loss: 89.88203, avg. val loss: nan\n",
      "Step #150, epoch #6, avg. train loss: 90.21741, avg. val loss: nan\n",
      "Step #200, epoch #8, avg. train loss: 103.69730, avg. val loss: nan\n",
      "Step #250, epoch #10, avg. train loss: 94.02605, avg. val loss: nan\n",
      "Step #300, epoch #12, avg. train loss: 123.04208, avg. val loss: nan\n"
     ]
    },
    {
     "name": "stderr",
     "output_type": "stream",
     "text": [
      "Stopping. Best step:\n",
      " step 115 with loss 4.446322441101074\n"
     ]
    },
    {
     "name": "stdout",
     "output_type": "stream",
     "text": [
      "Step #50, epoch #2, avg. train loss: 61.50158, avg. val loss: nan\n",
      "Step #100, epoch #4, avg. train loss: 9.21131, avg. val loss: nan\n",
      "Step #150, epoch #6, avg. train loss: 6.62630, avg. val loss: nan\n",
      "Step #200, epoch #8, avg. train loss: 5.72712, avg. val loss: nan\n",
      "Step #250, epoch #10, avg. train loss: 5.34260, avg. val loss: nan\n",
      "Step #300, epoch #12, avg. train loss: 4.67256, avg. val loss: nan\n"
     ]
    },
    {
     "name": "stderr",
     "output_type": "stream",
     "text": [
      "Stopping. Best step:\n",
      " step 115 with loss 4.446322441101074\n"
     ]
    },
    {
     "name": "stdout",
     "output_type": "stream",
     "text": [
      "Step #50, epoch #2, avg. train loss: 16.41841, avg. val loss: nan\n",
      "Step #100, epoch #4, avg. train loss: 8.58952, avg. val loss: nan\n",
      "Step #150, epoch #6, avg. train loss: 6.38897, avg. val loss: nan\n",
      "Step #200, epoch #8, avg. train loss: 5.32702, avg. val loss: nan\n",
      "Step #250, epoch #10, avg. train loss: 5.20406, avg. val loss: nan\n",
      "Step #300, epoch #12, avg. train loss: 4.93201, avg. val loss: nan\n"
     ]
    },
    {
     "name": "stderr",
     "output_type": "stream",
     "text": [
      "Stopping. Best step:\n",
      " step 115 with loss 4.446322441101074\n"
     ]
    },
    {
     "name": "stdout",
     "output_type": "stream",
     "text": [
      "Step #50, epoch #2, avg. train loss: 16.23615, avg. val loss: nan\n",
      "Step #100, epoch #4, avg. train loss: 8.38101, avg. val loss: nan\n",
      "Step #150, epoch #6, avg. train loss: 6.29617, avg. val loss: nan\n",
      "Step #200, epoch #8, avg. train loss: 5.59181, avg. val loss: nan\n",
      "Step #250, epoch #10, avg. train loss: 5.02868, avg. val loss: nan\n",
      "Step #300, epoch #12, avg. train loss: 4.88766, avg. val loss: nan\n"
     ]
    },
    {
     "name": "stderr",
     "output_type": "stream",
     "text": [
      "Stopping. Best step:\n",
      " step 115 with loss 4.446322441101074\n"
     ]
    },
    {
     "name": "stdout",
     "output_type": "stream",
     "text": [
      "Step #50, epoch #2, avg. train loss: 52.81164, avg. val loss: nan\n",
      "Step #100, epoch #4, avg. train loss: 10.55432, avg. val loss: nan\n",
      "Step #150, epoch #6, avg. train loss: 7.15133, avg. val loss: nan\n",
      "Step #200, epoch #8, avg. train loss: 3.65439, avg. val loss: nan\n",
      "Step #250, epoch #10, avg. train loss: 1.48652, avg. val loss: nan\n",
      "Step #300, epoch #12, avg. train loss: 0.60762, avg. val loss: nan\n"
     ]
    },
    {
     "name": "stderr",
     "output_type": "stream",
     "text": [
      "Stopping. Best step:\n",
      " step 115 with loss 4.446322441101074\n"
     ]
    },
    {
     "name": "stdout",
     "output_type": "stream",
     "text": [
      "Step #50, epoch #2, avg. train loss: 47.78577, avg. val loss: nan\n",
      "Step #100, epoch #4, avg. train loss: 9.84935, avg. val loss: nan\n",
      "Step #150, epoch #6, avg. train loss: 7.42973, avg. val loss: nan\n",
      "Step #200, epoch #8, avg. train loss: 4.75682, avg. val loss: nan\n",
      "Step #250, epoch #10, avg. train loss: 2.72797, avg. val loss: nan\n",
      "Step #300, epoch #12, avg. train loss: 1.17476, avg. val loss: nan\n"
     ]
    },
    {
     "name": "stderr",
     "output_type": "stream",
     "text": [
      "Stopping. Best step:\n",
      " step 115 with loss 4.446322441101074\n"
     ]
    },
    {
     "name": "stdout",
     "output_type": "stream",
     "text": [
      "Step #50, epoch #2, avg. train loss: 49.52269, avg. val loss: nan\n",
      "Step #100, epoch #4, avg. train loss: 10.90975, avg. val loss: nan\n",
      "Step #150, epoch #6, avg. train loss: 8.23848, avg. val loss: nan\n",
      "Step #200, epoch #8, avg. train loss: 5.26982, avg. val loss: nan\n",
      "Step #250, epoch #10, avg. train loss: 2.76959, avg. val loss: nan\n",
      "Step #300, epoch #12, avg. train loss: 0.93841, avg. val loss: nan\n"
     ]
    },
    {
     "name": "stderr",
     "output_type": "stream",
     "text": [
      "Stopping. Best step:\n",
      " step 115 with loss 4.446322441101074\n"
     ]
    },
    {
     "name": "stdout",
     "output_type": "stream",
     "text": [
      "Step #50, epoch #3, avg. train loss: 91.19921, avg. val loss: nan\n",
      "Step #100, epoch #7, avg. train loss: 88.60535, avg. val loss: nan\n",
      "Step #150, epoch #11, avg. train loss: 82.71747, avg. val loss: nan\n",
      "Step #200, epoch #15, avg. train loss: 87.88103, avg. val loss: nan\n",
      "Step #250, epoch #19, avg. train loss: 209.92661, avg. val loss: nan\n",
      "Step #300, epoch #23, avg. train loss: 335.36008, avg. val loss: nan\n"
     ]
    },
    {
     "name": "stderr",
     "output_type": "stream",
     "text": [
      "Stopping. Best step:\n",
      " step 115 with loss 4.446322441101074\n"
     ]
    },
    {
     "name": "stdout",
     "output_type": "stream",
     "text": [
      "Step #50, epoch #3, avg. train loss: 150.08495, avg. val loss: nan\n",
      "Step #100, epoch #7, avg. train loss: 89.40485, avg. val loss: nan\n",
      "Step #150, epoch #11, avg. train loss: 87.85256, avg. val loss: nan\n",
      "Step #200, epoch #15, avg. train loss: 89.70992, avg. val loss: nan\n",
      "Step #250, epoch #19, avg. train loss: 127.02207, avg. val loss: nan\n",
      "Step #300, epoch #23, avg. train loss: 192.67430, avg. val loss: nan\n"
     ]
    },
    {
     "name": "stderr",
     "output_type": "stream",
     "text": [
      "Stopping. Best step:\n",
      " step 115 with loss 4.446322441101074\n"
     ]
    },
    {
     "name": "stdout",
     "output_type": "stream",
     "text": [
      "Step #50, epoch #3, avg. train loss: 153.31351, avg. val loss: nan\n",
      "Step #100, epoch #7, avg. train loss: 90.26623, avg. val loss: nan\n",
      "Step #150, epoch #11, avg. train loss: 87.19946, avg. val loss: nan\n",
      "Step #200, epoch #15, avg. train loss: 83.90716, avg. val loss: nan\n",
      "Step #250, epoch #19, avg. train loss: 106.50768, avg. val loss: nan\n",
      "Step #300, epoch #23, avg. train loss: 185.50458, avg. val loss: nan\n"
     ]
    },
    {
     "name": "stderr",
     "output_type": "stream",
     "text": [
      "Stopping. Best step:\n",
      " step 115 with loss 4.446322441101074\n"
     ]
    },
    {
     "name": "stdout",
     "output_type": "stream",
     "text": [
      "Step #50, epoch #3, avg. train loss: 62.92568, avg. val loss: nan\n",
      "Step #100, epoch #7, avg. train loss: 8.15044, avg. val loss: nan\n",
      "Step #150, epoch #11, avg. train loss: 6.27310, avg. val loss: nan\n",
      "Step #200, epoch #15, avg. train loss: 5.60482, avg. val loss: nan\n",
      "Step #250, epoch #19, avg. train loss: 5.50561, avg. val loss: nan\n",
      "Step #300, epoch #23, avg. train loss: 4.76665, avg. val loss: nan\n"
     ]
    },
    {
     "name": "stderr",
     "output_type": "stream",
     "text": [
      "Stopping. Best step:\n",
      " step 115 with loss 4.446322441101074\n"
     ]
    },
    {
     "name": "stdout",
     "output_type": "stream",
     "text": [
      "Step #50, epoch #3, avg. train loss: 15.45518, avg. val loss: nan\n",
      "Step #100, epoch #7, avg. train loss: 8.10728, avg. val loss: nan\n",
      "Step #150, epoch #11, avg. train loss: 6.34476, avg. val loss: nan\n",
      "Step #200, epoch #15, avg. train loss: 5.52079, avg. val loss: nan\n",
      "Step #250, epoch #19, avg. train loss: 5.04669, avg. val loss: nan\n",
      "Step #300, epoch #23, avg. train loss: 4.77823, avg. val loss: nan\n"
     ]
    },
    {
     "name": "stderr",
     "output_type": "stream",
     "text": [
      "Stopping. Best step:\n",
      " step 115 with loss 4.446322441101074\n"
     ]
    },
    {
     "name": "stdout",
     "output_type": "stream",
     "text": [
      "Step #50, epoch #3, avg. train loss: 15.61418, avg. val loss: nan\n",
      "Step #100, epoch #7, avg. train loss: 7.67019, avg. val loss: nan\n",
      "Step #150, epoch #11, avg. train loss: 6.40806, avg. val loss: nan\n",
      "Step #200, epoch #15, avg. train loss: 5.78763, avg. val loss: nan\n",
      "Step #250, epoch #19, avg. train loss: 5.21622, avg. val loss: nan\n",
      "Step #300, epoch #23, avg. train loss: 4.97477, avg. val loss: nan\n"
     ]
    },
    {
     "name": "stderr",
     "output_type": "stream",
     "text": [
      "Stopping. Best step:\n",
      " step 115 with loss 4.446322441101074\n"
     ]
    },
    {
     "name": "stdout",
     "output_type": "stream",
     "text": [
      "Step #50, epoch #3, avg. train loss: 51.01530, avg. val loss: nan\n",
      "Step #100, epoch #7, avg. train loss: 9.98542, avg. val loss: nan\n",
      "Step #150, epoch #11, avg. train loss: 5.80767, avg. val loss: nan\n",
      "Step #200, epoch #15, avg. train loss: 2.73364, avg. val loss: nan\n",
      "Step #250, epoch #19, avg. train loss: 0.91427, avg. val loss: nan\n",
      "Step #300, epoch #23, avg. train loss: 0.42507, avg. val loss: nan\n"
     ]
    },
    {
     "name": "stderr",
     "output_type": "stream",
     "text": [
      "Stopping. Best step:\n",
      " step 115 with loss 4.446322441101074\n"
     ]
    },
    {
     "name": "stdout",
     "output_type": "stream",
     "text": [
      "Step #50, epoch #3, avg. train loss: 47.57145, avg. val loss: nan\n",
      "Step #100, epoch #7, avg. train loss: 9.96222, avg. val loss: nan\n",
      "Step #150, epoch #11, avg. train loss: 6.55372, avg. val loss: nan\n",
      "Step #200, epoch #15, avg. train loss: 3.71244, avg. val loss: nan\n",
      "Step #250, epoch #19, avg. train loss: 1.39550, avg. val loss: nan\n",
      "Step #300, epoch #23, avg. train loss: 0.60042, avg. val loss: nan\n"
     ]
    },
    {
     "name": "stderr",
     "output_type": "stream",
     "text": [
      "Stopping. Best step:\n",
      " step 115 with loss 4.446322441101074\n"
     ]
    },
    {
     "name": "stdout",
     "output_type": "stream",
     "text": [
      "Step #50, epoch #3, avg. train loss: 49.37324, avg. val loss: nan\n",
      "Step #100, epoch #7, avg. train loss: 10.46622, avg. val loss: nan\n",
      "Step #150, epoch #11, avg. train loss: 6.55805, avg. val loss: nan\n",
      "Step #200, epoch #15, avg. train loss: 3.55950, avg. val loss: nan\n",
      "Step #250, epoch #19, avg. train loss: 1.35272, avg. val loss: nan\n",
      "Step #300, epoch #23, avg. train loss: 0.49528, avg. val loss: nan\n"
     ]
    },
    {
     "name": "stderr",
     "output_type": "stream",
     "text": [
      "Stopping. Best step:\n",
      " step 115 with loss 4.446322441101074\n"
     ]
    },
    {
     "name": "stdout",
     "output_type": "stream",
     "text": [
      "Step #50, epoch #7, avg. train loss: 89.73451, avg. val loss: nan\n",
      "Step #100, epoch #14, avg. train loss: 90.25979, avg. val loss: nan\n",
      "Step #150, epoch #21, avg. train loss: 84.47258, avg. val loss: nan\n",
      "Step #200, epoch #28, avg. train loss: 112.24527, avg. val loss: nan\n",
      "Step #250, epoch #35, avg. train loss: 206.69354, avg. val loss: nan\n",
      "Step #300, epoch #42, avg. train loss: 278.86163, avg. val loss: nan\n"
     ]
    },
    {
     "name": "stderr",
     "output_type": "stream",
     "text": [
      "Stopping. Best step:\n",
      " step 115 with loss 4.446322441101074\n"
     ]
    },
    {
     "name": "stdout",
     "output_type": "stream",
     "text": [
      "Step #50, epoch #7, avg. train loss: 166.13017, avg. val loss: nan\n",
      "Step #100, epoch #14, avg. train loss: 92.52643, avg. val loss: nan\n",
      "Step #150, epoch #21, avg. train loss: 83.76660, avg. val loss: nan\n",
      "Step #200, epoch #28, avg. train loss: 98.10649, avg. val loss: nan\n",
      "Step #250, epoch #35, avg. train loss: 156.34482, avg. val loss: nan\n",
      "Step #300, epoch #42, avg. train loss: 257.36945, avg. val loss: nan\n"
     ]
    },
    {
     "name": "stderr",
     "output_type": "stream",
     "text": [
      "Stopping. Best step:\n",
      " step 115 with loss 4.446322441101074\n"
     ]
    },
    {
     "name": "stdout",
     "output_type": "stream",
     "text": [
      "Step #50, epoch #7, avg. train loss: 151.14911, avg. val loss: nan\n",
      "Step #100, epoch #14, avg. train loss: 94.39133, avg. val loss: nan\n",
      "Step #150, epoch #21, avg. train loss: 87.51699, avg. val loss: nan\n",
      "Step #200, epoch #28, avg. train loss: 109.70860, avg. val loss: nan\n",
      "Step #250, epoch #35, avg. train loss: 223.52579, avg. val loss: nan\n",
      "Step #300, epoch #42, avg. train loss: 143.97682, avg. val loss: nan\n"
     ]
    },
    {
     "name": "stderr",
     "output_type": "stream",
     "text": [
      "Stopping. Best step:\n",
      " step 115 with loss 4.446322441101074\n"
     ]
    },
    {
     "name": "stdout",
     "output_type": "stream",
     "text": [
      "Step #50, epoch #7, avg. train loss: 50.72849, avg. val loss: nan\n",
      "Step #100, epoch #14, avg. train loss: 8.30047, avg. val loss: nan\n",
      "Step #150, epoch #21, avg. train loss: 6.33735, avg. val loss: nan\n",
      "Step #200, epoch #28, avg. train loss: 5.85491, avg. val loss: nan\n",
      "Step #250, epoch #35, avg. train loss: 5.18009, avg. val loss: nan\n",
      "Step #300, epoch #42, avg. train loss: 4.82449, avg. val loss: nan\n"
     ]
    },
    {
     "name": "stderr",
     "output_type": "stream",
     "text": [
      "Stopping. Best step:\n",
      " step 115 with loss 4.446322441101074\n"
     ]
    },
    {
     "name": "stdout",
     "output_type": "stream",
     "text": [
      "Step #50, epoch #7, avg. train loss: 16.08327, avg. val loss: nan\n",
      "Step #100, epoch #14, avg. train loss: 8.51062, avg. val loss: nan\n",
      "Step #150, epoch #21, avg. train loss: 6.14985, avg. val loss: nan\n",
      "Step #200, epoch #28, avg. train loss: 5.34735, avg. val loss: nan\n",
      "Step #250, epoch #35, avg. train loss: 4.74940, avg. val loss: nan\n",
      "Step #300, epoch #42, avg. train loss: 4.46643, avg. val loss: nan\n"
     ]
    },
    {
     "name": "stderr",
     "output_type": "stream",
     "text": [
      "Stopping. Best step:\n",
      " step 115 with loss 4.446322441101074\n"
     ]
    },
    {
     "name": "stdout",
     "output_type": "stream",
     "text": [
      "Step #50, epoch #7, avg. train loss: 16.68110, avg. val loss: nan\n",
      "Step #100, epoch #14, avg. train loss: 8.31094, avg. val loss: nan\n",
      "Step #150, epoch #21, avg. train loss: 6.15864, avg. val loss: nan\n",
      "Step #200, epoch #28, avg. train loss: 5.64206, avg. val loss: nan\n",
      "Step #250, epoch #35, avg. train loss: 4.68322, avg. val loss: nan\n",
      "Step #300, epoch #42, avg. train loss: 4.50705, avg. val loss: nan\n"
     ]
    },
    {
     "name": "stderr",
     "output_type": "stream",
     "text": [
      "Stopping. Best step:\n",
      " step 115 with loss 4.446322441101074\n"
     ]
    },
    {
     "name": "stdout",
     "output_type": "stream",
     "text": [
      "Step #50, epoch #7, avg. train loss: 50.39196, avg. val loss: nan\n",
      "Step #100, epoch #14, avg. train loss: 9.64381, avg. val loss: nan\n",
      "Step #150, epoch #21, avg. train loss: 5.59810, avg. val loss: nan\n",
      "Step #200, epoch #28, avg. train loss: 2.51834, avg. val loss: nan\n",
      "Step #250, epoch #35, avg. train loss: 0.72687, avg. val loss: nan\n",
      "Step #300, epoch #42, avg. train loss: 0.40850, avg. val loss: nan\n"
     ]
    },
    {
     "name": "stderr",
     "output_type": "stream",
     "text": [
      "Stopping. Best step:\n",
      " step 115 with loss 4.446322441101074\n"
     ]
    },
    {
     "name": "stdout",
     "output_type": "stream",
     "text": [
      "Step #50, epoch #7, avg. train loss: 47.67574, avg. val loss: nan\n",
      "Step #100, epoch #14, avg. train loss: 9.44921, avg. val loss: nan\n",
      "Step #150, epoch #21, avg. train loss: 4.80503, avg. val loss: nan\n",
      "Step #200, epoch #28, avg. train loss: 1.94174, avg. val loss: nan\n",
      "Step #250, epoch #35, avg. train loss: 0.71709, avg. val loss: nan\n",
      "Step #300, epoch #42, avg. train loss: 0.46327, avg. val loss: nan\n"
     ]
    },
    {
     "name": "stderr",
     "output_type": "stream",
     "text": [
      "Stopping. Best step:\n",
      " step 115 with loss 4.446322441101074\n"
     ]
    },
    {
     "name": "stdout",
     "output_type": "stream",
     "text": [
      "Step #50, epoch #7, avg. train loss: 49.50134, avg. val loss: nan\n",
      "Step #100, epoch #14, avg. train loss: 9.81375, avg. val loss: nan\n",
      "Step #150, epoch #21, avg. train loss: 5.39176, avg. val loss: nan\n",
      "Step #200, epoch #28, avg. train loss: 2.54223, avg. val loss: nan\n",
      "Step #250, epoch #35, avg. train loss: 0.77944, avg. val loss: nan\n",
      "Step #300, epoch #42, avg. train loss: 0.42825, avg. val loss: nan\n"
     ]
    },
    {
     "name": "stderr",
     "output_type": "stream",
     "text": [
      "Stopping. Best step:\n",
      " step 115 with loss 4.446322441101074\n",
      "[Parallel(n_jobs=1)]: Done  27 out of  27 | elapsed:  1.1min finished\n"
     ]
    },
    {
     "name": "stdout",
     "output_type": "stream",
     "text": [
      "Step #50, epoch #5, avg. train loss: 49.15835, avg. val loss: nan\n",
      "Step #100, epoch #10, avg. train loss: 9.54381, avg. val loss: nan\n",
      "Step #150, epoch #15, avg. train loss: 5.08737, avg. val loss: nan\n",
      "Step #200, epoch #20, avg. train loss: 1.99072, avg. val loss: nan\n",
      "Step #250, epoch #25, avg. train loss: 0.60585, avg. val loss: nan\n",
      "Step #300, epoch #30, avg. train loss: 0.44362, avg. val loss: nan\n",
      "Final score (RMSE): 0.7907052040100098\n",
      "Final options: {'batch_size': 32, 'learning_rate': 0.001}\n"
     ]
    },
    {
     "name": "stderr",
     "output_type": "stream",
     "text": [
      "Stopping. Best step:\n",
      " step 115 with loss 4.446322441101074\n"
     ]
    },
    {
     "data": {
      "image/png": "[encoded data removed]",
      "text/plain": [
       "<matplotlib.figure.Figure at 0x7fcf218b9f60>"
      ]
     },
     "metadata": {},
     "output_type": "display_data"
    },
    {
     "name": "stdout",
     "output_type": "stream",
     "text": [
      "Elapsed time: 0:01:05.73\n"
     ]
    }
   ],
   "source": [
    "%matplotlib inline\n",
    "from matplotlib.pyplot import figure, show\n",
    "from numpy import arange\n",
    "import tensorflow.contrib.learn as skflow\n",
    "import pandas as pd\n",
    "import os\n",
    "import numpy as np\n",
    "import tensorflow as tf\n",
    "from sklearn import metrics\n",
    "from scipy.stats import zscore\n",
    "from sklearn.grid_search import GridSearchCV\n",
    "import multiprocessing\n",
    "import time\n",
    "from sklearn.cross_validation import train_test_split\n",
    "import matplotlib.pyplot as plt\n",
    "\n",
    "def main():\n",
    "    path = \"./data/\"\n",
    "\n",
    "    filename_read = os.path.join(path,\"auto-mpg.csv\")\n",
    "    df = pd.read_csv(filename_read,na_values=['NA','?'])\n",
    "    \n",
    "    start_time = time.time()\n",
    "\n",
    "    # create feature vector\n",
    "    missing_median(df, 'horsepower')\n",
    "    df.drop('name',1,inplace=True)\n",
    "    encode_numeric_zscore(df, 'horsepower')\n",
    "    encode_numeric_zscore(df, 'weight')\n",
    "    encode_numeric_zscore(df, 'cylinders')\n",
    "    encode_numeric_zscore(df, 'displacement')\n",
    "    encode_numeric_zscore(df, 'acceleration')\n",
    "    encode_text_dummy(df, 'origin')\n",
    "\n",
    "    # Encode to a 2D matrix for training\n",
    "    x,y = to_xy(df,['mpg'])\n",
    "\n",
    "    # Split into train/test\n",
    "    x_train, x_test, y_train, y_test = train_test_split(\n",
    "        x, y, test_size=0.25, random_state=42)\n",
    "\n",
    "    # The hyperparameters specified here will be searched.  Every combination.\n",
    "    param_grid = {\n",
    "        'learning_rate': [0.1, 0.01, 0.001],\n",
    "        'batch_size': [8, 16, 32]\n",
    "    }\n",
    "\n",
    "    # Create a deep neural network.  The hyperparameters specified here remain fixed.\n",
    "    model = skflow.TensorFlowDNNRegressor(\n",
    "        hidden_units=[50, 25, 10], \n",
    "        batch_size = 32,\n",
    "        optimizer='SGD', \n",
    "        steps=5000)\n",
    "\n",
    "    # Early stopping\n",
    "    early_stop = skflow.monitors.ValidationMonitor(x_test, y_test,\n",
    "        early_stopping_rounds=200, print_steps=50)\n",
    "    \n",
    "    # Startup grid search\n",
    "    threads = 1# multiprocessing.cpu_count()\n",
    "    print(\"Using {} cores.\".format(threads))\n",
    "    regressor = GridSearchCV(model, verbose=True, n_jobs=threads, \n",
    "                             param_grid=param_grid,fit_params={'monitor':early_stop})\n",
    "\n",
    "    # Fit/train neural network\n",
    "    regressor.fit(x_train, y_train)\n",
    "\n",
    "    # Measure RMSE error.  RMSE is common for regression.\n",
    "    pred = regressor.predict(x_test)\n",
    "    score = np.sqrt(metrics.mean_squared_error(pred,y_test))\n",
    "    print(\"Final score (RMSE): {}\".format(score))\n",
    "    print(\"Final options: {}\".format(regressor.best_params_))\n",
    "\n",
    "    # Plot the chart\n",
    "    chart_regression(pred,y_test)\n",
    "    \n",
    "    elapsed_time = time.time() - start_time\n",
    "    print(\"Elapsed time: {}\".format(hms_string(elapsed_time)))\n",
    "\n",
    "\n",
    "# Allow windows to multi-thread (unneeded on advanced OS's)\n",
    "# See: https://docs.python.org/2/library/multiprocessing.html\n",
    "if __name__ == '__main__':\n",
    "    main()\n",
    "\n"
   ]
  },
  {
   "cell_type": "markdown",
   "metadata": {},
   "source": [
    "The best combination of hyperparameters are displayed."
   ]
  },
  {
   "cell_type": "markdown",
   "metadata": {},
   "source": [
    "# Random Search\n",
    "\n",
    "It is also possable to conduct a random search.  The random search is similar to the grid search, except that the entire search space is not used.  Rather, random points in the search space are tried.  For a random search you must specify the number of hyperparameter iterations (n_iter) to try."
   ]
  },
  {
   "cell_type": "code",
   "execution_count": 35,
   "metadata": {
    "collapsed": false
   },
   "outputs": [
    {
     "name": "stdout",
     "output_type": "stream",
     "text": [
      "Using 1 cores.\n",
      "Fitting 3 folds for each of 10 candidates, totalling 30 fits\n",
      "Step #50, epoch #5, avg. train loss: 119.03162, avg. val loss: 113.05585\n",
      "Step #100, epoch #11, avg. train loss: 91.39496, avg. val loss: 87.70108\n",
      "Step #150, epoch #16, avg. train loss: 84.16493, avg. val loss: 82.91374\n",
      "Step #200, epoch #22, avg. train loss: 110.80615, avg. val loss: 108.89703\n",
      "Step #250, epoch #27, avg. train loss: 217.65082, avg. val loss: 209.06215\n",
      "Step #300, epoch #33, avg. train loss: 281.74396, avg. val loss: 271.19662\n"
     ]
    },
    {
     "name": "stderr",
     "output_type": "stream",
     "text": [
      "Stopping. Best step:\n",
      " step 121 with loss 9.178274154663086\n"
     ]
    },
    {
     "name": "stdout",
     "output_type": "stream",
     "text": [
      "Step #50, epoch #5, avg. train loss: 194.77887, avg. val loss: nan\n",
      "Step #100, epoch #10, avg. train loss: 464.68176, avg. val loss: nan\n",
      "Step #150, epoch #15, avg. train loss: 508.88062, avg. val loss: nan\n",
      "Step #200, epoch #20, avg. train loss: 484.13281, avg. val loss: nan\n",
      "Step #250, epoch #25, avg. train loss: 556.06689, avg. val loss: nan\n",
      "Step #300, epoch #30, avg. train loss: 579.09985, avg. val loss: nan\n"
     ]
    },
    {
     "name": "stderr",
     "output_type": "stream",
     "text": [
      "Stopping. Best step:\n",
      " step 121 with loss 9.178274154663086\n"
     ]
    },
    {
     "name": "stdout",
     "output_type": "stream",
     "text": [
      "Step #50, epoch #5, avg. train loss: 278.04095, avg. val loss: nan\n",
      "Step #100, epoch #10, avg. train loss: 88.87047, avg. val loss: nan\n",
      "Step #150, epoch #15, avg. train loss: 84.49898, avg. val loss: nan\n",
      "Step #200, epoch #20, avg. train loss: 81.49370, avg. val loss: nan\n",
      "Step #250, epoch #25, avg. train loss: 85.08032, avg. val loss: nan\n",
      "Step #300, epoch #30, avg. train loss: 95.25882, avg. val loss: nan\n"
     ]
    },
    {
     "name": "stderr",
     "output_type": "stream",
     "text": [
      "Stopping. Best step:\n",
      " step 121 with loss 9.178274154663086\n"
     ]
    },
    {
     "name": "stdout",
     "output_type": "stream",
     "text": [
      "Step #50, epoch #2, avg. train loss: 46.10161, avg. val loss: nan\n",
      "Step #100, epoch #4, avg. train loss: 9.21131, avg. val loss: nan\n",
      "Step #150, epoch #6, avg. train loss: 6.62630, avg. val loss: nan\n",
      "Step #200, epoch #8, avg. train loss: 5.72712, avg. val loss: nan\n",
      "Step #250, epoch #10, avg. train loss: 5.34260, avg. val loss: nan\n",
      "Step #300, epoch #12, avg. train loss: 4.67256, avg. val loss: nan\n"
     ]
    },
    {
     "name": "stderr",
     "output_type": "stream",
     "text": [
      "Stopping. Best step:\n",
      " step 121 with loss 9.178274154663086\n"
     ]
    },
    {
     "name": "stdout",
     "output_type": "stream",
     "text": [
      "Step #50, epoch #2, avg. train loss: 15.46994, avg. val loss: nan\n",
      "Step #100, epoch #4, avg. train loss: 8.58952, avg. val loss: nan\n",
      "Step #150, epoch #6, avg. train loss: 6.38897, avg. val loss: nan\n",
      "Step #200, epoch #8, avg. train loss: 5.32702, avg. val loss: nan\n",
      "Step #250, epoch #10, avg. train loss: 5.20406, avg. val loss: nan\n",
      "Step #300, epoch #12, avg. train loss: 4.93201, avg. val loss: nan\n"
     ]
    },
    {
     "name": "stderr",
     "output_type": "stream",
     "text": [
      "Stopping. Best step:\n",
      " step 121 with loss 9.178274154663086\n"
     ]
    },
    {
     "name": "stdout",
     "output_type": "stream",
     "text": [
      "Step #50, epoch #2, avg. train loss: 15.19263, avg. val loss: nan\n",
      "Step #100, epoch #4, avg. train loss: 8.38101, avg. val loss: nan\n",
      "Step #150, epoch #6, avg. train loss: 6.29617, avg. val loss: nan\n",
      "Step #200, epoch #8, avg. train loss: 5.59181, avg. val loss: nan\n",
      "Step #250, epoch #10, avg. train loss: 5.02868, avg. val loss: nan\n",
      "Step #300, epoch #12, avg. train loss: 4.88766, avg. val loss: nan\n"
     ]
    },
    {
     "name": "stderr",
     "output_type": "stream",
     "text": [
      "Stopping. Best step:\n",
      " step 121 with loss 9.178274154663086\n"
     ]
    },
    {
     "name": "stdout",
     "output_type": "stream",
     "text": [
      "Step #50, epoch #7, avg. train loss: 15.78159, avg. val loss: nan\n",
      "Step #100, epoch #14, avg. train loss: 8.28783, avg. val loss: nan\n",
      "Step #150, epoch #21, avg. train loss: 6.49213, avg. val loss: nan\n",
      "Step #200, epoch #28, avg. train loss: 5.75834, avg. val loss: nan\n",
      "Step #250, epoch #35, avg. train loss: 5.12233, avg. val loss: nan\n",
      "Step #300, epoch #42, avg. train loss: 4.76318, avg. val loss: nan\n"
     ]
    },
    {
     "name": "stderr",
     "output_type": "stream",
     "text": [
      "Stopping. Best step:\n",
      " step 121 with loss 9.178274154663086\n"
     ]
    },
    {
     "name": "stdout",
     "output_type": "stream",
     "text": [
      "Step #50, epoch #7, avg. train loss: 14.72083, avg. val loss: nan\n",
      "Step #100, epoch #14, avg. train loss: 8.41516, avg. val loss: nan\n",
      "Step #150, epoch #21, avg. train loss: 6.22204, avg. val loss: nan\n",
      "Step #200, epoch #28, avg. train loss: 5.39221, avg. val loss: nan\n",
      "Step #250, epoch #35, avg. train loss: 4.83101, avg. val loss: nan\n",
      "Step #300, epoch #42, avg. train loss: 4.42398, avg. val loss: nan\n"
     ]
    },
    {
     "name": "stderr",
     "output_type": "stream",
     "text": [
      "Stopping. Best step:\n",
      " step 121 with loss 9.178274154663086\n"
     ]
    },
    {
     "name": "stdout",
     "output_type": "stream",
     "text": [
      "Step #50, epoch #7, avg. train loss: 15.08047, avg. val loss: nan\n",
      "Step #100, epoch #14, avg. train loss: 7.79407, avg. val loss: nan\n",
      "Step #150, epoch #21, avg. train loss: 6.57559, avg. val loss: nan\n",
      "Step #200, epoch #28, avg. train loss: 5.36187, avg. val loss: nan\n",
      "Step #250, epoch #35, avg. train loss: 5.08710, avg. val loss: nan\n",
      "Step #300, epoch #42, avg. train loss: 4.71129, avg. val loss: nan\n"
     ]
    },
    {
     "name": "stderr",
     "output_type": "stream",
     "text": [
      "Stopping. Best step:\n",
      " step 121 with loss 9.178274154663086\n"
     ]
    },
    {
     "name": "stdout",
     "output_type": "stream",
     "text": [
      "Step #50, epoch #6, avg. train loss: 85.77355, avg. val loss: nan\n",
      "Step #100, epoch #12, avg. train loss: 90.22788, avg. val loss: nan\n",
      "Step #150, epoch #18, avg. train loss: 89.28012, avg. val loss: nan\n",
      "Step #200, epoch #25, avg. train loss: 141.62619, avg. val loss: nan\n",
      "Step #250, epoch #31, avg. train loss: 263.86884, avg. val loss: nan\n",
      "Step #300, epoch #37, avg. train loss: 317.06161, avg. val loss: nan\n"
     ]
    },
    {
     "name": "stderr",
     "output_type": "stream",
     "text": [
      "Stopping. Best step:\n",
      " step 121 with loss 9.178274154663086\n"
     ]
    },
    {
     "name": "stdout",
     "output_type": "stream",
     "text": [
      "Step #50, epoch #6, avg. train loss: 171.49805, avg. val loss: nan\n",
      "Step #100, epoch #12, avg. train loss: 88.97533, avg. val loss: nan\n",
      "Step #150, epoch #18, avg. train loss: 83.92780, avg. val loss: nan\n",
      "Step #200, epoch #25, avg. train loss: 88.47162, avg. val loss: nan\n",
      "Step #250, epoch #31, avg. train loss: 163.38989, avg. val loss: nan\n",
      "Step #300, epoch #37, avg. train loss: 259.68347, avg. val loss: nan\n"
     ]
    },
    {
     "name": "stderr",
     "output_type": "stream",
     "text": [
      "Stopping. Best step:\n",
      " step 121 with loss 9.178274154663086\n"
     ]
    },
    {
     "name": "stdout",
     "output_type": "stream",
     "text": [
      "Step #50, epoch #6, avg. train loss: 161.79581, avg. val loss: nan\n",
      "Step #100, epoch #12, avg. train loss: 94.75294, avg. val loss: nan\n",
      "Step #150, epoch #18, avg. train loss: 88.48658, avg. val loss: nan\n",
      "Step #200, epoch #25, avg. train loss: 146.03804, avg. val loss: nan\n",
      "Step #250, epoch #31, avg. train loss: 315.62747, avg. val loss: nan\n",
      "Step #300, epoch #37, avg. train loss: 385.94479, avg. val loss: nan\n"
     ]
    },
    {
     "name": "stderr",
     "output_type": "stream",
     "text": [
      "Stopping. Best step:\n",
      " step 121 with loss 9.178274154663086\n"
     ]
    },
    {
     "name": "stdout",
     "output_type": "stream",
     "text": [
      "Step #50, epoch #2, avg. train loss: 181.98497, avg. val loss: nan\n",
      "Step #100, epoch #4, avg. train loss: 88.39139, avg. val loss: nan\n",
      "Step #150, epoch #6, avg. train loss: 86.26452, avg. val loss: nan\n",
      "Step #200, epoch #9, avg. train loss: 84.44620, avg. val loss: nan\n",
      "Step #250, epoch #11, avg. train loss: 78.79990, avg. val loss: nan\n",
      "Step #300, epoch #13, avg. train loss: 115.07505, avg. val loss: nan\n"
     ]
    },
    {
     "name": "stderr",
     "output_type": "stream",
     "text": [
      "Stopping. Best step:\n",
      " step 121 with loss 9.178274154663086\n"
     ]
    },
    {
     "name": "stdout",
     "output_type": "stream",
     "text": [
      "Step #50, epoch #2, avg. train loss: 133.81071, avg. val loss: nan\n",
      "Step #100, epoch #4, avg. train loss: 271.67899, avg. val loss: nan\n",
      "Step #150, epoch #6, avg. train loss: 469.61261, avg. val loss: nan\n",
      "Step #200, epoch #8, avg. train loss: 267.93613, avg. val loss: nan\n",
      "Step #250, epoch #10, avg. train loss: 256.91455, avg. val loss: nan\n",
      "Step #300, epoch #13, avg. train loss: 215.50307, avg. val loss: nan\n"
     ]
    },
    {
     "name": "stderr",
     "output_type": "stream",
     "text": [
      "Stopping. Best step:\n",
      " step 121 with loss 9.178274154663086\n"
     ]
    },
    {
     "name": "stdout",
     "output_type": "stream",
     "text": [
      "Step #50, epoch #2, avg. train loss: 137.73425, avg. val loss: nan\n",
      "Step #100, epoch #4, avg. train loss: 103.73207, avg. val loss: nan\n",
      "Step #150, epoch #6, avg. train loss: 100.02467, avg. val loss: nan\n",
      "Step #200, epoch #8, avg. train loss: 98.61755, avg. val loss: nan\n",
      "Step #250, epoch #10, avg. train loss: 96.03592, avg. val loss: nan\n",
      "Step #300, epoch #13, avg. train loss: 80.96527, avg. val loss: nan\n"
     ]
    },
    {
     "name": "stderr",
     "output_type": "stream",
     "text": [
      "Stopping. Best step:\n",
      " step 121 with loss 9.178274154663086\n"
     ]
    },
    {
     "name": "stdout",
     "output_type": "stream",
     "text": [
      "Step #50, epoch #2, avg. train loss: 106.72546, avg. val loss: nan\n",
      "Step #100, epoch #4, avg. train loss: 85.18143, avg. val loss: nan\n",
      "Step #150, epoch #6, avg. train loss: 85.25250, avg. val loss: nan\n",
      "Step #200, epoch #8, avg. train loss: 84.87563, avg. val loss: nan\n",
      "Step #250, epoch #10, avg. train loss: 111.80933, avg. val loss: nan\n",
      "Step #300, epoch #12, avg. train loss: 143.66399, avg. val loss: nan\n"
     ]
    },
    {
     "name": "stderr",
     "output_type": "stream",
     "text": [
      "Stopping. Best step:\n",
      " step 121 with loss 9.178274154663086\n"
     ]
    },
    {
     "name": "stdout",
     "output_type": "stream",
     "text": [
      "Step #50, epoch #2, avg. train loss: 125.36861, avg. val loss: nan\n",
      "Step #100, epoch #4, avg. train loss: 91.63583, avg. val loss: nan\n",
      "Step #150, epoch #6, avg. train loss: 85.63168, avg. val loss: nan\n",
      "Step #200, epoch #8, avg. train loss: 122.88097, avg. val loss: nan\n",
      "Step #250, epoch #10, avg. train loss: 132.26941, avg. val loss: nan\n",
      "Step #300, epoch #12, avg. train loss: 122.21429, avg. val loss: nan\n"
     ]
    },
    {
     "name": "stderr",
     "output_type": "stream",
     "text": [
      "Stopping. Best step:\n",
      " step 121 with loss 9.178274154663086\n"
     ]
    },
    {
     "name": "stdout",
     "output_type": "stream",
     "text": [
      "Step #50, epoch #2, avg. train loss: 111.61111, avg. val loss: nan\n",
      "Step #100, epoch #4, avg. train loss: 89.88203, avg. val loss: nan\n",
      "Step #150, epoch #6, avg. train loss: 90.21741, avg. val loss: nan\n",
      "Step #200, epoch #8, avg. train loss: 103.69730, avg. val loss: nan\n",
      "Step #250, epoch #10, avg. train loss: 94.02605, avg. val loss: nan\n",
      "Step #300, epoch #12, avg. train loss: 123.04208, avg. val loss: nan\n"
     ]
    },
    {
     "name": "stderr",
     "output_type": "stream",
     "text": [
      "Stopping. Best step:\n",
      " step 121 with loss 9.178274154663086\n"
     ]
    },
    {
     "name": "stdout",
     "output_type": "stream",
     "text": [
      "Step #50, epoch #3, avg. train loss: 71.46045, avg. val loss: nan\n",
      "Step #100, epoch #7, avg. train loss: 7.74066, avg. val loss: nan\n",
      "Step #150, epoch #10, avg. train loss: 6.72546, avg. val loss: nan\n",
      "Step #200, epoch #14, avg. train loss: 5.93429, avg. val loss: nan\n",
      "Step #250, epoch #17, avg. train loss: 5.20244, avg. val loss: nan\n",
      "Step #300, epoch #21, avg. train loss: 4.89661, avg. val loss: nan\n"
     ]
    },
    {
     "name": "stderr",
     "output_type": "stream",
     "text": [
      "Stopping. Best step:\n",
      " step 121 with loss 9.178274154663086\n"
     ]
    },
    {
     "name": "stdout",
     "output_type": "stream",
     "text": [
      "Step #50, epoch #3, avg. train loss: 14.40589, avg. val loss: nan\n",
      "Step #100, epoch #7, avg. train loss: 7.98830, avg. val loss: nan\n",
      "Step #150, epoch #10, avg. train loss: 6.61255, avg. val loss: nan\n",
      "Step #200, epoch #14, avg. train loss: 5.57532, avg. val loss: nan\n",
      "Step #250, epoch #17, avg. train loss: 5.36095, avg. val loss: nan\n",
      "Step #300, epoch #21, avg. train loss: 4.51519, avg. val loss: nan\n"
     ]
    },
    {
     "name": "stderr",
     "output_type": "stream",
     "text": [
      "Stopping. Best step:\n",
      " step 121 with loss 9.178274154663086\n"
     ]
    },
    {
     "name": "stdout",
     "output_type": "stream",
     "text": [
      "Step #50, epoch #3, avg. train loss: 14.93016, avg. val loss: nan\n",
      "Step #100, epoch #7, avg. train loss: 7.50097, avg. val loss: nan\n",
      "Step #150, epoch #10, avg. train loss: 6.26154, avg. val loss: nan\n",
      "Step #200, epoch #14, avg. train loss: 5.33556, avg. val loss: nan\n",
      "Step #250, epoch #17, avg. train loss: 4.81537, avg. val loss: nan\n",
      "Step #300, epoch #21, avg. train loss: 5.01971, avg. val loss: nan\n"
     ]
    },
    {
     "name": "stderr",
     "output_type": "stream",
     "text": [
      "Stopping. Best step:\n",
      " step 121 with loss 9.178274154663086\n"
     ]
    },
    {
     "name": "stdout",
     "output_type": "stream",
     "text": [
      "Step #50, epoch #4, avg. train loss: 16.68076, avg. val loss: nan\n",
      "Step #100, epoch #8, avg. train loss: 7.31574, avg. val loss: nan\n",
      "Step #150, epoch #12, avg. train loss: 6.45510, avg. val loss: nan\n",
      "Step #200, epoch #16, avg. train loss: 6.00557, avg. val loss: nan\n",
      "Step #250, epoch #20, avg. train loss: 5.20524, avg. val loss: nan\n",
      "Step #300, epoch #25, avg. train loss: 4.69878, avg. val loss: nan\n"
     ]
    },
    {
     "name": "stderr",
     "output_type": "stream",
     "text": [
      "Stopping. Best step:\n",
      " step 121 with loss 9.178274154663086\n"
     ]
    },
    {
     "name": "stdout",
     "output_type": "stream",
     "text": [
      "Step #50, epoch #4, avg. train loss: 13.62711, avg. val loss: nan\n",
      "Step #100, epoch #8, avg. train loss: 7.99741, avg. val loss: nan\n",
      "Step #150, epoch #12, avg. train loss: 6.06766, avg. val loss: nan\n",
      "Step #200, epoch #16, avg. train loss: 5.25168, avg. val loss: nan\n",
      "Step #250, epoch #20, avg. train loss: 4.76334, avg. val loss: nan\n",
      "Step #300, epoch #25, avg. train loss: 4.73252, avg. val loss: nan\n"
     ]
    },
    {
     "name": "stderr",
     "output_type": "stream",
     "text": [
      "Stopping. Best step:\n",
      " step 121 with loss 9.178274154663086\n"
     ]
    },
    {
     "name": "stdout",
     "output_type": "stream",
     "text": [
      "Step #50, epoch #4, avg. train loss: 15.16447, avg. val loss: nan\n",
      "Step #100, epoch #8, avg. train loss: 8.50342, avg. val loss: nan\n",
      "Step #150, epoch #12, avg. train loss: 6.39463, avg. val loss: nan\n",
      "Step #200, epoch #16, avg. train loss: 5.53198, avg. val loss: nan\n",
      "Step #250, epoch #20, avg. train loss: 5.05940, avg. val loss: nan\n",
      "Step #300, epoch #25, avg. train loss: 4.76049, avg. val loss: nan\n"
     ]
    },
    {
     "name": "stderr",
     "output_type": "stream",
     "text": [
      "Stopping. Best step:\n",
      " step 121 with loss 9.178274154663086\n"
     ]
    },
    {
     "name": "stdout",
     "output_type": "stream",
     "text": [
      "Step #50, epoch #5, avg. train loss: 16.45395, avg. val loss: nan\n",
      "Step #100, epoch #10, avg. train loss: 7.75139, avg. val loss: nan\n",
      "Step #150, epoch #15, avg. train loss: 6.65841, avg. val loss: nan\n",
      "Step #200, epoch #20, avg. train loss: 5.48109, avg. val loss: nan\n",
      "Step #250, epoch #25, avg. train loss: 5.22986, avg. val loss: nan\n",
      "Step #300, epoch #30, avg. train loss: 4.80384, avg. val loss: nan\n"
     ]
    },
    {
     "name": "stderr",
     "output_type": "stream",
     "text": [
      "Stopping. Best step:\n",
      " step 121 with loss 9.178274154663086\n"
     ]
    },
    {
     "name": "stdout",
     "output_type": "stream",
     "text": [
      "Step #50, epoch #5, avg. train loss: 15.43036, avg. val loss: nan\n",
      "Step #100, epoch #10, avg. train loss: 7.79939, avg. val loss: nan\n",
      "Step #150, epoch #15, avg. train loss: 5.97565, avg. val loss: nan\n",
      "Step #200, epoch #20, avg. train loss: 5.34746, avg. val loss: nan\n",
      "Step #250, epoch #25, avg. train loss: 4.57847, avg. val loss: nan\n",
      "Step #300, epoch #30, avg. train loss: 4.41130, avg. val loss: nan\n"
     ]
    },
    {
     "name": "stderr",
     "output_type": "stream",
     "text": [
      "Stopping. Best step:\n",
      " step 121 with loss 9.178274154663086\n"
     ]
    },
    {
     "name": "stdout",
     "output_type": "stream",
     "text": [
      "Step #50, epoch #5, avg. train loss: 16.12781, avg. val loss: nan\n",
      "Step #100, epoch #10, avg. train loss: 8.16816, avg. val loss: nan\n",
      "Step #150, epoch #15, avg. train loss: 6.34365, avg. val loss: nan\n",
      "Step #200, epoch #20, avg. train loss: 5.69614, avg. val loss: nan\n",
      "Step #250, epoch #25, avg. train loss: 5.05360, avg. val loss: nan\n",
      "Step #300, epoch #30, avg. train loss: 4.51153, avg. val loss: nan\n"
     ]
    },
    {
     "name": "stderr",
     "output_type": "stream",
     "text": [
      "Stopping. Best step:\n",
      " step 121 with loss 9.178274154663086\n"
     ]
    },
    {
     "name": "stdout",
     "output_type": "stream",
     "text": [
      "Step #50, epoch #7, avg. train loss: 82.24306, avg. val loss: nan\n",
      "Step #100, epoch #14, avg. train loss: 91.06400, avg. val loss: nan\n",
      "Step #150, epoch #21, avg. train loss: 84.55318, avg. val loss: nan\n",
      "Step #200, epoch #28, avg. train loss: 110.43718, avg. val loss: nan\n",
      "Step #250, epoch #35, avg. train loss: 214.32616, avg. val loss: nan\n",
      "Step #300, epoch #42, avg. train loss: 258.06039, avg. val loss: nan\n"
     ]
    },
    {
     "name": "stderr",
     "output_type": "stream",
     "text": [
      "Stopping. Best step:\n",
      " step 121 with loss 9.178274154663086\n"
     ]
    },
    {
     "name": "stdout",
     "output_type": "stream",
     "text": [
      "Step #50, epoch #7, avg. train loss: 176.02786, avg. val loss: nan\n",
      "Step #100, epoch #14, avg. train loss: 88.70111, avg. val loss: nan\n",
      "Step #150, epoch #21, avg. train loss: 85.22195, avg. val loss: nan\n",
      "Step #200, epoch #28, avg. train loss: 116.25922, avg. val loss: nan\n",
      "Step #250, epoch #35, avg. train loss: 221.83266, avg. val loss: nan\n",
      "Step #300, epoch #42, avg. train loss: 266.50519, avg. val loss: nan\n"
     ]
    },
    {
     "name": "stderr",
     "output_type": "stream",
     "text": [
      "Stopping. Best step:\n",
      " step 121 with loss 9.178274154663086\n"
     ]
    },
    {
     "name": "stdout",
     "output_type": "stream",
     "text": [
      "Step #50, epoch #7, avg. train loss: 171.28738, avg. val loss: nan\n",
      "Step #100, epoch #14, avg. train loss: 92.84826, avg. val loss: nan\n",
      "Step #150, epoch #21, avg. train loss: 86.90685, avg. val loss: nan\n",
      "Step #200, epoch #28, avg. train loss: 98.37138, avg. val loss: nan\n",
      "Step #250, epoch #35, avg. train loss: 250.48248, avg. val loss: nan\n",
      "Step #300, epoch #42, avg. train loss: 298.08206, avg. val loss: nan\n"
     ]
    },
    {
     "name": "stderr",
     "output_type": "stream",
     "text": [
      "Stopping. Best step:\n",
      " step 121 with loss 9.178274154663086\n",
      "[Parallel(n_jobs=1)]: Done  30 out of  30 | elapsed:  1.2min finished\n"
     ]
    },
    {
     "name": "stdout",
     "output_type": "stream",
     "text": [
      "Step #50, epoch #5, avg. train loss: 120.32302, avg. val loss: nan\n",
      "Step #100, epoch #10, avg. train loss: 8.02931, avg. val loss: nan\n",
      "Step #150, epoch #15, avg. train loss: 6.32783, avg. val loss: nan\n",
      "Step #200, epoch #20, avg. train loss: 5.44892, avg. val loss: nan\n",
      "Step #250, epoch #25, avg. train loss: 5.01778, avg. val loss: nan\n",
      "Step #300, epoch #30, avg. train loss: 4.60000, avg. val loss: nan\n",
      "Final score (RMSE): 2.4620187282562256\n",
      "Final options: {'batch_size': 31, 'learning_rate': 0.01}\n"
     ]
    },
    {
     "name": "stderr",
     "output_type": "stream",
     "text": [
      "Stopping. Best step:\n",
      " step 121 with loss 9.178274154663086\n"
     ]
    },
    {
     "data": {
      "image/png": "[encoded data removed]",
      "text/plain": [
       "<matplotlib.figure.Figure at 0x7fcf3002d8d0>"
      ]
     },
     "metadata": {},
     "output_type": "display_data"
    },
    {
     "name": "stdout",
     "output_type": "stream",
     "text": [
      "Elapsed time: 0:01:13.17\n"
     ]
    }
   ],
   "source": [
    "%matplotlib inline\n",
    "from matplotlib.pyplot import figure, show\n",
    "from numpy import arange\n",
    "import tensorflow.contrib.learn as skflow\n",
    "import pandas as pd\n",
    "import os\n",
    "import numpy as np\n",
    "import tensorflow as tf\n",
    "from sklearn import metrics\n",
    "from scipy.stats import zscore\n",
    "from scipy.stats import randint as sp_randint\n",
    "from sklearn.grid_search import RandomizedSearchCV\n",
    "import multiprocessing\n",
    "import time\n",
    "from sklearn.cross_validation import train_test_split\n",
    "import matplotlib.pyplot as plt\n",
    "\n",
    "def main():\n",
    "    path = \"./data/\"\n",
    "\n",
    "    filename_read = os.path.join(path,\"auto-mpg.csv\")\n",
    "    df = pd.read_csv(filename_read,na_values=['NA','?'])\n",
    "    \n",
    "    start_time = time.time()\n",
    "\n",
    "    # create feature vector\n",
    "    missing_median(df, 'horsepower')\n",
    "    df.drop('name',1,inplace=True)\n",
    "    encode_numeric_zscore(df, 'horsepower')\n",
    "    encode_numeric_zscore(df, 'weight')\n",
    "    encode_numeric_zscore(df, 'cylinders')\n",
    "    encode_numeric_zscore(df, 'displacement')\n",
    "    encode_numeric_zscore(df, 'acceleration')\n",
    "    encode_text_dummy(df, 'origin')\n",
    "\n",
    "    # Encode to a 2D matrix for training\n",
    "    x,y = to_xy(df,['mpg'])\n",
    "\n",
    "    # Split into train/test\n",
    "    x_train, x_test, y_train, y_test = train_test_split(\n",
    "        x, y, test_size=0.25, random_state=42)\n",
    "\n",
    "    # The hyperparameters specified here will be searched. A random sample will be searched.\n",
    "    param_dist = {\n",
    "        'learning_rate': [0.1, 0.01, 0.001],\n",
    "        'batch_size': sp_randint(4, 32),\n",
    "    }\n",
    "\n",
    "\n",
    "    model = skflow.TensorFlowDNNRegressor(\n",
    "        hidden_units=[50, 25, 10], \n",
    "        batch_size = 32,\n",
    "        optimizer='SGD', \n",
    "        steps=5000)\n",
    "\n",
    "    # Early stopping\n",
    "    early_stop = skflow.monitors.ValidationMonitor(x_test, y_test,\n",
    "        early_stopping_rounds=200, print_steps=50)\n",
    "    \n",
    "    # Random search\n",
    "    threads = 1 #multiprocessing.cpu_count()\n",
    "    print(\"Using {} cores.\".format(threads))\n",
    "    regressor = RandomizedSearchCV(model, verbose=True, n_iter = 10,\n",
    "            n_jobs=threads, param_distributions=param_dist, \n",
    "            fit_params={'monitor':early_stop})\n",
    "\n",
    "    # Fit/train neural network\n",
    "    regressor.fit(x_train, y_train)\n",
    "\n",
    "    # Measure RMSE error.  RMSE is common for regression.\n",
    "    pred = regressor.predict(x_test)\n",
    "    score = np.sqrt(metrics.mean_squared_error(pred,y_test))\n",
    "    print(\"Final score (RMSE): {}\".format(score))\n",
    "    print(\"Final options: {}\".format(regressor.best_params_))\n",
    "\n",
    "    # Plot the chart\n",
    "    chart_regression(pred,y_test)\n",
    "    \n",
    "    elapsed_time = time.time() - start_time\n",
    "    print(\"Elapsed time: {}\".format(hms_string(elapsed_time)))\n",
    "\n",
    "\n",
    "# Allow windows to multi-thread (unneeded on advanced OS's)\n",
    "# See: https://docs.python.org/2/library/multiprocessing.html\n",
    "if __name__ == '__main__':\n",
    "    main()\n"
   ]
  },
  {
   "cell_type": "code",
   "execution_count": null,
   "metadata": {
    "collapsed": true
   },
   "outputs": [],
   "source": []
  }
 ],
 "metadata": {
  "anaconda-cloud": {},
  "kernelspec": {
   "display_name": "Python 3",
   "language": "python",
   "name": "python3"
  },
  "language_info": {
   "codemirror_mode": {
    "name": "ipython",
    "version": 3
   },
   "file_extension": ".py",
   "mimetype": "text/x-python",
   "name": "python",
   "nbconvert_exporter": "python",
   "pygments_lexer": "ipython3",
   "version": "3.4.3"
  },
  "widgets": {
   "state": {},
   "version": "1.1.2"
  }
 },
 "nbformat": 4,
 "nbformat_minor": 0
}
