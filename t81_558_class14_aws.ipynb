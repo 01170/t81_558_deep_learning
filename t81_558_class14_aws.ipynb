{
 "cells": [
  {
   "cell_type": "markdown",
   "metadata": {},
   "source": [
    "# T81-558: Applications of Deep Neural Networks\n",
    "**Class 14: High Performance TensorFlow**\n",
    "* Instructor: [Jeff Heaton](https://sites.wustl.edu/jeffheaton/), School of Engineering and Applied Science, [Washington University in St. Louis](https://engineering.wustl.edu/Programs/Pages/default.aspx)\n",
    "* For more information visit the [class website](https://sites.wustl.edu/jeffheaton/t81-558/)."
   ]
  },
  {
   "cell_type": "markdown",
   "metadata": {},
   "source": [
    "# Helpful Resources\n",
    "\n",
    "* [Amazon Web Services (AWS)](https://aws.amazon.com/)\n",
    "* [Installing a Python Jupyter Notebook Server on AWS](https://gist.github.com/iamatypeofwalrus/5183133)\n",
    "* [Installing AWS for GPU TensorFlow Usage](https://gist.github.com/iamatypeofwalrus/5183133)\n",
    "* [How to Use Tensorflow with a GPU](https://www.tensorflow.org/versions/r0.12/how_tos/using_gpu/index.html)\n",
    "* [CIFAR-10 Tutorial on TensorFlow](https://www.tensorflow.org/versions/r0.12/tutorials/deep_cnn/index.html)\n",
    "* [The CIFAR-10 Dataset](https://www.cs.toronto.edu/~kriz/cifar.html)\n",
    "* [All AWS Instances](https://aws.amazon.com/ec2/instance-types/)\n",
    "* [AWS Instance Prices](https://aws.amazon.com/ec2/pricing/on-demand/)\n",
    "* [Amazon AWS GPU Instances](https://aws.amazon.com/ec2/instance-types/p2/)\n"
   ]
  },
  {
   "cell_type": "code",
   "execution_count": null,
   "metadata": {
    "collapsed": true
   },
   "outputs": [],
   "source": []
  }
 ],
 "metadata": {
  "anaconda-cloud": {},
  "kernelspec": {
   "display_name": "Python [conda env:wustl]",
   "language": "python",
   "name": "conda-env-wustl-py"
  },
  "language_info": {
   "codemirror_mode": {
    "name": "ipython",
    "version": 3
   },
   "file_extension": ".py",
   "mimetype": "text/x-python",
   "name": "python",
   "nbconvert_exporter": "python",
   "pygments_lexer": "ipython3",
   "version": "3.4.5"
  }
 },
 "nbformat": 4,
 "nbformat_minor": 0
}
