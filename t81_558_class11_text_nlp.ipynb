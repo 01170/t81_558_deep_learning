{
 "cells": [
  {
   "cell_type": "markdown",
   "metadata": {},
   "source": [
    "# T81-558: Applications of Deep Neural Networks\n",
    "**Class 11: Natural Language Processing and Speech Recognition**\n",
    "* Instructor: [Jeff Heaton](https://sites.wustl.edu/jeffheaton/), School of Engineering and Applied Science, [Washington University in St. Louis](https://engineering.wustl.edu/Programs/Pages/default.aspx)\n",
    "* For more information visit the [class website](https://sites.wustl.edu/jeffheaton/t81-558/)."
   ]
  },
  {
   "cell_type": "markdown",
   "metadata": {},
   "source": [
    "# Helpful Functions\n",
    "\n",
    "These are exactly the same feature vector encoding functions from [Class 3](https://github.com/jeffheaton/t81_558_deep_learning/blob/master/t81_558_class3_training.ipynb).  They must be defined for this class as well.  For more information, refer to class 3."
   ]
  },
  {
   "cell_type": "code",
   "execution_count": 1,
   "metadata": {},
   "outputs": [],
   "source": [
    "from sklearn import preprocessing\n",
    "import matplotlib.pyplot as plt\n",
    "import numpy as np\n",
    "import pandas as pd\n",
    "import shutil\n",
    "import os\n",
    "\n",
    "\n",
    "# Encode text values to dummy variables(i.e. [1,0,0],[0,1,0],[0,0,1] for red,green,blue)\n",
    "def encode_text_dummy(df, name):\n",
    "    dummies = pd.get_dummies(df[name])\n",
    "    for x in dummies.columns:\n",
    "        dummy_name = \"{}-{}\".format(name, x)\n",
    "        df[dummy_name] = dummies[x]\n",
    "    df.drop(name, axis=1, inplace=True)\n",
    "\n",
    "\n",
    "# Encode text values to a single dummy variable.  The new columns (which do not replace the old) will have a 1\n",
    "# at every location where the original column (name) matches each of the target_values.  One column is added for\n",
    "# each target value.\n",
    "def encode_text_single_dummy(df, name, target_values):\n",
    "    for tv in target_values:\n",
    "        l = list(df[name].astype(str))\n",
    "        l = [1 if str(x) == str(tv) else 0 for x in l]\n",
    "        name2 = \"{}-{}\".format(name, tv)\n",
    "        df[name2] = l\n",
    "\n",
    "\n",
    "# Encode text values to indexes(i.e. [1],[2],[3] for red,green,blue).\n",
    "def encode_text_index(df, name):\n",
    "    le = preprocessing.LabelEncoder()\n",
    "    df[name] = le.fit_transform(df[name])\n",
    "    return le.classes_\n",
    "\n",
    "\n",
    "# Encode a numeric column as zscores\n",
    "def encode_numeric_zscore(df, name, mean=None, sd=None):\n",
    "    if mean is None:\n",
    "        mean = df[name].mean()\n",
    "\n",
    "    if sd is None:\n",
    "        sd = df[name].std()\n",
    "\n",
    "    df[name] = (df[name] - mean) / sd\n",
    "\n",
    "\n",
    "# Convert all missing values in the specified column to the median\n",
    "def missing_median(df, name):\n",
    "    med = df[name].median()\n",
    "    df[name] = df[name].fillna(med)\n",
    "\n",
    "\n",
    "# Convert all missing values in the specified column to the default\n",
    "def missing_default(df, name, default_value):\n",
    "    df[name] = df[name].fillna(default_value)\n",
    "\n",
    "\n",
    "# Convert a Pandas dataframe to the x,y inputs that TensorFlow needs\n",
    "def to_xy(df, target):\n",
    "    result = []\n",
    "    for x in df.columns:\n",
    "        if x != target:\n",
    "            result.append(x)\n",
    "    # find out the type of the target column.  Is it really this hard? :(\n",
    "    target_type = df[target].dtypes\n",
    "    target_type = target_type[0] if hasattr(target_type, '__iter__') else target_type\n",
    "    # Encode to int for classification, float otherwise. TensorFlow likes 32 bits.\n",
    "    if target_type in (np.int64, np.int32):\n",
    "        # Classification\n",
    "        dummies = pd.get_dummies(df[target])\n",
    "        return df.as_matrix(result).astype(np.float32), dummies.as_matrix().astype(np.float32)\n",
    "    else:\n",
    "        # Regression\n",
    "        return df.as_matrix(result).astype(np.float32), df.as_matrix([target]).astype(np.float32)\n",
    "\n",
    "# Nicely formatted time string\n",
    "def hms_string(sec_elapsed):\n",
    "    h = int(sec_elapsed / (60 * 60))\n",
    "    m = int((sec_elapsed % (60 * 60)) / 60)\n",
    "    s = sec_elapsed % 60\n",
    "    return \"{}:{:>02}:{:>05.2f}\".format(h, m, s)\n",
    "\n",
    "\n",
    "# Regression chart.\n",
    "def chart_regression(pred,y,sort=True):\n",
    "    t = pd.DataFrame({'pred' : pred, 'y' : y.flatten()})\n",
    "    if sort:\n",
    "        t.sort_values(by=['y'],inplace=True)\n",
    "    a = plt.plot(t['y'].tolist(),label='expected')\n",
    "    b = plt.plot(t['pred'].tolist(),label='prediction')\n",
    "    plt.ylabel('output')\n",
    "    plt.legend()\n",
    "    plt.show()\n",
    "\n",
    "# Remove all rows where the specified column is +/- sd standard deviations\n",
    "def remove_outliers(df, name, sd):\n",
    "    drop_rows = df.index[(np.abs(df[name] - df[name].mean()) >= (sd * df[name].std()))]\n",
    "    df.drop(drop_rows, axis=0, inplace=True)\n",
    "\n",
    "\n",
    "# Encode a column to a range between normalized_low and normalized_high.\n",
    "def encode_numeric_range(df, name, normalized_low=-1, normalized_high=1,\n",
    "                         data_low=None, data_high=None):\n",
    "    if data_low is None:\n",
    "        data_low = min(df[name])\n",
    "        data_high = max(df[name])\n",
    "\n",
    "    df[name] = ((df[name] - data_low) / (data_high - data_low)) \\\n",
    "               * (normalized_high - normalized_low) + normalized_low"
   ]
  },
  {
   "cell_type": "markdown",
   "metadata": {
    "collapsed": true
   },
   "source": [
    "# End-To-End Memory Networks\n",
    "\n",
    "The origional source papers for End-to-End Memory Networks:\n",
    "\n",
    "* Jason Weston, Antoine Bordes, Sumit Chopra, Tomas Mikolov, Alexander M. Rush, [\"Towards AI-Complete Question Answering: A Set of Prerequisite Toy Tasks\"](http://arxiv.org/abs/1502.05698)\n",
    "* Sainbayar Sukhbaatar, Arthur Szlam, Jason Weston, Rob Fergus, [\"End-To-End Memory Networks\"](http://arxiv.org/abs/1503.08895)\n",
    "\n",
    "Other useful links for End-To-End Memory Networks\n",
    "\n",
    "* [bAbI Datasets](https://research.fb.com/downloads/babi/)\n",
    "* [Keras End-To-End Memory Networks](https://github.com/fchollet/keras/blob/master/examples/babi_memnn.py)\n",
    "* [Online JavaScript Demo of End-to-End Memory Networks](http://yerevann.com/dmn-ui/#/)"
   ]
  },
  {
   "cell_type": "markdown",
   "metadata": {},
   "source": [
    "#### Imports and Utility Functions\n",
    "\n",
    "The following imports are needed to create the end-to-end memory network. Neither Keras nor TensorFlow directly support End-to-End Memory Networks (yet), so it is necessary to create them using existing tools.  Several functions are needed defined here to read the bAbI dataset that we are using to train."
   ]
  },
  {
   "cell_type": "code",
   "execution_count": 2,
   "metadata": {},
   "outputs": [
    {
     "name": "stderr",
     "output_type": "stream",
     "text": [
      "Using TensorFlow backend.\n"
     ]
    }
   ],
   "source": [
    "from keras.models import Sequential, Model\n",
    "from keras.layers.embeddings import Embedding\n",
    "from keras.layers import Input, Activation, Dense, Permute, Dropout, add, dot, concatenate\n",
    "from keras.layers import LSTM\n",
    "from keras.utils.data_utils import get_file\n",
    "from keras.preprocessing.sequence import pad_sequences\n",
    "from keras.models import load_model\n",
    "from sklearn.metrics import confusion_matrix\n",
    "from sklearn import metrics\n",
    "from functools import reduce\n",
    "import pickle\n",
    "import tarfile\n",
    "import numpy as np\n",
    "import re\n",
    "import os\n",
    "import time\n",
    "\n",
    "\n",
    "def tokenize(sent):\n",
    "    '''Return the tokens of a sentence including punctuation.\n",
    "    >>> tokenize('Bob dropped the apple. Where is the apple?')\n",
    "    ['Bob', 'dropped', 'the', 'apple', '.', 'Where', 'is', 'the', 'apple', '?']\n",
    "    '''\n",
    "    return [x.strip() for x in re.split('(\\W+)', sent) if x.strip()]\n",
    "\n",
    "\n",
    "def parse_stories(lines, only_supporting=False):\n",
    "    '''Parse stories provided in the bAbi tasks format\n",
    "    If only_supporting is true, only the sentences\n",
    "    that support the answer are kept.\n",
    "    '''\n",
    "    data = []\n",
    "    story = []\n",
    "    for line in lines:\n",
    "        line = line.decode('utf-8').strip()\n",
    "        nid, line = line.split(' ', 1)\n",
    "        nid = int(nid)\n",
    "        if nid == 1:\n",
    "            story = []\n",
    "        if '\\t' in line:\n",
    "            q, a, supporting = line.split('\\t')\n",
    "            q = tokenize(q)\n",
    "            substory = None\n",
    "            if only_supporting:\n",
    "                # Only select the related substory\n",
    "                supporting = map(int, supporting.split())\n",
    "                substory = [story[i - 1] for i in supporting]\n",
    "            else:\n",
    "                # Provide all the substories\n",
    "                substory = [x for x in story if x]\n",
    "            data.append((substory, q, a))\n",
    "            story.append('')\n",
    "        else:\n",
    "            sent = tokenize(line)\n",
    "            story.append(sent)\n",
    "    return data\n",
    "\n",
    "\n",
    "def get_stories(f, only_supporting=False, max_length=None):\n",
    "    '''Given a file name, read the file,\n",
    "    retrieve the stories,\n",
    "    and then convert the sentences into a single story.\n",
    "    If max_length is supplied,\n",
    "    any stories longer than max_length tokens will be discarded.\n",
    "    '''\n",
    "    data = parse_stories(f.readlines(), only_supporting=only_supporting)\n",
    "    flatten = lambda data: reduce(lambda x, y: x + y, data)\n",
    "    data = [(flatten(story), q, answer) for story, q, answer in data if not max_length or len(flatten(story)) < max_length]\n",
    "    return data\n",
    "\n",
    "\n",
    "def vectorize_stories(data):\n",
    "    inputs, queries, answers = [], [], []\n",
    "    for story, query, answer in data:\n",
    "        inputs.append([word_idx[w] for w in story])\n",
    "        queries.append([word_idx[w] for w in query])\n",
    "        answers.append(word_idx[answer])\n",
    "    return (pad_sequences(inputs, maxlen=story_maxlen),\n",
    "            pad_sequences(queries, maxlen=query_maxlen),\n",
    "            np.array(answers))\n"
   ]
  },
  {
   "cell_type": "markdown",
   "metadata": {},
   "source": [
    "#### Getting the Data\n",
    "\n",
    "The data is downloaded from the Internet, if needed.\n",
    "\n",
    "As you can see (below), this dataset contains stories and questions about those stories.  The computer is not learning these specific stories below, but rather how to read a story and answer a question about that story.  Consider the first story \"Mary moved to the bathroom. John went to the hallway.\" the computer is not learning that Mary is in the bathroom or John is in the hallway, this changes per story.  Rather, the computer is learning to parse the story and extract information about individual people and their locations.\n",
    "\n",
    "The computer is learning to read, at least in a limited sense."
   ]
  },
  {
   "cell_type": "code",
   "execution_count": 3,
   "metadata": {},
   "outputs": [
    {
     "name": "stdout",
     "output_type": "stream",
     "text": [
      "Extracting stories for the challenge: single_supporting_fact_10k\n"
     ]
    }
   ],
   "source": [
    "try:\n",
    "    path = get_file('babi-tasks-v1-2.tar.gz', origin='https://s3.amazonaws.com/text-datasets/babi_tasks_1-20_v1-2.tar.gz')\n",
    "except:\n",
    "    print('Error downloading dataset, please download it manually:\\n'\n",
    "          '$ wget http://www.thespermwhale.com/jaseweston/babi/tasks_1-20_v1-2.tar.gz\\n'\n",
    "          '$ mv tasks_1-20_v1-2.tar.gz ~/.keras/datasets/babi-tasks-v1-2.tar.gz')\n",
    "    raise\n",
    "tar = tarfile.open(path)\n",
    "\n",
    "challenges = {\n",
    "    # QA1 with 10,000 samples\n",
    "    'single_supporting_fact_10k': 'tasks_1-20_v1-2/en-10k/qa1_single-supporting-fact_{}.txt',\n",
    "    # QA2 with 10,000 samples\n",
    "    'two_supporting_facts_10k': 'tasks_1-20_v1-2/en-10k/qa2_two-supporting-facts_{}.txt',\n",
    "}\n",
    "challenge_type = 'single_supporting_fact_10k'\n",
    "challenge = challenges[challenge_type]\n",
    "\n",
    "print('Extracting stories for the challenge:', challenge_type)\n",
    "train_stories = get_stories(tar.extractfile(challenge.format('train')))\n",
    "test_stories = get_stories(tar.extractfile(challenge.format('test')))\n",
    "\n"
   ]
  },
  {
   "cell_type": "code",
   "execution_count": 4,
   "metadata": {},
   "outputs": [
    {
     "name": "stdout",
     "output_type": "stream",
     "text": [
      "Story: Mary moved to the bathroom . John went to the hallway .\n",
      "Query: Where is Mary ?\n",
      "Answer: bathroom\n",
      "---\n",
      "Story: Mary moved to the bathroom . John went to the hallway . Daniel went back to the hallway . Sandra moved to the garden .\n",
      "Query: Where is Daniel ?\n",
      "Answer: hallway\n",
      "---\n",
      "Story: Mary moved to the bathroom . John went to the hallway . Daniel went back to the hallway . Sandra moved to the garden . John moved to the office . Sandra journeyed to the bathroom .\n",
      "Query: Where is Daniel ?\n",
      "Answer: hallway\n",
      "---\n",
      "Story: Mary moved to the bathroom . John went to the hallway . Daniel went back to the hallway . Sandra moved to the garden . John moved to the office . Sandra journeyed to the bathroom . Mary moved to the hallway . Daniel travelled to the office .\n",
      "Query: Where is Daniel ?\n",
      "Answer: office\n",
      "---\n",
      "Story: Mary moved to the bathroom . John went to the hallway . Daniel went back to the hallway . Sandra moved to the garden . John moved to the office . Sandra journeyed to the bathroom . Mary moved to the hallway . Daniel travelled to the office . John went back to the garden . John moved to the bedroom .\n",
      "Query: Where is Sandra ?\n",
      "Answer: bathroom\n",
      "---\n"
     ]
    }
   ],
   "source": [
    "# See what the data looks like\n",
    "\n",
    "for i in range(5):\n",
    "    print(\"Story: {}\".format(' '.join(train_stories[i][0])))\n",
    "    print(\"Query: {}\".format(' '.join(train_stories[i][1])))\n",
    "    print(\"Answer: {}\".format(train_stories[i][2]))\n",
    "    print(\"---\")"
   ]
  },
  {
   "cell_type": "markdown",
   "metadata": {},
   "source": [
    "#### Building the Vocabulary\n",
    "\n",
    "This type of neural network can only deal with a set vocabulary.  The words are indexed and each becomes a number.  Words not in the training vocabulary will not be recognized."
   ]
  },
  {
   "cell_type": "code",
   "execution_count": 5,
   "metadata": {},
   "outputs": [
    {
     "name": "stdout",
     "output_type": "stream",
     "text": [
      "-\n",
      "Vocab size: 22 unique words\n",
      "Story max length: 68 words\n",
      "Query max length: 4 words\n",
      "Number of training stories: 10000\n",
      "Number of test stories: 1000\n",
      "-\n",
      "Here's what a \"story\" tuple looks like (input, query, answer):\n",
      "(['Mary', 'moved', 'to', 'the', 'bathroom', '.', 'John', 'went', 'to', 'the', 'hallway', '.'], ['Where', 'is', 'Mary', '?'], 'bathroom')\n",
      "-\n",
      "(0, '.')\n",
      "(1, '?')\n",
      "(2, 'Daniel')\n",
      "(3, 'John')\n",
      "(4, 'Mary')\n",
      "(5, 'Sandra')\n",
      "(6, 'Where')\n",
      "(7, 'back')\n",
      "(8, 'bathroom')\n",
      "(9, 'bedroom')\n",
      "(10, 'garden')\n",
      "(11, 'hallway')\n",
      "(12, 'is')\n",
      "(13, 'journeyed')\n",
      "(14, 'kitchen')\n",
      "(15, 'moved')\n",
      "(16, 'office')\n",
      "(17, 'the')\n",
      "(18, 'to')\n",
      "(19, 'travelled')\n",
      "(20, 'went')\n"
     ]
    }
   ],
   "source": [
    "vocab = set()\n",
    "for story, q, answer in train_stories + test_stories:\n",
    "    vocab |= set(story + q + [answer])\n",
    "vocab = sorted(vocab)\n",
    "\n",
    "# Reserve 0 for masking via pad_sequences\n",
    "vocab_size = len(vocab) + 1\n",
    "story_maxlen = max(map(len, (x for x, _, _ in train_stories + test_stories)))\n",
    "query_maxlen = max(map(len, (x for _, x, _ in train_stories + test_stories)))\n",
    "\n",
    "print('-')\n",
    "print('Vocab size:', vocab_size, 'unique words')\n",
    "print('Story max length:', story_maxlen, 'words')\n",
    "print('Query max length:', query_maxlen, 'words')\n",
    "print('Number of training stories:', len(train_stories))\n",
    "print('Number of test stories:', len(test_stories))\n",
    "print('-')\n",
    "print('Here\\'s what a \"story\" tuple looks like (input, query, answer):')\n",
    "print(train_stories[0])\n",
    "print('-')\n",
    "\n",
    "\n",
    "for s in list(enumerate(vocab)):\n",
    "    print(s)"
   ]
  },
  {
   "cell_type": "markdown",
   "metadata": {},
   "source": [
    "#### Building the Training and Test Data\n",
    "\n",
    "The training data that is actually sent to the neural network is the vectorized representation of the sentences.  Each word is replaced by its vocab number.  Additionally there are two parts to the input (x) data: story and query.  The answer (x) is a always a single vocab word number.  This is a classification network.  Any of the vocab words could potentially be the answer.  Stories can be at most 68 words and questions at most 4.  Both of these limits are automatically determined from the training data."
   ]
  },
  {
   "cell_type": "code",
   "execution_count": 6,
   "metadata": {},
   "outputs": [
    {
     "name": "stdout",
     "output_type": "stream",
     "text": [
      "Vectorizing the word sequences...\n",
      "-\n",
      "inputs: integer tensor of shape (samples, max_length)\n",
      "inputs_train shape: (10000, 68)\n",
      "inputs_test shape: (1000, 68)\n",
      "-\n",
      "queries: integer tensor of shape (samples, max_length)\n",
      "queries_train shape: (10000, 4)\n",
      "queries_test shape: (1000, 4)\n",
      "-\n",
      "answers: binary (1 or 0) tensor of shape (samples, vocab_size)\n",
      "answers_train shape: (10000,)\n",
      "answers_test shape: (1000,)\n",
      "-\n"
     ]
    }
   ],
   "source": [
    "print('Vectorizing the word sequences...')\n",
    "word_idx = dict((c, i + 1) for i, c in enumerate(vocab))\n",
    "inputs_train, queries_train, answers_train = vectorize_stories(train_stories)\n",
    "inputs_test, queries_test, answers_test = vectorize_stories(test_stories)\n",
    "\n",
    "print('-')\n",
    "print('inputs: integer tensor of shape (samples, max_length)')\n",
    "print('inputs_train shape:', inputs_train.shape)\n",
    "print('inputs_test shape:', inputs_test.shape)\n",
    "print('-')\n",
    "print('queries: integer tensor of shape (samples, max_length)')\n",
    "print('queries_train shape:', queries_train.shape)\n",
    "print('queries_test shape:', queries_test.shape)\n",
    "print('-')\n",
    "print('answers: binary (1 or 0) tensor of shape (samples, vocab_size)')\n",
    "print('answers_train shape:', answers_train.shape)\n",
    "print('answers_test shape:', answers_test.shape)\n",
    "print('-')\n"
   ]
  },
  {
   "cell_type": "code",
   "execution_count": 7,
   "metadata": {},
   "outputs": [
    {
     "name": "stdout",
     "output_type": "stream",
     "text": [
      "Story (x): [ 0  0  0  0  0  0  0  0  0  0  0  0  0  0  0  0  0  0  0  0  0  0  0  0  0\n",
      "  0  0  0  0  0  0  0  0  0  0  0  0  0  0  0  0  0  0  0  0  0  0  0  0  0\n",
      "  0  0  0  0  0  0  5 16 19 18  9  1  4 21 19 18 12  1]\n",
      "Question (x): [ 7 13  5  2]\n",
      "Answer: 9\n"
     ]
    }
   ],
   "source": [
    "# See individual training element.\n",
    "\n",
    "print(\"Story (x): {}\".format(inputs_train[0]))\n",
    "print(\"Question (x): {}\".format(queries_train[0]))\n",
    "print(\"Answer: {}\".format(answers_train[0]))"
   ]
  },
  {
   "cell_type": "markdown",
   "metadata": {},
   "source": [
    "#### Compile the Neural Network"
   ]
  },
  {
   "cell_type": "code",
   "execution_count": 8,
   "metadata": {},
   "outputs": [
    {
     "name": "stdout",
     "output_type": "stream",
     "text": [
      "Compiling...\n",
      "Done.\n"
     ]
    }
   ],
   "source": [
    "print('Compiling...')\n",
    "\n",
    "# placeholders\n",
    "input_sequence = Input((story_maxlen,))\n",
    "question = Input((query_maxlen,))\n",
    "\n",
    "# encoders\n",
    "# embed the input sequence into a sequence of vectors\n",
    "input_encoder_m = Sequential()\n",
    "input_encoder_m.add(Embedding(input_dim=vocab_size,\n",
    "                              output_dim=64))\n",
    "input_encoder_m.add(Dropout(0.3))\n",
    "# output: (samples, story_maxlen, embedding_dim)\n",
    "\n",
    "# embed the input into a sequence of vectors of size query_maxlen\n",
    "input_encoder_c = Sequential()\n",
    "input_encoder_c.add(Embedding(input_dim=vocab_size,\n",
    "                              output_dim=query_maxlen))\n",
    "input_encoder_c.add(Dropout(0.3))\n",
    "# output: (samples, story_maxlen, query_maxlen)\n",
    "\n",
    "# embed the question into a sequence of vectors\n",
    "question_encoder = Sequential()\n",
    "question_encoder.add(Embedding(input_dim=vocab_size,\n",
    "                               output_dim=64,\n",
    "                               input_length=query_maxlen))\n",
    "question_encoder.add(Dropout(0.3))\n",
    "# output: (samples, query_maxlen, embedding_dim)\n",
    "\n",
    "# encode input sequence and questions (which are indices)\n",
    "# to sequences of dense vectors\n",
    "input_encoded_m = input_encoder_m(input_sequence)\n",
    "input_encoded_c = input_encoder_c(input_sequence)\n",
    "question_encoded = question_encoder(question)\n",
    "\n",
    "# compute a 'match' between the first input vector sequence\n",
    "# and the question vector sequence\n",
    "# shape: `(samples, story_maxlen, query_maxlen)`\n",
    "match = dot([input_encoded_m, question_encoded], axes=(2, 2))\n",
    "match = Activation('softmax')(match)\n",
    "\n",
    "# add the match matrix with the second input vector sequence\n",
    "response = add([match, input_encoded_c])  # (samples, story_maxlen, query_maxlen)\n",
    "response = Permute((2, 1))(response)  # (samples, query_maxlen, story_maxlen)\n",
    "\n",
    "# concatenate the match matrix with the question vector sequence\n",
    "answer = concatenate([response, question_encoded])\n",
    "\n",
    "# the original paper uses a matrix multiplication for this reduction step.\n",
    "# we choose to use a RNN instead.\n",
    "answer = LSTM(32)(answer)  # (samples, 32)\n",
    "\n",
    "# one regularization layer -- more would probably be needed.\n",
    "answer = Dropout(0.3)(answer)\n",
    "answer = Dense(vocab_size)(answer)  # (samples, vocab_size)\n",
    "# we output a probability distribution over the vocabulary\n",
    "answer = Activation('softmax')(answer)\n",
    "\n",
    "# build the final model\n",
    "model = Model([input_sequence, question], answer)\n",
    "model.compile(optimizer='rmsprop', loss='sparse_categorical_crossentropy',\n",
    "              metrics=['accuracy'])\n",
    "print(\"Done.\")\n"
   ]
  },
  {
   "cell_type": "markdown",
   "metadata": {},
   "source": [
    "#### Train the Neural Network\n",
    "\n",
    "It will take some time (probably up to 1/2 hour) to train this network on a CPU.  The network is saved.  If you've previously saved the neural network, you can skip this step and load the neural network in the next step."
   ]
  },
  {
   "cell_type": "code",
   "execution_count": 9,
   "metadata": {},
   "outputs": [
    {
     "name": "stdout",
     "output_type": "stream",
     "text": [
      "Train on 10000 samples, validate on 1000 samples\n",
      "Epoch 1/120\n",
      "10000/10000 [==============================] - 4s - loss: 1.9465 - acc: 0.1662 - val_loss: 1.7972 - val_acc: 0.1560\n",
      "Epoch 2/120\n",
      "10000/10000 [==============================] - 3s - loss: 1.7401 - acc: 0.2353 - val_loss: 1.6826 - val_acc: 0.2870\n",
      "Epoch 3/120\n",
      "10000/10000 [==============================] - 3s - loss: 1.6315 - acc: 0.3201 - val_loss: 1.5360 - val_acc: 0.4010\n",
      "Epoch 4/120\n",
      "10000/10000 [==============================] - 4s - loss: 1.5244 - acc: 0.4011 - val_loss: 1.4930 - val_acc: 0.4140\n",
      "Epoch 5/120\n",
      "10000/10000 [==============================] - 3s - loss: 1.4966 - acc: 0.4129 - val_loss: 1.4495 - val_acc: 0.4500\n",
      "Epoch 6/120\n",
      "10000/10000 [==============================] - 4s - loss: 1.4649 - acc: 0.4344 - val_loss: 1.4220 - val_acc: 0.4590\n",
      "Epoch 7/120\n",
      "10000/10000 [==============================] - 4s - loss: 1.4301 - acc: 0.4420 - val_loss: 1.3756 - val_acc: 0.4970\n",
      "Epoch 8/120\n",
      "10000/10000 [==============================] - 4s - loss: 1.3984 - acc: 0.4599 - val_loss: 1.3545 - val_acc: 0.4970\n",
      "Epoch 9/120\n",
      "10000/10000 [==============================] - 4s - loss: 1.3843 - acc: 0.4645 - val_loss: 1.3338 - val_acc: 0.4880\n",
      "Epoch 10/120\n",
      "10000/10000 [==============================] - 4s - loss: 1.3629 - acc: 0.4755 - val_loss: 1.3161 - val_acc: 0.4980\n",
      "Epoch 11/120\n",
      "10000/10000 [==============================] - 4s - loss: 1.3435 - acc: 0.4820 - val_loss: 1.2939 - val_acc: 0.5110\n",
      "Epoch 12/120\n",
      "10000/10000 [==============================] - 3s - loss: 1.3259 - acc: 0.4900 - val_loss: 1.2856 - val_acc: 0.5060\n",
      "Epoch 13/120\n",
      "10000/10000 [==============================] - 4s - loss: 1.3169 - acc: 0.4912 - val_loss: 1.3119 - val_acc: 0.4750\n",
      "Epoch 14/120\n",
      "10000/10000 [==============================] - 3s - loss: 1.2841 - acc: 0.5018 - val_loss: 1.2353 - val_acc: 0.5230\n",
      "Epoch 15/120\n",
      "10000/10000 [==============================] - 4s - loss: 1.2686 - acc: 0.5003 - val_loss: 1.2297 - val_acc: 0.5220\n",
      "Epoch 16/120\n",
      "10000/10000 [==============================] - 4s - loss: 1.2553 - acc: 0.5173 - val_loss: 1.2212 - val_acc: 0.5240\n",
      "Epoch 17/120\n",
      "10000/10000 [==============================] - 3s - loss: 1.2482 - acc: 0.5063 - val_loss: 1.2239 - val_acc: 0.5150\n",
      "Epoch 18/120\n",
      "10000/10000 [==============================] - 4s - loss: 1.2357 - acc: 0.5085 - val_loss: 1.2038 - val_acc: 0.5250\n",
      "Epoch 19/120\n",
      "10000/10000 [==============================] - 4s - loss: 1.2257 - acc: 0.5153 - val_loss: 1.2002 - val_acc: 0.5350\n",
      "Epoch 20/120\n",
      "10000/10000 [==============================] - 4s - loss: 1.2185 - acc: 0.5153 - val_loss: 1.1947 - val_acc: 0.5250\n",
      "Epoch 21/120\n",
      "10000/10000 [==============================] - 3s - loss: 1.2076 - acc: 0.5160 - val_loss: 1.2028 - val_acc: 0.5250\n",
      "Epoch 22/120\n",
      "10000/10000 [==============================] - 4s - loss: 1.2125 - acc: 0.5154 - val_loss: 1.2014 - val_acc: 0.5260\n",
      "Epoch 23/120\n",
      "10000/10000 [==============================] - 4s - loss: 1.2060 - acc: 0.5219 - val_loss: 1.1952 - val_acc: 0.5310\n",
      "Epoch 24/120\n",
      "10000/10000 [==============================] - 4s - loss: 1.1942 - acc: 0.5231 - val_loss: 1.1981 - val_acc: 0.5260\n",
      "Epoch 25/120\n",
      "10000/10000 [==============================] - 3s - loss: 1.2041 - acc: 0.5149 - val_loss: 1.1883 - val_acc: 0.5220\n",
      "Epoch 26/120\n",
      "10000/10000 [==============================] - 4s - loss: 1.1841 - acc: 0.5214 - val_loss: 1.2175 - val_acc: 0.5130\n",
      "Epoch 27/120\n",
      "10000/10000 [==============================] - 3s - loss: 1.1806 - acc: 0.5232 - val_loss: 1.1865 - val_acc: 0.5280\n",
      "Epoch 28/120\n",
      "10000/10000 [==============================] - 3s - loss: 1.1800 - acc: 0.5260 - val_loss: 1.1868 - val_acc: 0.5280\n",
      "Epoch 29/120\n",
      "10000/10000 [==============================] - 4s - loss: 1.1709 - acc: 0.5294 - val_loss: 1.1872 - val_acc: 0.5140\n",
      "Epoch 30/120\n",
      "10000/10000 [==============================] - 3s - loss: 1.1702 - acc: 0.5291 - val_loss: 1.1892 - val_acc: 0.5160\n",
      "Epoch 31/120\n",
      "10000/10000 [==============================] - 4s - loss: 1.1657 - acc: 0.5278 - val_loss: 1.1948 - val_acc: 0.5240\n",
      "Epoch 32/120\n",
      "10000/10000 [==============================] - 4s - loss: 1.1620 - acc: 0.5320 - val_loss: 1.1878 - val_acc: 0.5360\n",
      "Epoch 33/120\n",
      "10000/10000 [==============================] - 4s - loss: 1.1567 - acc: 0.5277 - val_loss: 1.1871 - val_acc: 0.5210\n",
      "Epoch 34/120\n",
      "10000/10000 [==============================] - 4s - loss: 1.1436 - acc: 0.5380 - val_loss: 1.2157 - val_acc: 0.5110\n",
      "Epoch 35/120\n",
      "10000/10000 [==============================] - 3s - loss: 1.1443 - acc: 0.5340 - val_loss: 1.1691 - val_acc: 0.5420\n",
      "Epoch 36/120\n",
      "10000/10000 [==============================] - 4s - loss: 1.1278 - acc: 0.5369 - val_loss: 1.1734 - val_acc: 0.5270\n",
      "Epoch 37/120\n",
      "10000/10000 [==============================] - 4s - loss: 1.1049 - acc: 0.5578 - val_loss: 1.1154 - val_acc: 0.5550\n",
      "Epoch 38/120\n",
      "10000/10000 [==============================] - 4s - loss: 1.0775 - acc: 0.5727 - val_loss: 1.0648 - val_acc: 0.5880\n",
      "Epoch 39/120\n",
      "10000/10000 [==============================] - 4s - loss: 1.0012 - acc: 0.6255 - val_loss: 0.9916 - val_acc: 0.6320\n",
      "Epoch 40/120\n",
      "10000/10000 [==============================] - 4s - loss: 0.9107 - acc: 0.6713 - val_loss: 0.8665 - val_acc: 0.6900\n",
      "Epoch 41/120\n",
      "10000/10000 [==============================] - 4s - loss: 0.8122 - acc: 0.7078 - val_loss: 0.7785 - val_acc: 0.7210\n",
      "Epoch 42/120\n",
      "10000/10000 [==============================] - 4s - loss: 0.7422 - acc: 0.7371 - val_loss: 0.7376 - val_acc: 0.7370\n",
      "Epoch 43/120\n",
      "10000/10000 [==============================] - 3s - loss: 0.7029 - acc: 0.7464 - val_loss: 0.7040 - val_acc: 0.7450\n",
      "Epoch 44/120\n",
      "10000/10000 [==============================] - 3s - loss: 0.6692 - acc: 0.7588 - val_loss: 0.7223 - val_acc: 0.7450\n",
      "Epoch 45/120\n",
      "10000/10000 [==============================] - 3s - loss: 0.6480 - acc: 0.7643 - val_loss: 0.6935 - val_acc: 0.7460\n",
      "Epoch 46/120\n",
      "10000/10000 [==============================] - 4s - loss: 0.6270 - acc: 0.7634 - val_loss: 0.6634 - val_acc: 0.7500\n",
      "Epoch 47/120\n",
      "10000/10000 [==============================] - 4s - loss: 0.6094 - acc: 0.7786 - val_loss: 0.6723 - val_acc: 0.7460\n",
      "Epoch 48/120\n",
      "10000/10000 [==============================] - 4s - loss: 0.5838 - acc: 0.7811 - val_loss: 0.6314 - val_acc: 0.7620\n",
      "Epoch 49/120\n",
      "10000/10000 [==============================] - 4s - loss: 0.5700 - acc: 0.7908 - val_loss: 0.6178 - val_acc: 0.7680\n",
      "Epoch 50/120\n",
      "10000/10000 [==============================] - 4s - loss: 0.5553 - acc: 0.7922 - val_loss: 0.6092 - val_acc: 0.7820\n",
      "Epoch 51/120\n",
      "10000/10000 [==============================] - 4s - loss: 0.5236 - acc: 0.8074 - val_loss: 0.5891 - val_acc: 0.7800\n",
      "Epoch 52/120\n",
      "10000/10000 [==============================] - 4s - loss: 0.5029 - acc: 0.8127 - val_loss: 0.5479 - val_acc: 0.8070\n",
      "Epoch 53/120\n",
      "10000/10000 [==============================] - 4s - loss: 0.4814 - acc: 0.8210 - val_loss: 0.5241 - val_acc: 0.8060\n",
      "Epoch 54/120\n",
      "10000/10000 [==============================] - 4s - loss: 0.4571 - acc: 0.8309 - val_loss: 0.4979 - val_acc: 0.8160\n",
      "Epoch 55/120\n",
      "10000/10000 [==============================] - 4s - loss: 0.4300 - acc: 0.8420 - val_loss: 0.5013 - val_acc: 0.8210\n",
      "Epoch 56/120\n",
      "10000/10000 [==============================] - 4s - loss: 0.4185 - acc: 0.8437 - val_loss: 0.4567 - val_acc: 0.8230\n",
      "Epoch 57/120\n",
      "10000/10000 [==============================] - 4s - loss: 0.3908 - acc: 0.8551 - val_loss: 0.4457 - val_acc: 0.8390\n",
      "Epoch 58/120\n",
      "10000/10000 [==============================] - 4s - loss: 0.3854 - acc: 0.8559 - val_loss: 0.4370 - val_acc: 0.8400\n",
      "Epoch 59/120\n",
      "10000/10000 [==============================] - 3s - loss: 0.3700 - acc: 0.8666 - val_loss: 0.4219 - val_acc: 0.8500\n",
      "Epoch 60/120\n",
      "10000/10000 [==============================] - 4s - loss: 0.3457 - acc: 0.8674 - val_loss: 0.4234 - val_acc: 0.8390\n",
      "Epoch 61/120\n",
      "10000/10000 [==============================] - 3s - loss: 0.3377 - acc: 0.8728 - val_loss: 0.4740 - val_acc: 0.8410\n",
      "Epoch 62/120\n",
      "10000/10000 [==============================] - 4s - loss: 0.3306 - acc: 0.8770 - val_loss: 0.3982 - val_acc: 0.8480\n",
      "Epoch 63/120\n",
      "10000/10000 [==============================] - 3s - loss: 0.3204 - acc: 0.8781 - val_loss: 0.3789 - val_acc: 0.8680\n",
      "Epoch 64/120\n"
     ]
    },
    {
     "name": "stdout",
     "output_type": "stream",
     "text": [
      "10000/10000 [==============================] - 3s - loss: 0.3014 - acc: 0.8880 - val_loss: 0.3945 - val_acc: 0.8620\n",
      "Epoch 65/120\n",
      "10000/10000 [==============================] - 4s - loss: 0.2976 - acc: 0.8889 - val_loss: 0.3658 - val_acc: 0.8590\n",
      "Epoch 66/120\n",
      "10000/10000 [==============================] - 4s - loss: 0.2858 - acc: 0.8964 - val_loss: 0.3362 - val_acc: 0.8720\n",
      "Epoch 67/120\n",
      "10000/10000 [==============================] - 4s - loss: 0.2851 - acc: 0.8940 - val_loss: 0.3402 - val_acc: 0.8740\n",
      "Epoch 68/120\n",
      "10000/10000 [==============================] - 4s - loss: 0.2737 - acc: 0.8969 - val_loss: 0.3247 - val_acc: 0.8840\n",
      "Epoch 69/120\n",
      "10000/10000 [==============================] - 4s - loss: 0.2551 - acc: 0.9060 - val_loss: 0.3123 - val_acc: 0.8870\n",
      "Epoch 70/120\n",
      "10000/10000 [==============================] - 4s - loss: 0.2495 - acc: 0.9089 - val_loss: 0.3232 - val_acc: 0.8830\n",
      "Epoch 71/120\n",
      "10000/10000 [==============================] - 4s - loss: 0.2415 - acc: 0.9116 - val_loss: 0.3003 - val_acc: 0.8920\n",
      "Epoch 72/120\n",
      "10000/10000 [==============================] - 4s - loss: 0.2373 - acc: 0.9145 - val_loss: 0.2997 - val_acc: 0.8940\n",
      "Epoch 73/120\n",
      "10000/10000 [==============================] - 4s - loss: 0.2263 - acc: 0.9190 - val_loss: 0.2997 - val_acc: 0.8880\n",
      "Epoch 74/120\n",
      "10000/10000 [==============================] - 4s - loss: 0.2205 - acc: 0.9180 - val_loss: 0.2775 - val_acc: 0.9030\n",
      "Epoch 75/120\n",
      "10000/10000 [==============================] - 4s - loss: 0.2096 - acc: 0.9215 - val_loss: 0.2936 - val_acc: 0.9080\n",
      "Epoch 76/120\n",
      "10000/10000 [==============================] - 4s - loss: 0.2025 - acc: 0.9266 - val_loss: 0.2994 - val_acc: 0.9010\n",
      "Epoch 77/120\n",
      "10000/10000 [==============================] - 4s - loss: 0.1978 - acc: 0.9285 - val_loss: 0.2542 - val_acc: 0.9210\n",
      "Epoch 78/120\n",
      "10000/10000 [==============================] - 3s - loss: 0.1872 - acc: 0.9326 - val_loss: 0.2604 - val_acc: 0.9140\n",
      "Epoch 79/120\n",
      "10000/10000 [==============================] - 4s - loss: 0.1855 - acc: 0.9330 - val_loss: 0.2938 - val_acc: 0.9030\n",
      "Epoch 80/120\n",
      "10000/10000 [==============================] - 4s - loss: 0.1798 - acc: 0.9349 - val_loss: 0.2609 - val_acc: 0.9090\n",
      "Epoch 81/120\n",
      "10000/10000 [==============================] - 4s - loss: 0.1736 - acc: 0.9380 - val_loss: 0.2493 - val_acc: 0.9200\n",
      "Epoch 82/120\n",
      "10000/10000 [==============================] - 4s - loss: 0.1667 - acc: 0.9414 - val_loss: 0.2230 - val_acc: 0.9230\n",
      "Epoch 83/120\n",
      "10000/10000 [==============================] - 4s - loss: 0.1668 - acc: 0.9392 - val_loss: 0.2475 - val_acc: 0.9180\n",
      "Epoch 84/120\n",
      "10000/10000 [==============================] - 4s - loss: 0.1574 - acc: 0.9433 - val_loss: 0.2330 - val_acc: 0.9170\n",
      "Epoch 85/120\n",
      "10000/10000 [==============================] - 4s - loss: 0.1440 - acc: 0.9469 - val_loss: 0.1879 - val_acc: 0.9370\n",
      "Epoch 86/120\n",
      "10000/10000 [==============================] - 4s - loss: 0.1465 - acc: 0.9470 - val_loss: 0.2089 - val_acc: 0.9300\n",
      "Epoch 87/120\n",
      "10000/10000 [==============================] - 4s - loss: 0.1401 - acc: 0.9493 - val_loss: 0.1861 - val_acc: 0.9380\n",
      "Epoch 88/120\n",
      "10000/10000 [==============================] - 4s - loss: 0.1316 - acc: 0.9509 - val_loss: 0.1980 - val_acc: 0.9390\n",
      "Epoch 89/120\n",
      "10000/10000 [==============================] - 4s - loss: 0.1274 - acc: 0.9523 - val_loss: 0.2360 - val_acc: 0.9290\n",
      "Epoch 90/120\n",
      "10000/10000 [==============================] - 4s - loss: 0.1238 - acc: 0.9563 - val_loss: 0.2048 - val_acc: 0.9370\n",
      "Epoch 91/120\n",
      "10000/10000 [==============================] - 4s - loss: 0.1164 - acc: 0.9615 - val_loss: 0.1607 - val_acc: 0.9500\n",
      "Epoch 92/120\n",
      "10000/10000 [==============================] - 4s - loss: 0.1238 - acc: 0.9563 - val_loss: 0.1919 - val_acc: 0.9370\n",
      "Epoch 93/120\n",
      "10000/10000 [==============================] - 4s - loss: 0.1095 - acc: 0.9608 - val_loss: 0.1602 - val_acc: 0.9560\n",
      "Epoch 94/120\n",
      "10000/10000 [==============================] - 4s - loss: 0.1128 - acc: 0.9588 - val_loss: 0.1873 - val_acc: 0.9410\n",
      "Epoch 95/120\n",
      "10000/10000 [==============================] - 4s - loss: 0.1007 - acc: 0.9648 - val_loss: 0.1523 - val_acc: 0.9530\n",
      "Epoch 96/120\n",
      "10000/10000 [==============================] - 4s - loss: 0.1058 - acc: 0.9617 - val_loss: 0.3573 - val_acc: 0.8940\n",
      "Epoch 97/120\n",
      "10000/10000 [==============================] - 4s - loss: 0.1011 - acc: 0.9646 - val_loss: 0.1739 - val_acc: 0.9530\n",
      "Epoch 98/120\n",
      "10000/10000 [==============================] - 4s - loss: 0.0960 - acc: 0.9660 - val_loss: 0.1589 - val_acc: 0.9540\n",
      "Epoch 99/120\n",
      "10000/10000 [==============================] - 4s - loss: 0.0997 - acc: 0.9650 - val_loss: 0.1795 - val_acc: 0.9440\n",
      "Epoch 100/120\n",
      "10000/10000 [==============================] - 4s - loss: 0.0976 - acc: 0.9661 - val_loss: 0.1512 - val_acc: 0.9520\n",
      "Epoch 101/120\n",
      "10000/10000 [==============================] - 4s - loss: 0.0907 - acc: 0.9704 - val_loss: 0.1432 - val_acc: 0.9560\n",
      "Epoch 102/120\n",
      "10000/10000 [==============================] - 4s - loss: 0.0859 - acc: 0.9706 - val_loss: 0.1243 - val_acc: 0.9620\n",
      "Epoch 103/120\n",
      "10000/10000 [==============================] - 4s - loss: 0.0881 - acc: 0.9701 - val_loss: 0.1645 - val_acc: 0.9510\n",
      "Epoch 104/120\n",
      "10000/10000 [==============================] - 4s - loss: 0.0782 - acc: 0.9720 - val_loss: 0.1487 - val_acc: 0.9480\n",
      "Epoch 105/120\n",
      "10000/10000 [==============================] - 4s - loss: 0.0796 - acc: 0.9718 - val_loss: 0.1563 - val_acc: 0.9520\n",
      "Epoch 106/120\n",
      "10000/10000 [==============================] - 4s - loss: 0.0825 - acc: 0.9713 - val_loss: 0.1299 - val_acc: 0.9630\n",
      "Epoch 107/120\n",
      "10000/10000 [==============================] - 4s - loss: 0.0805 - acc: 0.9743 - val_loss: 0.1521 - val_acc: 0.9550\n",
      "Epoch 108/120\n",
      "10000/10000 [==============================] - 4s - loss: 0.0759 - acc: 0.9747 - val_loss: 0.1353 - val_acc: 0.9570\n",
      "Epoch 109/120\n",
      "10000/10000 [==============================] - 4s - loss: 0.0809 - acc: 0.9732 - val_loss: 0.1100 - val_acc: 0.9680\n",
      "Epoch 110/120\n",
      "10000/10000 [==============================] - 4s - loss: 0.0759 - acc: 0.9750 - val_loss: 0.1530 - val_acc: 0.9550\n",
      "Epoch 111/120\n",
      "10000/10000 [==============================] - 4s - loss: 0.0733 - acc: 0.9732 - val_loss: 0.1150 - val_acc: 0.9650\n",
      "Epoch 112/120\n",
      "10000/10000 [==============================] - 4s - loss: 0.0704 - acc: 0.9754 - val_loss: 0.1207 - val_acc: 0.9660\n",
      "Epoch 113/120\n",
      "10000/10000 [==============================] - 4s - loss: 0.0628 - acc: 0.9792 - val_loss: 0.1266 - val_acc: 0.9610\n",
      "Epoch 114/120\n",
      "10000/10000 [==============================] - 4s - loss: 0.0658 - acc: 0.9776 - val_loss: 0.1387 - val_acc: 0.9610\n",
      "Epoch 115/120\n",
      "10000/10000 [==============================] - 4s - loss: 0.0704 - acc: 0.9769 - val_loss: 0.1171 - val_acc: 0.9620\n",
      "Epoch 116/120\n",
      "10000/10000 [==============================] - 4s - loss: 0.0636 - acc: 0.9789 - val_loss: 0.1355 - val_acc: 0.9580\n",
      "Epoch 117/120\n",
      "10000/10000 [==============================] - 4s - loss: 0.0619 - acc: 0.9791 - val_loss: 0.1389 - val_acc: 0.9570\n",
      "Epoch 118/120\n",
      "10000/10000 [==============================] - 4s - loss: 0.0611 - acc: 0.9793 - val_loss: 0.1250 - val_acc: 0.9680\n",
      "Epoch 119/120\n",
      "10000/10000 [==============================] - 4s - loss: 0.0611 - acc: 0.9790 - val_loss: 0.1165 - val_acc: 0.9700\n",
      "Epoch 120/120\n",
      "10000/10000 [==============================] - 4s - loss: 0.0638 - acc: 0.9783 - val_loss: 0.1176 - val_acc: 0.9730\n",
      "Elapsed time: 0:08:07.16\n"
     ]
    }
   ],
   "source": [
    "start_time = time.time()\n",
    "# train\n",
    "model.fit([inputs_train, queries_train], answers_train,\n",
    "          batch_size=32,\n",
    "          epochs=120,\n",
    "          validation_data=([inputs_test, queries_test], answers_test))\n",
    "\n",
    "# save\n",
    "save_path = \"./dnn/\"\n",
    "# save entire network to HDF5 (save everything, suggested)\n",
    "model.save(os.path.join(save_path,\"chatbot.h5\"))\n",
    "# save the vocab too, indexes must be the same\n",
    "pickle.dump( vocab, open( os.path.join(save_path,\"vocab.pkl\"), \"wb\" ) )\n",
    "\n",
    "elapsed_time = time.time() - start_time\n",
    "print(\"Elapsed time: {}\".format(hms_string(elapsed_time)))"
   ]
  },
  {
   "cell_type": "code",
   "execution_count": 10,
   "metadata": {},
   "outputs": [],
   "source": [
    "# Load the model, if it exists, load vocab too\n",
    "save_path = \"./dnn/\"\n",
    "model = load_model(os.path.join(save_path,\"chatbot.h5\"))\n",
    "vocab = pickle.load( open( os.path.join(save_path,\"vocab.pkl\"), \"rb\" ) )"
   ]
  },
  {
   "cell_type": "markdown",
   "metadata": {},
   "source": [
    "#### Evaluate Accuracy\n",
    "\n",
    "We evaluate the accuracy, using the same technique as previous classification networks."
   ]
  },
  {
   "cell_type": "code",
   "execution_count": 11,
   "metadata": {},
   "outputs": [
    {
     "name": "stdout",
     "output_type": "stream",
     "text": [
      "[[  2.08525847e-17   1.85115428e-17   1.74010015e-17 ...,   1.83831858e-17\n",
      "    1.71612449e-17   1.68520580e-17]\n",
      " [  1.49240274e-17   1.74866015e-17   1.38227017e-17 ...,   1.10528783e-17\n",
      "    1.59316359e-17   1.59544413e-17]\n",
      " [  1.62952656e-14   1.13191571e-14   1.09738336e-14 ...,   1.48841172e-14\n",
      "    1.47143311e-14   1.37057715e-14]\n",
      " ..., \n",
      " [  3.10382158e-15   2.57156873e-15   3.01890335e-15 ...,   2.89604990e-15\n",
      "    2.44664832e-15   2.70834783e-15]\n",
      " [  1.20111911e-19   1.05237717e-19   1.14267583e-19 ...,   9.60110282e-20\n",
      "    1.01470543e-19   1.14958821e-19]\n",
      " [  8.15599810e-11   9.16372256e-11   9.47430537e-11 ...,   9.04004926e-11\n",
      "    8.30720562e-11   7.73836828e-11]]\n"
     ]
    }
   ],
   "source": [
    "pred = model.predict([inputs_test, queries_test])\n",
    "# See what the predictions look like, they are just probabilities of each class.\n",
    "print(pred)"
   ]
  },
  {
   "cell_type": "code",
   "execution_count": 12,
   "metadata": {},
   "outputs": [
    {
     "name": "stdout",
     "output_type": "stream",
     "text": [
      "[12  9 15 12 15 12 11 12 17 17 15 11 17 10 10 15 11 15 17 12 12 17 17 12 10\n",
      " 10 10 15 15 15 12 17 15 15  9 17  9 11 15 10  9 11 10 12 11 15 12  9 17 10\n",
      " 10 17 11 11 15 10 15 12 11 12 12 17  9 11 10 15 15  9 17 17 11 12 11 10  9\n",
      " 15 15 15  9 17 11  9 10 15 17 11 11 12 15 15  9  9 12  9  9 15 15 15 10 10\n",
      " 10  9 17 11 11 12 10  9 17 10  9  9 15 12 15 11 17 15  9 17 10  9 10 12 10\n",
      " 17 11 11 11  9 11 11  9 11 15  9 17 15  9  9 17 12 12 17 10 15 15 15 15 15\n",
      " 11 11  9 17 10  9 11 10 17 12 10 10 10 11  9 11 11 11 15 10 17 17 11  9  9\n",
      " 17 15 10 17 17 12 17 12 12 10  9 17 11 15 17 12 15 11 12 12 11 17 15  9 10\n",
      " 12 17 17 10 12  9 15 12  9  9  9 10 12 10  9 10  9 12 12  9  9 12 15 12 10\n",
      " 17 12 11  9  9 17 11 12 17 12 10 10  9 10 15 12 15 11 11 15 15 11 11 17 11\n",
      " 10 17  9  9 10 10 17 17 15 11 11 17 12 17 17  9 11 10  9 10 15 17 17 15  9\n",
      " 17 15 12 17  9  9 11 17 17 11 17  9 17 11  9 15 15 10 15 15 11 11 12 12  9\n",
      "  9  9 15 17 12 11  9 17 17 15 11 11 17 10 11 17 10 17 11 11 11 15 15 11 11\n",
      "  9 10 11 11 10 15 17 15 10  9 17 12 17 12 11 12 11 17 15 11 17 12 12 12 15\n",
      " 10 11 11 10 10  9 17 12 11 12 11  9 11 11 11 11 11 12 12 12 12 12 11 11 17\n",
      " 10 15  9  9 10  9 10 10 17 17 15 17 17 17 15 15 12  9 10 17 17 10 17  9 11\n",
      " 10 11 10 15 17 15 12 12 17 15 10 11  9 12 17 10 10 15 12  9 12 12  9 12 10\n",
      " 15 15 17 10 10 17 15 15 15 17 11 15  9 10 11 10 12  9 11 10 11 10 12 11 15\n",
      " 15 15 15 11  9 15 10 12 11 12  9 17 10 17 11 11 10 10 10 17 12 17 17  9 15\n",
      " 11  9 15 11  9 10 10 12 12 11 10  9 12 10  9 15 10 10 11 11 15 15 10 12 12\n",
      " 15 11  9 12  9 15 10 17 17 10 10 17 10 10 17  9  9 10 12 11 17 17 12 12 11\n",
      " 12 17 11 11 12 11 11 11 17  9 11 10 12 12 10 11 17 12 12 15 11 15 15 12 10\n",
      " 10  9 17 10 15 12 15 10 10  9 11 10 11 15 10  9  9 15 10  9 10 10 15 15 17\n",
      "  9 10 12 10 10 12 12 11 15 10 10 11 12 10 10 17 12 17 11  9  9 17 17 11 10\n",
      " 10 10 15 15 17 11 15 12 11 10 15 17  9 11  9 17 15 12 15 12 11 17 17 15  9\n",
      " 10  9  9 10 10  9 10 10 15 11 11 11 15 12  9 11 11 10 17 11 11 12 17 15  9\n",
      "  9 11 15 15 11  9 15 15 11 15 15 15 11 10 10  9 17 17 17 17 10 10 17  9 15\n",
      "  9 17 12 12 12 15 15 15 17  9 11  9 17  9 12 11  9  9 17 11 11 11 10 15 10\n",
      " 12 12  9  9 17 12 12  9 17 12 11 11 15 15 12 11 12 17 12 17 11 12 12 17 17\n",
      " 11 17  9 11  9 10 10 12 17 10 12  9  9  9 15 11 11 15 17  9 10  9 12 17 15\n",
      " 17 17 12 10 12 11 11 17 15  9 17 10  9 11 12 15  9 15 12 10  9 10 17 17 15\n",
      " 15  9  9  9 17 10 17 17  9 12 17 17 12 12 11 11 11 17 17 11 17 17 17 17 17\n",
      " 12  9 17 10 17 11 10 10 12 12 11 11 17 12 12 17 17 15 11 17 11 11  9 12  9\n",
      " 17  9 10  9 15 11  9  9 15 10  9  9  9 17 12 11 11 17 15 15 10 10 11 11 17\n",
      " 10 12  9 10 10 10 10 10 15 17  9 11 17 15 12 11 10 10 15 12 10 11 12 12 11\n",
      " 11 11 15 12 17 10 12 17 17 12 10 10 12 17 10 11 17 11 12 17 17 11 12 11 17\n",
      "  9  9 11 17 11 11 15 15 17 17 10 10 17 12 11 15 12 11 11 10  9 12 12 15 10\n",
      "  9 17 15 17  9 17 17 10 17 15 12 12 11 10 10 10 17 17 15 12 17  9  9 15 10\n",
      " 12 15 15 15 17 17 15 11 15 10 12  9  9 10 11 11  9  9 12 15  9 15  9 12 12\n",
      " 10 17 17 10 12 15  9  9 17 11 11 11 17  9  9 11 15 11 11 11 15 12 17  9 10]\n"
     ]
    }
   ],
   "source": [
    "# Use argmax to turn those into actual predictions.  The class (word) with the highest\n",
    "# probability is the answer.\n",
    "\n",
    "pred = np.argmax(pred,axis=1)\n",
    "print(pred)"
   ]
  },
  {
   "cell_type": "code",
   "execution_count": 13,
   "metadata": {},
   "outputs": [
    {
     "name": "stdout",
     "output_type": "stream",
     "text": [
      "Final accuracy: 0.973\n"
     ]
    }
   ],
   "source": [
    "score = metrics.accuracy_score(answers_test, pred)\n",
    "print(\"Final accuracy: {}\".format(score))"
   ]
  },
  {
   "cell_type": "markdown",
   "metadata": {},
   "source": [
    "#### Adhoc Query\n",
    "\n",
    "You might want to create your own stories and questions.  "
   ]
  },
  {
   "cell_type": "code",
   "execution_count": 44,
   "metadata": {},
   "outputs": [
    {
     "name": "stdout",
     "output_type": "stream",
     "text": [
      "Remember, I only know these words: ['.', '?', 'Daniel', 'John', 'Mary', 'Sandra', 'Where', 'back', 'bathroom', 'bedroom', 'garden', 'hallway', 'is', 'journeyed', 'kitchen', 'moved', 'office', 'the', 'to', 'travelled', 'went']\n",
      "\n",
      "Answer: bedroom([9])\n"
     ]
    }
   ],
   "source": [
    "print(\"Remember, I only know these words: {}\".format(vocab))\n",
    "print()\n",
    "story = \"Mary moved to the bathroom. John went to the garden.\"\n",
    "query = \"Where is Mary?\"\n",
    "\n",
    "adhoc_stories = (tokenize(story), tokenize(query), '?')\n",
    "\n",
    "adhoc_train, adhoc_query, adhoc_answer = vectorize_stories([adhoc_stories])\n",
    "\n",
    "pred = model.predict([adhoc_train, adhoc_query])\n",
    "pred = np.argmax(pred,axis=1)\n",
    "print(\"Answer: {}({})\".format(vocab[pred[0]],pred))"
   ]
  },
  {
   "cell_type": "markdown",
   "metadata": {},
   "source": [
    "# Word2Vec\n",
    "\n",
    "Word2vec is a group of related models that are used to produce word embeddings. These models are shallow, two-layer neural networks that are trained to reconstruct linguistic contexts of words. Word2vec takes as its input a large corpus of text and produces a vector space, typically of several hundred dimensions, with each unique word in the corpus being assigned a corresponding vector in the space. Word vectors are positioned in the vector space such that words that share common contexts in the corpus are located in close proximity to one another in the space.\n",
    "\n",
    "Mikolov, T., Chen, K., Corrado, G., & Dean, J. (2013). [Efficient estimation of word representations in vector space](https://arxiv.org/abs/1301.3781). arXiv preprint arXiv:1301.3781.\n",
    "\n",
    "![Word2Vec](https://pbs.twimg.com/media/C7jJxIjWkAA8E_s.jpg)\n",
    "[Trust Word2Vec](https://twitter.com/DanilBaibak/status/844647217885581312)\n",
    "\n",
    "### Suggested Software for Word2Vec\n",
    "\n",
    "* [GoogleNews Vectors](https://code.google.com/archive/p/word2vec/), [GitHub Mirror](https://github.com/mmihaltz/word2vec-GoogleNews-vectors)\n",
    "* [Python Gensim](https://radimrehurek.com/gensim/)\n"
   ]
  },
  {
   "cell_type": "code",
   "execution_count": 45,
   "metadata": {},
   "outputs": [
    {
     "name": "stdout",
     "output_type": "stream",
     "text": [
      "Collecting gensim\n",
      "  Downloading gensim-3.1.0.tar.gz (15.1MB)\n",
      "\u001b[K    100% |████████████████████████████████| 15.1MB 87kB/s  eta 0:00:01\n",
      "\u001b[?25hRequirement already satisfied: numpy>=1.11.3 in /opt/conda/lib/python3.5/site-packages (from gensim)\n",
      "Requirement already satisfied: scipy>=0.18.1 in /opt/conda/lib/python3.5/site-packages (from gensim)\n",
      "Requirement already satisfied: six>=1.5.0 in /opt/conda/lib/python3.5/site-packages (from gensim)\n",
      "Collecting smart_open>=1.2.1 (from gensim)\n",
      "  Downloading smart_open-1.5.3.tar.gz\n",
      "Collecting boto>=2.32 (from smart_open>=1.2.1->gensim)\n",
      "  Downloading boto-2.48.0-py2.py3-none-any.whl (1.4MB)\n",
      "\u001b[K    100% |████████████████████████████████| 1.4MB 981kB/s eta 0:00:01\n",
      "\u001b[?25hCollecting bz2file (from smart_open>=1.2.1->gensim)\n",
      "  Downloading bz2file-0.98.tar.gz\n",
      "Requirement already satisfied: requests in /opt/conda/lib/python3.5/site-packages (from smart_open>=1.2.1->gensim)\n",
      "Requirement already satisfied: chardet<3.1.0,>=3.0.2 in /opt/conda/lib/python3.5/site-packages (from requests->smart_open>=1.2.1->gensim)\n",
      "Requirement already satisfied: idna<2.7,>=2.5 in /opt/conda/lib/python3.5/site-packages (from requests->smart_open>=1.2.1->gensim)\n",
      "Requirement already satisfied: urllib3<1.23,>=1.21.1 in /opt/conda/lib/python3.5/site-packages (from requests->smart_open>=1.2.1->gensim)\n",
      "Requirement already satisfied: certifi>=2017.4.17 in /opt/conda/lib/python3.5/site-packages (from requests->smart_open>=1.2.1->gensim)\n",
      "Building wheels for collected packages: gensim, smart-open, bz2file\n",
      "  Running setup.py bdist_wheel for gensim ... \u001b[?25ldone\n",
      "\u001b[?25h  Stored in directory: /home/jtheaton/.cache/pip/wheels/a2/81/9e/37cdb84294955eb03e9b9898a0827fc80c4ce1cd19e6be096e\n",
      "  Running setup.py bdist_wheel for smart-open ... \u001b[?25ldone\n",
      "\u001b[?25h  Stored in directory: /home/jtheaton/.cache/pip/wheels/b0/81/ad/856aade935fceaab491a800ec4de58edb8642afa4c4ba91a00\n",
      "  Running setup.py bdist_wheel for bz2file ... \u001b[?25ldone\n",
      "\u001b[?25h  Stored in directory: /home/jtheaton/.cache/pip/wheels/31/9c/20/996d65ca104cbca940b1b053299b68459391c01c774d073126\n",
      "Successfully built gensim smart-open bz2file\n",
      "Installing collected packages: boto, bz2file, smart-open, gensim\n",
      "\u001b[31mException:\n",
      "Traceback (most recent call last):\n",
      "  File \"/opt/conda/lib/python3.5/site-packages/pip/basecommand.py\", line 215, in main\n",
      "    status = self.run(options, args)\n",
      "  File \"/opt/conda/lib/python3.5/site-packages/pip/commands/install.py\", line 342, in run\n",
      "    prefix=options.prefix_path,\n",
      "  File \"/opt/conda/lib/python3.5/site-packages/pip/req/req_set.py\", line 784, in install\n",
      "    **kwargs\n",
      "  File \"/opt/conda/lib/python3.5/site-packages/pip/req/req_install.py\", line 851, in install\n",
      "    self.move_wheel_files(self.source_dir, root=root, prefix=prefix)\n",
      "  File \"/opt/conda/lib/python3.5/site-packages/pip/req/req_install.py\", line 1064, in move_wheel_files\n",
      "    isolated=self.isolated,\n",
      "  File \"/opt/conda/lib/python3.5/site-packages/pip/wheel.py\", line 345, in move_wheel_files\n",
      "    clobber(source, lib_dir, True)\n",
      "  File \"/opt/conda/lib/python3.5/site-packages/pip/wheel.py\", line 316, in clobber\n",
      "    ensure_dir(destdir)\n",
      "  File \"/opt/conda/lib/python3.5/site-packages/pip/utils/__init__.py\", line 83, in ensure_dir\n",
      "    os.makedirs(path)\n",
      "  File \"/opt/conda/lib/python3.5/os.py\", line 241, in makedirs\n",
      "    mkdir(name, mode)\n",
      "PermissionError: [Errno 13] Permission denied: '/opt/conda/lib/python3.5/site-packages/boto'\u001b[0m\n"
     ]
    }
   ],
   "source": [
    "# You probably do not have gensim installed.  It was not on the class install list because we only use it this once.\n",
    "# This will install it:\n",
    "!pip install gensim"
   ]
  },
  {
   "cell_type": "code",
   "execution_count": 16,
   "metadata": {},
   "outputs": [
    {
     "ename": "ImportError",
     "evalue": "No module named 'gensim'",
     "output_type": "error",
     "traceback": [
      "\u001b[0;31m\u001b[0m",
      "\u001b[0;31mImportError\u001b[0mTraceback (most recent call last)",
      "\u001b[0;32m<ipython-input-16-b5edbe369eb0>\u001b[0m in \u001b[0;36m<module>\u001b[0;34m()\u001b[0m\n\u001b[0;32m----> 1\u001b[0;31m \u001b[0;32mimport\u001b[0m \u001b[0mgensim\u001b[0m\u001b[0;34m\u001b[0m\u001b[0m\n\u001b[0m\u001b[1;32m      2\u001b[0m \u001b[0;34m\u001b[0m\u001b[0m\n\u001b[1;32m      3\u001b[0m \u001b[0;31m# Not that the path below refers to a location on my hard drive.\u001b[0m\u001b[0;34m\u001b[0m\u001b[0;34m\u001b[0m\u001b[0m\n\u001b[1;32m      4\u001b[0m \u001b[0;31m# You should download GoogleNews Vectors (see suggested software above)\u001b[0m\u001b[0;34m\u001b[0m\u001b[0;34m\u001b[0m\u001b[0m\n\u001b[1;32m      5\u001b[0m model = gensim.models.KeyedVectors.load_word2vec_format(\n",
      "\u001b[0;31mImportError\u001b[0m: No module named 'gensim'"
     ]
    }
   ],
   "source": [
    "import gensim\n",
    "\n",
    "# Not that the path below refers to a location on my hard drive.\n",
    "# You should download GoogleNews Vectors (see suggested software above)\n",
    "model = gensim.models.KeyedVectors.load_word2vec_format(\n",
    "    '/Users/jeff/data/language/GoogleNews-vectors-negative300.bin.gz', binary=True)"
   ]
  },
  {
   "cell_type": "code",
   "execution_count": null,
   "metadata": {},
   "outputs": [],
   "source": [
    "w = model['hello']"
   ]
  },
  {
   "cell_type": "code",
   "execution_count": null,
   "metadata": {},
   "outputs": [],
   "source": [
    "print(len(w))"
   ]
  },
  {
   "cell_type": "code",
   "execution_count": null,
   "metadata": {},
   "outputs": [],
   "source": [
    "print(w)"
   ]
  },
  {
   "cell_type": "code",
   "execution_count": null,
   "metadata": {},
   "outputs": [],
   "source": [
    "import numpy as np\n",
    "\n",
    "w1 = model['cat']\n",
    "w2 = model['dog']\n",
    "\n",
    "dist = np.linalg.norm(w1-w2)\n",
    "\n",
    "print(dist)"
   ]
  },
  {
   "cell_type": "code",
   "execution_count": null,
   "metadata": {},
   "outputs": [],
   "source": [
    "model.most_similar(positive=['woman', 'king'], negative=['man'])\n"
   ]
  },
  {
   "cell_type": "code",
   "execution_count": null,
   "metadata": {},
   "outputs": [],
   "source": [
    "model.doesnt_match(\"breakfast cereal dinner lunch\".split())\n"
   ]
  },
  {
   "cell_type": "code",
   "execution_count": null,
   "metadata": {},
   "outputs": [],
   "source": [
    "model.similarity('woman', 'man')\n"
   ]
  },
  {
   "cell_type": "markdown",
   "metadata": {},
   "source": [
    "# Chat Bots\n",
    "\n",
    "Using the above code you can create your own primitive chat bots.  A some what famous video on Youtube from Cornell University shows what happens [when two chat bots converse](https://www.youtube.com/watch?v=WnzlbyTZsQY).  Other interesting chat bot type technology:\n",
    "\n",
    "* [CleverBot](http://www.cleverbot.com/)\n",
    "* [Computer Science Paper Generator](https://pdos.csail.mit.edu/archive/scigen/)"
   ]
  },
  {
   "cell_type": "markdown",
   "metadata": {},
   "source": [
    "# More on LSTM\n",
    "\n",
    "* [The Unreasonable Effectiveness of Recurrent Neural Networks](http://karpathy.github.io/2015/05/21/rnn-effectiveness/)\n",
    "* [LSTM Music](https://www.youtube.com/watch?v=0VTI1BBLydE)\n",
    "* [Natural Language Processing from Scratch](https://arxiv.org/abs/1103.0398)"
   ]
  },
  {
   "cell_type": "code",
   "execution_count": null,
   "metadata": {},
   "outputs": [],
   "source": [
    "train_stories"
   ]
  },
  {
   "cell_type": "code",
   "execution_count": null,
   "metadata": {},
   "outputs": [],
   "source": [
    "vocab"
   ]
  },
  {
   "cell_type": "code",
   "execution_count": null,
   "metadata": {},
   "outputs": [],
   "source": [
    "model.save(os.path.join(save_path,\"chatbot.h5\"))"
   ]
  },
  {
   "cell_type": "code",
   "execution_count": null,
   "metadata": {},
   "outputs": [],
   "source": [
    "print(tokenize('Bob dropped the apple. Where is the apple?'))"
   ]
  },
  {
   "cell_type": "code",
   "execution_count": null,
   "metadata": {},
   "outputs": [],
   "source": [
    "sent = \"Hello world!\"\n",
    "print( re.split('(\\W+)', sent) )"
   ]
  },
  {
   "cell_type": "code",
   "execution_count": null,
   "metadata": {},
   "outputs": [],
   "source": []
  }
 ],
 "metadata": {
  "anaconda-cloud": {},
  "kernelspec": {
   "display_name": "Python 3",
   "language": "python",
   "name": "python3"
  },
  "language_info": {
   "codemirror_mode": {
    "name": "ipython",
    "version": 3
   },
   "file_extension": ".py",
   "mimetype": "text/x-python",
   "name": "python",
   "nbconvert_exporter": "python",
   "pygments_lexer": "ipython3",
   "version": "3.5.4"
  }
 },
 "nbformat": 4,
 "nbformat_minor": 1
}
