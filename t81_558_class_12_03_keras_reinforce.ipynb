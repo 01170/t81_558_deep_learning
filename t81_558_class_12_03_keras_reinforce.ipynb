{
 "cells": [
  {
   "cell_type": "markdown",
   "metadata": {
    "colab_type": "text",
    "id": "klGNgWREsvQv"
   },
   "source": [
    "##### Copyright 2018 The TF-Agents Authors."
   ]
  },
  {
   "cell_type": "code",
   "execution_count": 1,
   "metadata": {
    "cellView": "form",
    "colab": {},
    "colab_type": "code",
    "id": "nQnmcm0oI1Q-"
   },
   "outputs": [],
   "source": [
    "#@title Licensed under the Apache License, Version 2.0 (the \"License\");\n",
    "# you may not use this file except in compliance with the License.\n",
    "# You may obtain a copy of the License at\n",
    "#\n",
    "# https://www.apache.org/licenses/LICENSE-2.0\n",
    "#\n",
    "# Unless required by applicable law or agreed to in writing, software\n",
    "# distributed under the License is distributed on an \"AS IS\" BASIS,\n",
    "# WITHOUT WARRANTIES OR CONDITIONS OF ANY KIND, either express or implied.\n",
    "# See the License for the specific language governing permissions and\n",
    "# limitations under the License."
   ]
  },
  {
   "cell_type": "markdown",
   "metadata": {
    "colab_type": "text",
    "id": "pmDI-h7cI0tI"
   },
   "source": [
    "# Train a Deep Q Network with TF-Agents\n",
    "\n",
    "<table class=\"tfo-notebook-buttons\" align=\"left\">\n",
    "  <td>\n",
    "    <a target=\"_blank\" href=\"https://www.tensorflow.org/agents/tutorials/1_dqn_tutorial\">\n",
    "    <img src=\"https://www.tensorflow.org/images/tf_logo_32px.png\" />\n",
    "    View on TensorFlow.org</a>\n",
    "  </td>\n",
    "  <td>\n",
    "    <a target=\"_blank\" href=\"https://colab.research.google.com/github/tensorflow/agents/blob/master/docs/tutorials/1_dqn_tutorial.ipynb\">\n",
    "    <img src=\"https://www.tensorflow.org/images/colab_logo_32px.png\" />\n",
    "    Run in Google Colab</a>\n",
    "  </td>\n",
    "  <td>\n",
    "    <a target=\"_blank\" href=\"https://github.com/tensorflow/agents/blob/master/docs/tutorials/1_dqn_tutorial.ipynb\">\n",
    "    <img src=\"https://www.tensorflow.org/images/GitHub-Mark-32px.png\" />\n",
    "    View source on GitHub</a>\n",
    "  </td>\n",
    "  <td>\n",
    "    <a href=\"https://storage.googleapis.com/tensorflow_docs/agents/docs/tutorials/1_dqn_tutorial.ipynb\"><img src=\"https://www.tensorflow.org/images/download_logo_32px.png\" />Download notebook</a>\n",
    "  </td>\n",
    "</table>"
   ]
  },
  {
   "cell_type": "markdown",
   "metadata": {
    "colab_type": "text",
    "id": "lsaQlK8fFQqH"
   },
   "source": [
    "## Introduction\n"
   ]
  },
  {
   "cell_type": "markdown",
   "metadata": {
    "colab_type": "text",
    "id": "cKOCZlhUgXVK"
   },
   "source": [
    "This example shows how to train a [DQN (Deep Q Networks)](https://storage.googleapis.com/deepmind-media/dqn/DQNNaturePaper.pdf)  agent on the Cartpole environment using the TF-Agents library.\n",
    "\n",
    "![Cartpole environment](https://raw.githubusercontent.com/tensorflow/agents/master/docs/tutorials/images/cartpole.png)\n",
    "\n",
    "It will walk you through all the components in a Reinforcement Learning (RL) pipeline for training, evaluation and data collection.\n",
    "\n",
    "\n",
    "To run this code live, click the 'Run in Google Colab' link above.\n"
   ]
  },
  {
   "cell_type": "markdown",
   "metadata": {
    "colab_type": "text",
    "id": "1u9QVVsShC9X"
   },
   "source": [
    "## Setup"
   ]
  },
  {
   "cell_type": "markdown",
   "metadata": {
    "colab_type": "text",
    "id": "kNrNXKI7bINP"
   },
   "source": [
    "If you haven't installed the following dependencies, run:"
   ]
  },
  {
   "cell_type": "code",
   "execution_count": 2,
   "metadata": {
    "colab": {},
    "colab_type": "code",
    "id": "KEHR2Ui-lo8O"
   },
   "outputs": [
    {
     "name": "stdout",
     "output_type": "stream",
     "text": [
      "\r",
      "Reading package lists... 0%\r",
      "\r",
      "Reading package lists... 100%\r",
      "\r",
      "Reading package lists... Done\r",
      "\r\n",
      "\r",
      "Building dependency tree... 0%\r",
      "\r",
      "Building dependency tree... 0%\r"
     ]
    },
    {
     "name": "stdout",
     "output_type": "stream",
     "text": [
      "\r",
      "Building dependency tree... 50%\r",
      "\r",
      "Building dependency tree... 50%\r"
     ]
    },
    {
     "name": "stdout",
     "output_type": "stream",
     "text": [
      "\r",
      "Building dependency tree       \r",
      "\r\n",
      "\r",
      "Reading state information... 0%\r",
      "\r",
      "Reading state information... 0%\r",
      "\r",
      "Reading state information... Done\r",
      "\r\n"
     ]
    },
    {
     "name": "stdout",
     "output_type": "stream",
     "text": [
      "ffmpeg is already the newest version (7:3.4.6-0ubuntu0.18.04.1).\r\n",
      "xvfb is already the newest version (2:1.19.6-1ubuntu4.4).\r\n"
     ]
    },
    {
     "name": "stdout",
     "output_type": "stream",
     "text": [
      "0 upgraded, 0 newly installed, 0 to remove and 106 not upgraded.\r\n"
     ]
    }
   ],
   "source": [
    "!sudo apt-get install -y xvfb ffmpeg\n",
    "!pip install -q 'gym==0.10.11'\n",
    "!pip install -q 'imageio==2.4.0'\n",
    "!pip install -q PILLOW\n",
    "!pip install -q 'pyglet==1.3.2'\n",
    "!pip install -q pyvirtualdisplay\n",
    "!pip install -q tf-agents"
   ]
  },
  {
   "cell_type": "code",
   "execution_count": 3,
   "metadata": {
    "colab": {},
    "colab_type": "code",
    "id": "sMitx5qSgJk1"
   },
   "outputs": [],
   "source": [
    "from __future__ import absolute_import, division, print_function\n",
    "\n",
    "import base64\n",
    "import imageio\n",
    "import IPython\n",
    "import matplotlib\n",
    "import matplotlib.pyplot as plt\n",
    "import numpy as np\n",
    "import PIL.Image\n",
    "import pyvirtualdisplay\n",
    "\n",
    "import tensorflow as tf\n",
    "\n",
    "from tf_agents.agents.dqn import dqn_agent\n",
    "from tf_agents.drivers import dynamic_step_driver\n",
    "from tf_agents.environments import suite_gym\n",
    "from tf_agents.environments import tf_py_environment\n",
    "from tf_agents.eval import metric_utils\n",
    "from tf_agents.metrics import tf_metrics\n",
    "from tf_agents.networks import q_network\n",
    "from tf_agents.policies import random_tf_policy\n",
    "from tf_agents.replay_buffers import tf_uniform_replay_buffer\n",
    "from tf_agents.trajectories import trajectory\n",
    "from tf_agents.utils import common"
   ]
  },
  {
   "cell_type": "code",
   "execution_count": 4,
   "metadata": {
    "colab": {},
    "colab_type": "code",
    "id": "J6HsdS5GbSjd"
   },
   "outputs": [
    {
     "name": "stderr",
     "output_type": "stream",
     "text": [
      "xdpyinfo was not found, X start can not be checked! Please install xdpyinfo!\n"
     ]
    }
   ],
   "source": [
    "tf.compat.v1.enable_v2_behavior()\n",
    "\n",
    "# Set up a virtual display for rendering OpenAI gym environments.\n",
    "display = pyvirtualdisplay.Display(visible=0, size=(1400, 900)).start()"
   ]
  },
  {
   "cell_type": "code",
   "execution_count": 5,
   "metadata": {
    "colab": {},
    "colab_type": "code",
    "id": "NspmzG4nP3b9"
   },
   "outputs": [
    {
     "data": {
      "text/plain": [
       "'2.2.0'"
      ]
     },
     "execution_count": 5,
     "metadata": {},
     "output_type": "execute_result"
    }
   ],
   "source": [
    "tf.version.VERSION"
   ]
  },
  {
   "cell_type": "markdown",
   "metadata": {
    "colab_type": "text",
    "id": "LmC0NDhdLIKY"
   },
   "source": [
    "## Hyperparameters"
   ]
  },
  {
   "cell_type": "code",
   "execution_count": 6,
   "metadata": {
    "colab": {},
    "colab_type": "code",
    "id": "HC1kNrOsLSIZ"
   },
   "outputs": [],
   "source": [
    "num_iterations = 20000 # @param {type:\"integer\"}\n",
    "\n",
    "initial_collect_steps = 1000  # @param {type:\"integer\"} \n",
    "collect_steps_per_iteration = 1  # @param {type:\"integer\"}\n",
    "replay_buffer_max_length = 100000  # @param {type:\"integer\"}\n",
    "\n",
    "batch_size = 64  # @param {type:\"integer\"}\n",
    "learning_rate = 1e-3  # @param {type:\"number\"}\n",
    "log_interval = 200  # @param {type:\"integer\"}\n",
    "\n",
    "num_eval_episodes = 10  # @param {type:\"integer\"}\n",
    "eval_interval = 1000  # @param {type:\"integer\"}"
   ]
  },
  {
   "cell_type": "markdown",
   "metadata": {
    "colab_type": "text",
    "id": "VMsJC3DEgI0x"
   },
   "source": [
    "## Environment\n",
    "\n",
    "In Reinforcement Learning (RL), an environment represents the task or problem to be solved. Standard environments can be created in TF-Agents using `tf_agents.environments` suites. TF-Agents has suites for loading environments from sources such as the OpenAI Gym, Atari, and DM Control.\n",
    "\n",
    "Load the CartPole environment from the OpenAI Gym suite. "
   ]
  },
  {
   "cell_type": "code",
   "execution_count": 7,
   "metadata": {
    "colab": {},
    "colab_type": "code",
    "id": "pYEz-S9gEv2-"
   },
   "outputs": [],
   "source": [
    "env_name = 'CartPole-v0'\n",
    "env = suite_gym.load(env_name)"
   ]
  },
  {
   "cell_type": "markdown",
   "metadata": {
    "colab_type": "text",
    "id": "IIHYVBkuvPNw"
   },
   "source": [
    "You can render this environment to see how it looks. A free-swinging pole is attached to a cart.  The goal is to move the cart right or left in order to keep the pole pointing up."
   ]
  },
  {
   "cell_type": "code",
   "execution_count": 8,
   "metadata": {
    "colab": {},
    "colab_type": "code",
    "id": "RlO7WIQHu_7D"
   },
   "outputs": [
    {
     "data": {
      "image/png": "[encoded data removed]",
      "text/plain": [
       "<PIL.Image.Image image mode=RGB size=600x400 at 0x7FC695592C88>"
      ]
     },
     "execution_count": 8,
     "metadata": {},
     "output_type": "execute_result"
    }
   ],
   "source": [
    "#@test {\"skip\": true}\n",
    "env.reset()\n",
    "PIL.Image.fromarray(env.render())"
   ]
  },
  {
   "cell_type": "markdown",
   "metadata": {
    "colab_type": "text",
    "id": "B9_lskPOey18"
   },
   "source": [
    "The `environment.step` method takes an `action` in the environment and returns a `TimeStep` tuple containing the next observation of the environment and the reward for the action.\n",
    "\n",
    "The `time_step_spec()` method returns the specification for the `TimeStep` tuple. Its `observation` attribute shows the shape of observations, the data types, and the ranges of allowed values. The `reward` attribute shows the same details for the reward.\n"
   ]
  },
  {
   "cell_type": "code",
   "execution_count": 9,
   "metadata": {
    "colab": {},
    "colab_type": "code",
    "id": "exDv57iHfwQV"
   },
   "outputs": [
    {
     "name": "stdout",
     "output_type": "stream",
     "text": [
      "Observation Spec:\n",
      "BoundedArraySpec(shape=(4,), dtype=dtype('float32'), name='observation', minimum=[-4.8000002e+00 -3.4028235e+38 -4.1887903e-01 -3.4028235e+38], maximum=[4.8000002e+00 3.4028235e+38 4.1887903e-01 3.4028235e+38])\n"
     ]
    }
   ],
   "source": [
    "print('Observation Spec:')\n",
    "print(env.time_step_spec().observation)"
   ]
  },
  {
   "cell_type": "code",
   "execution_count": 10,
   "metadata": {
    "colab": {},
    "colab_type": "code",
    "id": "UxiSyCbBUQPi"
   },
   "outputs": [
    {
     "name": "stdout",
     "output_type": "stream",
     "text": [
      "Reward Spec:\n",
      "ArraySpec(shape=(), dtype=dtype('float32'), name='reward')\n"
     ]
    }
   ],
   "source": [
    "print('Reward Spec:')\n",
    "print(env.time_step_spec().reward)"
   ]
  },
  {
   "cell_type": "markdown",
   "metadata": {
    "colab_type": "text",
    "id": "b_lHcIcqUaqB"
   },
   "source": [
    "The `action_spec()` method returns the shape, data types, and allowed values of valid actions."
   ]
  },
  {
   "cell_type": "code",
   "execution_count": 11,
   "metadata": {
    "colab": {},
    "colab_type": "code",
    "id": "bttJ4uxZUQBr"
   },
   "outputs": [
    {
     "name": "stdout",
     "output_type": "stream",
     "text": [
      "Action Spec:\n",
      "BoundedArraySpec(shape=(), dtype=dtype('int64'), name='action', minimum=0, maximum=1)\n"
     ]
    }
   ],
   "source": [
    "print('Action Spec:')\n",
    "print(env.action_spec())"
   ]
  },
  {
   "cell_type": "markdown",
   "metadata": {
    "colab_type": "text",
    "id": "eJCgJnx3g0yY"
   },
   "source": [
    "In the Cartpole environment:\n",
    "\n",
    "-   `observation` is an array of 4 floats: \n",
    "    -   the position and velocity of the cart\n",
    "    -   the angular position and velocity of the pole \n",
    "-   `reward` is a scalar float value\n",
    "-   `action` is a scalar integer with only two possible values:\n",
    "    -   `0` — \"move left\"\n",
    "    -   `1` — \"move right\"\n"
   ]
  },
  {
   "cell_type": "code",
   "execution_count": 12,
   "metadata": {
    "colab": {},
    "colab_type": "code",
    "id": "V2UGR5t_iZX-"
   },
   "outputs": [
    {
     "name": "stdout",
     "output_type": "stream",
     "text": [
      "Time step:\n",
      "TimeStep(step_type=array(0, dtype=int32), reward=array(0., dtype=float32), discount=array(1., dtype=float32), observation=array([ 0.03991858, -0.04385336,  0.01455608, -0.01831544], dtype=float32))\n",
      "Next time step:\n",
      "TimeStep(step_type=array(1, dtype=int32), reward=array(1., dtype=float32), discount=array(1., dtype=float32), observation=array([ 0.03904152,  0.15105686,  0.01418978, -0.30637044], dtype=float32))\n"
     ]
    }
   ],
   "source": [
    "time_step = env.reset()\n",
    "print('Time step:')\n",
    "print(time_step)\n",
    "\n",
    "action = np.array(1, dtype=np.int32)\n",
    "\n",
    "next_time_step = env.step(action)\n",
    "print('Next time step:')\n",
    "print(next_time_step)"
   ]
  },
  {
   "cell_type": "markdown",
   "metadata": {
    "colab_type": "text",
    "id": "4JSc9GviWUBK"
   },
   "source": [
    "Usually two environments are instantiated: one for training and one for evaluation. "
   ]
  },
  {
   "cell_type": "code",
   "execution_count": 13,
   "metadata": {
    "colab": {},
    "colab_type": "code",
    "id": "N7brXNIGWXjC"
   },
   "outputs": [],
   "source": [
    "train_py_env = suite_gym.load(env_name)\n",
    "eval_py_env = suite_gym.load(env_name)"
   ]
  },
  {
   "cell_type": "markdown",
   "metadata": {
    "colab_type": "text",
    "id": "zuUqXAVmecTU"
   },
   "source": [
    "The Cartpole environment, like most environments, is written in pure Python. This is converted to TensorFlow using the `TFPyEnvironment` wrapper.\n",
    "\n",
    "The original environment's API uses Numpy arrays. The `TFPyEnvironment` converts these to `Tensors` to make it compatible with Tensorflow agents and policies.\n"
   ]
  },
  {
   "cell_type": "code",
   "execution_count": 14,
   "metadata": {
    "colab": {},
    "colab_type": "code",
    "id": "Xp-Y4mD6eDhF"
   },
   "outputs": [],
   "source": [
    "train_env = tf_py_environment.TFPyEnvironment(train_py_env)\n",
    "eval_env = tf_py_environment.TFPyEnvironment(eval_py_env)"
   ]
  },
  {
   "cell_type": "markdown",
   "metadata": {
    "colab_type": "text",
    "id": "E9lW_OZYFR8A"
   },
   "source": [
    "## Agent\n",
    "\n",
    "The algorithm used to solve an RL problem is represented by an `Agent`. TF-Agents provides standard implementations of a variety of `Agents`, including:\n",
    "\n",
    "-   [DQN](https://storage.googleapis.com/deepmind-media/dqn/DQNNaturePaper.pdf) (used in this tutorial)\n",
    "-   [REINFORCE](http://www-anw.cs.umass.edu/~barto/courses/cs687/williams92simple.pdf)\n",
    "-   [DDPG](https://arxiv.org/pdf/1509.02971.pdf)\n",
    "-   [TD3](https://arxiv.org/pdf/1802.09477.pdf)\n",
    "-   [PPO](https://arxiv.org/abs/1707.06347)\n",
    "-   [SAC](https://arxiv.org/abs/1801.01290).\n",
    "\n",
    "The DQN agent can be used in any environment which has a discrete action space.\n",
    "\n",
    "At the heart of a DQN Agent is a `QNetwork`, a neural network model that can learn to predict `QValues` (expected returns) for all actions, given an observation from the environment.\n",
    "\n",
    "Use `tf_agents.networks.q_network` to create a `QNetwork`, passing in the `observation_spec`, `action_spec`, and a tuple describing the number and size of the model's hidden layers.\n"
   ]
  },
  {
   "cell_type": "code",
   "execution_count": 15,
   "metadata": {
    "colab": {},
    "colab_type": "code",
    "id": "TgkdEPg_muzV"
   },
   "outputs": [],
   "source": [
    "fc_layer_params = (100,)\n",
    "\n",
    "q_net = q_network.QNetwork(\n",
    "    train_env.observation_spec(),\n",
    "    train_env.action_spec(),\n",
    "    fc_layer_params=fc_layer_params)"
   ]
  },
  {
   "cell_type": "markdown",
   "metadata": {
    "colab_type": "text",
    "id": "z62u55hSmviJ"
   },
   "source": [
    "Now use `tf_agents.agents.dqn.dqn_agent` to instantiate a `DqnAgent`. In addition to the `time_step_spec`, `action_spec` and the QNetwork, the agent constructor also requires an optimizer (in this case, `AdamOptimizer`), a loss function, and an integer step counter."
   ]
  },
  {
   "cell_type": "code",
   "execution_count": 16,
   "metadata": {
    "colab": {},
    "colab_type": "code",
    "id": "jbY4yrjTEyc9"
   },
   "outputs": [],
   "source": [
    "optimizer = tf.compat.v1.train.AdamOptimizer(learning_rate=learning_rate)\n",
    "\n",
    "train_step_counter = tf.Variable(0)\n",
    "\n",
    "agent = dqn_agent.DqnAgent(\n",
    "    train_env.time_step_spec(),\n",
    "    train_env.action_spec(),\n",
    "    q_network=q_net,\n",
    "    optimizer=optimizer,\n",
    "    td_errors_loss_fn=common.element_wise_squared_loss,\n",
    "    train_step_counter=train_step_counter)\n",
    "\n",
    "agent.initialize()"
   ]
  },
  {
   "cell_type": "markdown",
   "metadata": {
    "colab_type": "text",
    "id": "I0KLrEPwkn5x"
   },
   "source": [
    "## Policies\n",
    "\n",
    "A policy defines the way an agent acts in an environment. Typically, the goal of reinforcement learning is to train the underlying model until the policy produces the desired outcome.\n",
    "\n",
    "In this tutorial:\n",
    "\n",
    "-   The desired outcome is keeping the pole balanced upright over the cart.\n",
    "-   The policy returns an action (left or right) for each `time_step` observation.\n",
    "\n",
    "Agents contain two policies: \n",
    "\n",
    "-   `agent.policy` — The main policy that is used for evaluation and deployment.\n",
    "-   `agent.collect_policy` — A second policy that is used for data collection.\n"
   ]
  },
  {
   "cell_type": "code",
   "execution_count": 17,
   "metadata": {
    "colab": {},
    "colab_type": "code",
    "id": "BwY7StuMkuV4"
   },
   "outputs": [],
   "source": [
    "eval_policy = agent.policy\n",
    "collect_policy = agent.collect_policy"
   ]
  },
  {
   "cell_type": "markdown",
   "metadata": {
    "colab_type": "text",
    "id": "2Qs1Fl3dV0ae"
   },
   "source": [
    "Policies can be created independently of agents. For example, use `tf_agents.policies.random_tf_policy` to create a policy which will randomly select an action for each `time_step`."
   ]
  },
  {
   "cell_type": "code",
   "execution_count": 18,
   "metadata": {
    "colab": {},
    "colab_type": "code",
    "id": "HE37-UCIrE69"
   },
   "outputs": [],
   "source": [
    "random_policy = random_tf_policy.RandomTFPolicy(train_env.time_step_spec(),\n",
    "                                                train_env.action_spec())"
   ]
  },
  {
   "cell_type": "markdown",
   "metadata": {
    "colab_type": "text",
    "id": "dOlnlRRsUbxP"
   },
   "source": [
    "To get an action from a policy, call the `policy.action(time_step)` method. The `time_step` contains the observation from the environment. This method returns a `PolicyStep`, which is a named tuple with three components:\n",
    "\n",
    "-   `action` — the action to be taken (in this case, `0` or `1`)\n",
    "-   `state` — used for stateful (that is, RNN-based) policies\n",
    "-   `info` — auxiliary data, such as log probabilities of actions"
   ]
  },
  {
   "cell_type": "code",
   "execution_count": 19,
   "metadata": {
    "colab": {},
    "colab_type": "code",
    "id": "5gCcpXswVAxk"
   },
   "outputs": [],
   "source": [
    "example_environment = tf_py_environment.TFPyEnvironment(\n",
    "    suite_gym.load('CartPole-v0'))"
   ]
  },
  {
   "cell_type": "code",
   "execution_count": 20,
   "metadata": {
    "colab": {},
    "colab_type": "code",
    "id": "D4DHZtq3Ndis"
   },
   "outputs": [],
   "source": [
    "time_step = example_environment.reset()"
   ]
  },
  {
   "cell_type": "code",
   "execution_count": 21,
   "metadata": {
    "colab": {},
    "colab_type": "code",
    "id": "PRFqAUzpNaAW"
   },
   "outputs": [
    {
     "data": {
      "text/plain": [
       "PolicyStep(action=<tf.Tensor: shape=(1,), dtype=int64, numpy=array([0])>, state=(), info=())"
      ]
     },
     "execution_count": 21,
     "metadata": {},
     "output_type": "execute_result"
    }
   ],
   "source": [
    "random_policy.action(time_step)"
   ]
  },
  {
   "cell_type": "markdown",
   "metadata": {
    "colab_type": "text",
    "id": "94rCXQtbUbXv"
   },
   "source": [
    "## Metrics and Evaluation\n",
    "\n",
    "The most common metric used to evaluate a policy is the average return. The return is the sum of rewards obtained while running a policy in an environment for an episode. Several episodes are run, creating an average return.\n",
    "\n",
    "The following function computes the average return of a policy, given the policy, environment, and a number of episodes.\n"
   ]
  },
  {
   "cell_type": "code",
   "execution_count": 22,
   "metadata": {
    "colab": {},
    "colab_type": "code",
    "id": "bitzHo5_UbXy"
   },
   "outputs": [],
   "source": [
    "#@test {\"skip\": true}\n",
    "def compute_avg_return(environment, policy, num_episodes=10):\n",
    "\n",
    "  total_return = 0.0\n",
    "  for _ in range(num_episodes):\n",
    "\n",
    "    time_step = environment.reset()\n",
    "    episode_return = 0.0\n",
    "\n",
    "    while not time_step.is_last():\n",
    "      action_step = policy.action(time_step)\n",
    "      time_step = environment.step(action_step.action)\n",
    "      episode_return += time_step.reward\n",
    "    total_return += episode_return\n",
    "\n",
    "  avg_return = total_return / num_episodes\n",
    "  return avg_return.numpy()[0]\n",
    "\n",
    "\n",
    "# See also the metrics module for standard implementations of different metrics.\n",
    "# https://github.com/tensorflow/agents/tree/master/tf_agents/metrics"
   ]
  },
  {
   "cell_type": "markdown",
   "metadata": {
    "colab_type": "text",
    "id": "_snCVvq5Z8lJ"
   },
   "source": [
    "Running this computation on the `random_policy` shows a baseline performance in the environment."
   ]
  },
  {
   "cell_type": "code",
   "execution_count": 23,
   "metadata": {
    "colab": {},
    "colab_type": "code",
    "id": "9bgU6Q6BZ8Bp"
   },
   "outputs": [
    {
     "data": {
      "text/plain": [
       "20.1"
      ]
     },
     "execution_count": 23,
     "metadata": {},
     "output_type": "execute_result"
    }
   ],
   "source": [
    "compute_avg_return(eval_env, random_policy, num_eval_episodes)"
   ]
  },
  {
   "cell_type": "markdown",
   "metadata": {
    "colab_type": "text",
    "id": "NLva6g2jdWgr"
   },
   "source": [
    "## Replay Buffer\n",
    "\n",
    "The replay buffer keeps track of data collected from the environment. This tutorial uses `tf_agents.replay_buffers.tf_uniform_replay_buffer.TFUniformReplayBuffer`, as it is the most common. \n",
    "\n",
    "The constructor requires the specs for the data it will be collecting. This is available from the agent using the `collect_data_spec` method. The batch size and maximum buffer length are also required.\n"
   ]
  },
  {
   "cell_type": "code",
   "execution_count": 24,
   "metadata": {
    "colab": {},
    "colab_type": "code",
    "id": "vX2zGUWJGWAl"
   },
   "outputs": [],
   "source": [
    "replay_buffer = tf_uniform_replay_buffer.TFUniformReplayBuffer(\n",
    "    data_spec=agent.collect_data_spec,\n",
    "    batch_size=train_env.batch_size,\n",
    "    max_length=replay_buffer_max_length)"
   ]
  },
  {
   "cell_type": "markdown",
   "metadata": {
    "colab_type": "text",
    "id": "ZGNTDJpZs4NN"
   },
   "source": [
    "For most agents, `collect_data_spec` is a named tuple called `Trajectory`, containing the specs for observations, actions, rewards, and other items."
   ]
  },
  {
   "cell_type": "code",
   "execution_count": 25,
   "metadata": {
    "colab": {},
    "colab_type": "code",
    "id": "_IZ-3HcqgE1z"
   },
   "outputs": [
    {
     "data": {
      "text/plain": [
       "Trajectory(step_type=TensorSpec(shape=(), dtype=tf.int32, name='step_type'), observation=BoundedTensorSpec(shape=(4,), dtype=tf.float32, name='observation', minimum=array([-4.8000002e+00, -3.4028235e+38, -4.1887903e-01, -3.4028235e+38],\n",
       "      dtype=float32), maximum=array([4.8000002e+00, 3.4028235e+38, 4.1887903e-01, 3.4028235e+38],\n",
       "      dtype=float32)), action=BoundedTensorSpec(shape=(), dtype=tf.int64, name='action', minimum=array(0), maximum=array(1)), policy_info=(), next_step_type=TensorSpec(shape=(), dtype=tf.int32, name='step_type'), reward=TensorSpec(shape=(), dtype=tf.float32, name='reward'), discount=BoundedTensorSpec(shape=(), dtype=tf.float32, name='discount', minimum=array(0., dtype=float32), maximum=array(1., dtype=float32)))"
      ]
     },
     "execution_count": 25,
     "metadata": {},
     "output_type": "execute_result"
    }
   ],
   "source": [
    "agent.collect_data_spec"
   ]
  },
  {
   "cell_type": "code",
   "execution_count": 26,
   "metadata": {
    "colab": {},
    "colab_type": "code",
    "id": "sy6g1tGcfRlw"
   },
   "outputs": [
    {
     "data": {
      "text/plain": [
       "('step_type',\n",
       " 'observation',\n",
       " 'action',\n",
       " 'policy_info',\n",
       " 'next_step_type',\n",
       " 'reward',\n",
       " 'discount')"
      ]
     },
     "execution_count": 26,
     "metadata": {},
     "output_type": "execute_result"
    }
   ],
   "source": [
    "agent.collect_data_spec._fields"
   ]
  },
  {
   "cell_type": "markdown",
   "metadata": {
    "colab_type": "text",
    "id": "rVD5nQ9ZGo8_"
   },
   "source": [
    "## Data Collection\n",
    "\n",
    "Now execute the random policy in the environment for a few steps, recording the data in the replay buffer."
   ]
  },
  {
   "cell_type": "code",
   "execution_count": 27,
   "metadata": {
    "colab": {},
    "colab_type": "code",
    "id": "wr1KSAEGG4h9"
   },
   "outputs": [],
   "source": [
    "#@test {\"skip\": true}\n",
    "def collect_step(environment, policy, buffer):\n",
    "  time_step = environment.current_time_step()\n",
    "  action_step = policy.action(time_step)\n",
    "  next_time_step = environment.step(action_step.action)\n",
    "  traj = trajectory.from_transition(time_step, action_step, next_time_step)\n",
    "\n",
    "  # Add trajectory to the replay buffer\n",
    "  buffer.add_batch(traj)\n",
    "\n",
    "def collect_data(env, policy, buffer, steps):\n",
    "  for _ in range(steps):\n",
    "    collect_step(env, policy, buffer)\n",
    "\n",
    "collect_data(train_env, random_policy, replay_buffer, steps=100)\n",
    "\n",
    "# This loop is so common in RL, that we provide standard implementations. \n",
    "# For more details see the drivers module.\n",
    "# https://www.tensorflow.org/agents/api_docs/python/tf_agents/drivers"
   ]
  },
  {
   "cell_type": "markdown",
   "metadata": {
    "colab_type": "text",
    "id": "84z5pQJdoKxo"
   },
   "source": [
    "The replay buffer is now a collection of Trajectories."
   ]
  },
  {
   "cell_type": "code",
   "execution_count": 28,
   "metadata": {
    "colab": {},
    "colab_type": "code",
    "id": "4wZnLu2ViO4E"
   },
   "outputs": [],
   "source": [
    "# For the curious:\n",
    "# Uncomment to peel one of these off and inspect it.\n",
    "# iter(replay_buffer.as_dataset()).next()"
   ]
  },
  {
   "cell_type": "markdown",
   "metadata": {
    "colab_type": "text",
    "id": "TujU-PMUsKjS"
   },
   "source": [
    "The agent needs access to the replay buffer. This is provided by creating an iterable `tf.data.Dataset` pipeline which will feed data to the agent.\n",
    "\n",
    "Each row of the replay buffer only stores a single observation step. But since the DQN Agent needs both the current and next observation to compute the loss, the dataset pipeline will sample two adjacent rows for each item in the batch (`num_steps=2`).\n",
    "\n",
    "This dataset is also optimized by running parallel calls and prefetching data."
   ]
  },
  {
   "cell_type": "code",
   "execution_count": 29,
   "metadata": {
    "colab": {},
    "colab_type": "code",
    "id": "ba7bilizt_qW"
   },
   "outputs": [
    {
     "data": {
      "text/plain": [
       "<PrefetchDataset shapes: (Trajectory(step_type=(64, 2), observation=(64, 2, 4), action=(64, 2), policy_info=(), next_step_type=(64, 2), reward=(64, 2), discount=(64, 2)), BufferInfo(ids=(64, 2), probabilities=(64,))), types: (Trajectory(step_type=tf.int32, observation=tf.float32, action=tf.int64, policy_info=(), next_step_type=tf.int32, reward=tf.float32, discount=tf.float32), BufferInfo(ids=tf.int64, probabilities=tf.float32))>"
      ]
     },
     "execution_count": 29,
     "metadata": {},
     "output_type": "execute_result"
    }
   ],
   "source": [
    "# Dataset generates trajectories with shape [Bx2x...]\n",
    "dataset = replay_buffer.as_dataset(\n",
    "    num_parallel_calls=3, \n",
    "    sample_batch_size=batch_size, \n",
    "    num_steps=2).prefetch(3)\n",
    "\n",
    "\n",
    "dataset"
   ]
  },
  {
   "cell_type": "code",
   "execution_count": 30,
   "metadata": {
    "colab": {},
    "colab_type": "code",
    "id": "K13AST-2ppOq"
   },
   "outputs": [
    {
     "name": "stdout",
     "output_type": "stream",
     "text": [
      "<tensorflow.python.data.ops.iterator_ops.OwnedIterator object at 0x7fc68c04dc50>\n"
     ]
    }
   ],
   "source": [
    "iterator = iter(dataset)\n",
    "\n",
    "print(iterator)\n"
   ]
  },
  {
   "cell_type": "code",
   "execution_count": 31,
   "metadata": {
    "colab": {},
    "colab_type": "code",
    "id": "Th5w5Sff0b16"
   },
   "outputs": [],
   "source": [
    "# For the curious:\n",
    "# Uncomment to see what the dataset iterator is feeding to the agent.\n",
    "# Compare this representation of replay data \n",
    "# to the collection of individual trajectories shown earlier.\n",
    "\n",
    "# iterator.next()"
   ]
  },
  {
   "cell_type": "markdown",
   "metadata": {
    "colab_type": "text",
    "id": "hBc9lj9VWWtZ"
   },
   "source": [
    "## Training the agent\n",
    "\n",
    "Two things must happen during the training loop:\n",
    "\n",
    "-   collect data from the environment\n",
    "-   use that data to train the agent's neural network(s)\n",
    "\n",
    "This example also periodicially evaluates the policy and prints the current score.\n",
    "\n",
    "The following will take ~5 minutes to run."
   ]
  },
  {
   "cell_type": "code",
   "execution_count": 32,
   "metadata": {
    "colab": {},
    "colab_type": "code",
    "id": "0pTbJ3PeyF-u"
   },
   "outputs": [
    {
     "name": "stdout",
     "output_type": "stream",
     "text": [
      "step = 200: loss = 16.901878356933594\n"
     ]
    },
    {
     "name": "stdout",
     "output_type": "stream",
     "text": [
      "step = 400: loss = 12.186140060424805\n"
     ]
    },
    {
     "name": "stdout",
     "output_type": "stream",
     "text": [
      "step = 600: loss = 2.231525421142578\n"
     ]
    },
    {
     "name": "stdout",
     "output_type": "stream",
     "text": [
      "step = 800: loss = 6.742991924285889\n"
     ]
    },
    {
     "name": "stdout",
     "output_type": "stream",
     "text": [
      "step = 1000: loss = 10.06507396697998\n"
     ]
    },
    {
     "name": "stdout",
     "output_type": "stream",
     "text": [
      "step = 1000: Average Return = 9.699999809265137\n"
     ]
    },
    {
     "name": "stdout",
     "output_type": "stream",
     "text": [
      "step = 1200: loss = 3.08715558052063\n"
     ]
    },
    {
     "name": "stdout",
     "output_type": "stream",
     "text": [
      "step = 1400: loss = 6.075962543487549\n"
     ]
    },
    {
     "name": "stdout",
     "output_type": "stream",
     "text": [
      "step = 1600: loss = 5.193968296051025\n"
     ]
    },
    {
     "name": "stdout",
     "output_type": "stream",
     "text": [
      "step = 1800: loss = 4.392614364624023\n"
     ]
    },
    {
     "name": "stdout",
     "output_type": "stream",
     "text": [
      "step = 2000: loss = 17.22456169128418\n"
     ]
    },
    {
     "name": "stdout",
     "output_type": "stream",
     "text": [
      "step = 2000: Average Return = 40.79999923706055\n"
     ]
    },
    {
     "name": "stdout",
     "output_type": "stream",
     "text": [
      "step = 2200: loss = 13.467318534851074\n"
     ]
    },
    {
     "name": "stdout",
     "output_type": "stream",
     "text": [
      "step = 2400: loss = 9.49841022491455\n"
     ]
    },
    {
     "name": "stdout",
     "output_type": "stream",
     "text": [
      "step = 2600: loss = 45.68354797363281\n"
     ]
    },
    {
     "name": "stdout",
     "output_type": "stream",
     "text": [
      "step = 2800: loss = 11.754219055175781\n"
     ]
    },
    {
     "name": "stdout",
     "output_type": "stream",
     "text": [
      "step = 3000: loss = 19.06377601623535\n"
     ]
    },
    {
     "name": "stdout",
     "output_type": "stream",
     "text": [
      "step = 3000: Average Return = 103.19999694824219\n"
     ]
    },
    {
     "name": "stdout",
     "output_type": "stream",
     "text": [
      "step = 3200: loss = 39.60091018676758\n"
     ]
    },
    {
     "name": "stdout",
     "output_type": "stream",
     "text": [
      "step = 3400: loss = 10.881290435791016\n"
     ]
    },
    {
     "name": "stdout",
     "output_type": "stream",
     "text": [
      "step = 3600: loss = 59.99192810058594\n"
     ]
    },
    {
     "name": "stdout",
     "output_type": "stream",
     "text": [
      "step = 3800: loss = 59.46244812011719\n"
     ]
    },
    {
     "name": "stdout",
     "output_type": "stream",
     "text": [
      "step = 4000: loss = 13.041789054870605\n"
     ]
    },
    {
     "name": "stdout",
     "output_type": "stream",
     "text": [
      "step = 4000: Average Return = 120.0\n"
     ]
    },
    {
     "name": "stdout",
     "output_type": "stream",
     "text": [
      "step = 4200: loss = 96.69944763183594\n"
     ]
    },
    {
     "name": "stdout",
     "output_type": "stream",
     "text": [
      "step = 4400: loss = 116.69087219238281\n"
     ]
    },
    {
     "name": "stdout",
     "output_type": "stream",
     "text": [
      "step = 4600: loss = 10.043195724487305\n"
     ]
    },
    {
     "name": "stdout",
     "output_type": "stream",
     "text": [
      "step = 4800: loss = 82.3175277709961\n"
     ]
    },
    {
     "name": "stdout",
     "output_type": "stream",
     "text": [
      "step = 5000: loss = 51.66120147705078\n"
     ]
    },
    {
     "name": "stdout",
     "output_type": "stream",
     "text": [
      "step = 5000: Average Return = 144.3000030517578\n"
     ]
    },
    {
     "name": "stdout",
     "output_type": "stream",
     "text": [
      "step = 5200: loss = 110.7924575805664\n"
     ]
    },
    {
     "name": "stdout",
     "output_type": "stream",
     "text": [
      "step = 5400: loss = 71.87730407714844\n"
     ]
    },
    {
     "name": "stdout",
     "output_type": "stream",
     "text": [
      "step = 5600: loss = 124.90029907226562\n"
     ]
    },
    {
     "name": "stdout",
     "output_type": "stream",
     "text": [
      "step = 5800: loss = 186.21002197265625\n"
     ]
    },
    {
     "name": "stdout",
     "output_type": "stream",
     "text": [
      "step = 6000: loss = 47.16496276855469\n"
     ]
    },
    {
     "name": "stdout",
     "output_type": "stream",
     "text": [
      "step = 6000: Average Return = 182.0\n"
     ]
    },
    {
     "name": "stdout",
     "output_type": "stream",
     "text": [
      "step = 6200: loss = 75.52715301513672\n"
     ]
    },
    {
     "name": "stdout",
     "output_type": "stream",
     "text": [
      "step = 6400: loss = 28.237262725830078\n"
     ]
    },
    {
     "name": "stdout",
     "output_type": "stream",
     "text": [
      "step = 6600: loss = 229.74737548828125\n"
     ]
    },
    {
     "name": "stdout",
     "output_type": "stream",
     "text": [
      "step = 6800: loss = 7.925192832946777\n"
     ]
    },
    {
     "name": "stdout",
     "output_type": "stream",
     "text": [
      "step = 7000: loss = 26.890417098999023\n"
     ]
    },
    {
     "name": "stdout",
     "output_type": "stream",
     "text": [
      "step = 7000: Average Return = 198.3000030517578\n"
     ]
    },
    {
     "name": "stdout",
     "output_type": "stream",
     "text": [
      "step = 7200: loss = 140.7599639892578\n"
     ]
    },
    {
     "name": "stdout",
     "output_type": "stream",
     "text": [
      "step = 7400: loss = 125.32534790039062\n"
     ]
    },
    {
     "name": "stdout",
     "output_type": "stream",
     "text": [
      "step = 7600: loss = 33.936988830566406\n"
     ]
    },
    {
     "name": "stdout",
     "output_type": "stream",
     "text": [
      "step = 7800: loss = 17.695465087890625\n"
     ]
    },
    {
     "name": "stdout",
     "output_type": "stream",
     "text": [
      "step = 8000: loss = 417.2754821777344\n"
     ]
    },
    {
     "name": "stdout",
     "output_type": "stream",
     "text": [
      "step = 8000: Average Return = 175.1999969482422\n"
     ]
    },
    {
     "name": "stdout",
     "output_type": "stream",
     "text": [
      "step = 8200: loss = 404.68902587890625\n"
     ]
    },
    {
     "name": "stdout",
     "output_type": "stream",
     "text": [
      "step = 8400: loss = 218.26913452148438\n"
     ]
    },
    {
     "name": "stdout",
     "output_type": "stream",
     "text": [
      "step = 8600: loss = 292.378173828125\n"
     ]
    },
    {
     "name": "stdout",
     "output_type": "stream",
     "text": [
      "step = 8800: loss = 151.94009399414062\n"
     ]
    },
    {
     "name": "stdout",
     "output_type": "stream",
     "text": [
      "step = 9000: loss = 10.904906272888184\n"
     ]
    },
    {
     "name": "stdout",
     "output_type": "stream",
     "text": [
      "step = 9000: Average Return = 200.0\n"
     ]
    },
    {
     "name": "stdout",
     "output_type": "stream",
     "text": [
      "step = 9200: loss = 101.53521728515625\n"
     ]
    },
    {
     "name": "stdout",
     "output_type": "stream",
     "text": [
      "step = 9400: loss = 22.744359970092773\n"
     ]
    },
    {
     "name": "stdout",
     "output_type": "stream",
     "text": [
      "step = 9600: loss = 20.16485595703125\n"
     ]
    },
    {
     "name": "stdout",
     "output_type": "stream",
     "text": [
      "step = 9800: loss = 497.58282470703125\n"
     ]
    },
    {
     "name": "stdout",
     "output_type": "stream",
     "text": [
      "step = 10000: loss = 27.72100257873535\n"
     ]
    },
    {
     "name": "stdout",
     "output_type": "stream",
     "text": [
      "step = 10000: Average Return = 200.0\n"
     ]
    },
    {
     "name": "stdout",
     "output_type": "stream",
     "text": [
      "step = 10200: loss = 29.316068649291992\n"
     ]
    },
    {
     "name": "stdout",
     "output_type": "stream",
     "text": [
      "step = 10400: loss = 27.07110023498535\n"
     ]
    },
    {
     "name": "stdout",
     "output_type": "stream",
     "text": [
      "step = 10600: loss = 1027.6436767578125\n"
     ]
    },
    {
     "name": "stdout",
     "output_type": "stream",
     "text": [
      "step = 10800: loss = 39.45296096801758\n"
     ]
    },
    {
     "name": "stdout",
     "output_type": "stream",
     "text": [
      "step = 11000: loss = 421.12591552734375\n"
     ]
    },
    {
     "name": "stdout",
     "output_type": "stream",
     "text": [
      "step = 11000: Average Return = 200.0\n"
     ]
    },
    {
     "name": "stdout",
     "output_type": "stream",
     "text": [
      "step = 11200: loss = 42.082427978515625\n"
     ]
    },
    {
     "name": "stdout",
     "output_type": "stream",
     "text": [
      "step = 11400: loss = 33.844539642333984\n"
     ]
    },
    {
     "name": "stdout",
     "output_type": "stream",
     "text": [
      "step = 11600: loss = 285.5215759277344\n"
     ]
    },
    {
     "name": "stdout",
     "output_type": "stream",
     "text": [
      "step = 11800: loss = 47.359458923339844\n"
     ]
    },
    {
     "name": "stdout",
     "output_type": "stream",
     "text": [
      "step = 12000: loss = 32.875953674316406\n"
     ]
    },
    {
     "name": "stdout",
     "output_type": "stream",
     "text": [
      "step = 12000: Average Return = 200.0\n"
     ]
    },
    {
     "name": "stdout",
     "output_type": "stream",
     "text": [
      "step = 12200: loss = 838.3558349609375\n"
     ]
    },
    {
     "name": "stdout",
     "output_type": "stream",
     "text": [
      "step = 12400: loss = 346.6293029785156\n"
     ]
    },
    {
     "name": "stdout",
     "output_type": "stream",
     "text": [
      "step = 12600: loss = 65.19607543945312\n"
     ]
    },
    {
     "name": "stdout",
     "output_type": "stream",
     "text": [
      "step = 12800: loss = 407.0276794433594\n"
     ]
    },
    {
     "name": "stdout",
     "output_type": "stream",
     "text": [
      "step = 13000: loss = 106.07632446289062\n"
     ]
    },
    {
     "name": "stdout",
     "output_type": "stream",
     "text": [
      "step = 13000: Average Return = 200.0\n"
     ]
    },
    {
     "name": "stdout",
     "output_type": "stream",
     "text": [
      "step = 13200: loss = 2110.2392578125\n"
     ]
    },
    {
     "name": "stdout",
     "output_type": "stream",
     "text": [
      "step = 13400: loss = 946.5299072265625\n"
     ]
    },
    {
     "name": "stdout",
     "output_type": "stream",
     "text": [
      "step = 13600: loss = 612.7649536132812\n"
     ]
    },
    {
     "name": "stdout",
     "output_type": "stream",
     "text": [
      "step = 13800: loss = 68.49983215332031\n"
     ]
    },
    {
     "name": "stdout",
     "output_type": "stream",
     "text": [
      "step = 14000: loss = 36.32170867919922\n"
     ]
    },
    {
     "name": "stdout",
     "output_type": "stream",
     "text": [
      "step = 14000: Average Return = 200.0\n"
     ]
    },
    {
     "name": "stdout",
     "output_type": "stream",
     "text": [
      "step = 14200: loss = 30.484479904174805\n"
     ]
    },
    {
     "name": "stdout",
     "output_type": "stream",
     "text": [
      "step = 14400: loss = 825.1959228515625\n"
     ]
    },
    {
     "name": "stdout",
     "output_type": "stream",
     "text": [
      "step = 14600: loss = 58.72975158691406\n"
     ]
    },
    {
     "name": "stdout",
     "output_type": "stream",
     "text": [
      "step = 14800: loss = 60.17693328857422\n"
     ]
    },
    {
     "name": "stdout",
     "output_type": "stream",
     "text": [
      "step = 15000: loss = 1825.38134765625\n"
     ]
    },
    {
     "name": "stdout",
     "output_type": "stream",
     "text": [
      "step = 15000: Average Return = 200.0\n"
     ]
    },
    {
     "name": "stdout",
     "output_type": "stream",
     "text": [
      "step = 15200: loss = 763.6357421875\n"
     ]
    },
    {
     "name": "stdout",
     "output_type": "stream",
     "text": [
      "step = 15400: loss = 1001.560302734375\n"
     ]
    },
    {
     "name": "stdout",
     "output_type": "stream",
     "text": [
      "step = 15600: loss = 3181.086669921875\n"
     ]
    },
    {
     "name": "stdout",
     "output_type": "stream",
     "text": [
      "step = 15800: loss = 561.4116821289062\n"
     ]
    },
    {
     "name": "stdout",
     "output_type": "stream",
     "text": [
      "step = 16000: loss = 50.77328109741211\n"
     ]
    },
    {
     "name": "stdout",
     "output_type": "stream",
     "text": [
      "step = 16000: Average Return = 200.0\n"
     ]
    },
    {
     "name": "stdout",
     "output_type": "stream",
     "text": [
      "step = 16200: loss = 229.42608642578125\n"
     ]
    },
    {
     "name": "stdout",
     "output_type": "stream",
     "text": [
      "step = 16400: loss = 596.368408203125\n"
     ]
    },
    {
     "name": "stdout",
     "output_type": "stream",
     "text": [
      "step = 16600: loss = 58.44059753417969\n"
     ]
    },
    {
     "name": "stdout",
     "output_type": "stream",
     "text": [
      "step = 16800: loss = 2534.812744140625\n"
     ]
    },
    {
     "name": "stdout",
     "output_type": "stream",
     "text": [
      "step = 17000: loss = 45.300994873046875\n"
     ]
    },
    {
     "name": "stdout",
     "output_type": "stream",
     "text": [
      "step = 17000: Average Return = 200.0\n"
     ]
    },
    {
     "name": "stdout",
     "output_type": "stream",
     "text": [
      "step = 17200: loss = 1175.06982421875\n"
     ]
    },
    {
     "name": "stdout",
     "output_type": "stream",
     "text": [
      "step = 17400: loss = 65.79796600341797\n"
     ]
    },
    {
     "name": "stdout",
     "output_type": "stream",
     "text": [
      "step = 17600: loss = 4781.65087890625\n"
     ]
    },
    {
     "name": "stdout",
     "output_type": "stream",
     "text": [
      "step = 17800: loss = 140.61387634277344\n"
     ]
    },
    {
     "name": "stdout",
     "output_type": "stream",
     "text": [
      "step = 18000: loss = 389.4461669921875\n"
     ]
    },
    {
     "name": "stdout",
     "output_type": "stream",
     "text": [
      "step = 18000: Average Return = 200.0\n"
     ]
    },
    {
     "name": "stdout",
     "output_type": "stream",
     "text": [
      "step = 18200: loss = 139.69020080566406\n"
     ]
    },
    {
     "name": "stdout",
     "output_type": "stream",
     "text": [
      "step = 18400: loss = 1698.4991455078125\n"
     ]
    },
    {
     "name": "stdout",
     "output_type": "stream",
     "text": [
      "step = 18600: loss = 88.06047058105469\n"
     ]
    },
    {
     "name": "stdout",
     "output_type": "stream",
     "text": [
      "step = 18800: loss = 76.04205322265625\n"
     ]
    },
    {
     "name": "stdout",
     "output_type": "stream",
     "text": [
      "step = 19000: loss = 173.529541015625\n"
     ]
    },
    {
     "name": "stdout",
     "output_type": "stream",
     "text": [
      "step = 19000: Average Return = 200.0\n"
     ]
    },
    {
     "name": "stdout",
     "output_type": "stream",
     "text": [
      "step = 19200: loss = 2307.03369140625\n"
     ]
    },
    {
     "name": "stdout",
     "output_type": "stream",
     "text": [
      "step = 19400: loss = 3000.684326171875\n"
     ]
    },
    {
     "name": "stdout",
     "output_type": "stream",
     "text": [
      "step = 19600: loss = 179.4892578125\n"
     ]
    },
    {
     "name": "stdout",
     "output_type": "stream",
     "text": [
      "step = 19800: loss = 141.08087158203125\n"
     ]
    },
    {
     "name": "stdout",
     "output_type": "stream",
     "text": [
      "step = 20000: loss = 108.56676483154297\n"
     ]
    },
    {
     "name": "stdout",
     "output_type": "stream",
     "text": [
      "step = 20000: Average Return = 200.0\n"
     ]
    }
   ],
   "source": [
    "#@test {\"skip\": true}\n",
    "try:\n",
    "  %%time\n",
    "except:\n",
    "  pass\n",
    "\n",
    "# (Optional) Optimize by wrapping some of the code in a graph using TF function.\n",
    "agent.train = common.function(agent.train)\n",
    "\n",
    "# Reset the train step\n",
    "agent.train_step_counter.assign(0)\n",
    "\n",
    "# Evaluate the agent's policy once before training.\n",
    "avg_return = compute_avg_return(eval_env, agent.policy, num_eval_episodes)\n",
    "returns = [avg_return]\n",
    "\n",
    "for _ in range(num_iterations):\n",
    "\n",
    "  # Collect a few steps using collect_policy and save to the replay buffer.\n",
    "  for _ in range(collect_steps_per_iteration):\n",
    "    collect_step(train_env, agent.collect_policy, replay_buffer)\n",
    "\n",
    "  # Sample a batch of data from the buffer and update the agent's network.\n",
    "  experience, unused_info = next(iterator)\n",
    "  train_loss = agent.train(experience).loss\n",
    "\n",
    "  step = agent.train_step_counter.numpy()\n",
    "\n",
    "  if step % log_interval == 0:\n",
    "    print('step = {0}: loss = {1}'.format(step, train_loss))\n",
    "\n",
    "  if step % eval_interval == 0:\n",
    "    avg_return = compute_avg_return(eval_env, agent.policy, num_eval_episodes)\n",
    "    print('step = {0}: Average Return = {1}'.format(step, avg_return))\n",
    "    returns.append(avg_return)"
   ]
  },
  {
   "cell_type": "markdown",
   "metadata": {
    "colab_type": "text",
    "id": "68jNcA_TiJDq"
   },
   "source": [
    "## Visualization\n"
   ]
  },
  {
   "cell_type": "markdown",
   "metadata": {
    "colab_type": "text",
    "id": "aO-LWCdbbOIC"
   },
   "source": [
    "### Plots\n",
    "\n",
    "Use `matplotlib.pyplot` to chart how the policy improved during training.\n",
    "\n",
    "One iteration of `Cartpole-v0` consists of 200 time steps. The environment gives a reward of `+1` for each step the pole stays up, so the maximum return for one episode is 200. The charts shows the return increasing towards that maximum each time it is evaluated during training. (It may be a little unstable and not increase monotonically each time.)"
   ]
  },
  {
   "cell_type": "code",
   "execution_count": 33,
   "metadata": {
    "colab": {},
    "colab_type": "code",
    "id": "NxtL1mbOYCVO"
   },
   "outputs": [
    {
     "data": {
      "text/plain": [
       "(0.1849997997283932, 250.0)"
      ]
     },
     "execution_count": 33,
     "metadata": {},
     "output_type": "execute_result"
    },
    {
     "data": {
      "image/png": "[encoded data removed]",
      "text/plain": [
       "<Figure size 432x288 with 1 Axes>"
      ]
     },
     "metadata": {
      "needs_background": "light"
     },
     "output_type": "display_data"
    }
   ],
   "source": [
    "#@test {\"skip\": true}\n",
    "\n",
    "iterations = range(0, num_iterations + 1, eval_interval)\n",
    "plt.plot(iterations, returns)\n",
    "plt.ylabel('Average Return')\n",
    "plt.xlabel('Iterations')\n",
    "plt.ylim(top=250)"
   ]
  },
  {
   "cell_type": "markdown",
   "metadata": {
    "colab_type": "text",
    "id": "M7-XpPP99Cy7"
   },
   "source": [
    "### Videos"
   ]
  },
  {
   "cell_type": "markdown",
   "metadata": {
    "colab_type": "text",
    "id": "9pGfGxSH32gn"
   },
   "source": [
    "Charts are nice. But more exciting is seeing an agent actually performing a task in an environment. \n",
    "\n",
    "First, create a function to embed videos in the notebook."
   ]
  },
  {
   "cell_type": "code",
   "execution_count": 34,
   "metadata": {
    "colab": {},
    "colab_type": "code",
    "id": "ULaGr8pvOKbl"
   },
   "outputs": [],
   "source": [
    "def embed_mp4(filename):\n",
    "  \"\"\"Embeds an mp4 file in the notebook.\"\"\"\n",
    "  video = open(filename,'rb').read()\n",
    "  b64 = base64.b64encode(video)\n",
    "  tag = '''\n",
    "  <video width=\"640\" height=\"480\" controls>\n",
    "    <source src=\"data:video/mp4;base64,{0}\" type=\"video/mp4\">\n",
    "  Your browser does not support the video tag.\n",
    "  </video>'''.format(b64.decode())\n",
    "\n",
    "  return IPython.display.HTML(tag)"
   ]
  },
  {
   "cell_type": "markdown",
   "metadata": {
    "colab_type": "text",
    "id": "9c_PH-pX4Pr5"
   },
   "source": [
    "Now iterate through a few episodes of the Cartpole game with the agent. The underlying Python environment (the one \"inside\" the TensorFlow environment wrapper) provides a `render()` method, which outputs an image of the environment state. These can be collected into a video."
   ]
  },
  {
   "cell_type": "code",
   "execution_count": 35,
   "metadata": {
    "colab": {},
    "colab_type": "code",
    "id": "owOVWB158NlF"
   },
   "outputs": [
    {
     "name": "stderr",
     "output_type": "stream",
     "text": [
      "WARNING:root:IMAGEIO FFMPEG_WRITER WARNING: input image is not divisible by macro_block_size=16, resizing from (400, 600) to (400, 608) to ensure video compatibility with most codecs and players. To prevent resizing, make your input image divisible by the macro_block_size or set the macro_block_size to None (risking incompatibility). You may also see a FFMPEG warning concerning speedloss due to data not being aligned.\n"
     ]
    },
    {
     "data": {
      "text/html": [
       "\n",
       "  <video width=\"640\" height=\"480\" controls>\n",
       "    <source src=\"data:video/mp4;base64,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\" type=\"video/mp4\">\n",
       "  Your browser does not support the video tag.\n",
       "  </video>"
      ],
      "text/plain": [
       "<IPython.core.display.HTML object>"
      ]
     },
     "execution_count": 35,
     "metadata": {},
     "output_type": "execute_result"
    }
   ],
   "source": [
    "def create_policy_eval_video(policy, filename, num_episodes=5, fps=30):\n",
    "  filename = filename + \".mp4\"\n",
    "  with imageio.get_writer(filename, fps=fps) as video:\n",
    "    for _ in range(num_episodes):\n",
    "      time_step = eval_env.reset()\n",
    "      video.append_data(eval_py_env.render())\n",
    "      while not time_step.is_last():\n",
    "        action_step = policy.action(time_step)\n",
    "        time_step = eval_env.step(action_step.action)\n",
    "        video.append_data(eval_py_env.render())\n",
    "  return embed_mp4(filename)\n",
    "\n",
    "\n",
    "\n",
    "\n",
    "create_policy_eval_video(agent.policy, \"trained-agent\")"
   ]
  },
  {
   "cell_type": "markdown",
   "metadata": {
    "colab_type": "text",
    "id": "povaAOcZygLw"
   },
   "source": [
    "For fun, compare the trained agent (above) to an agent moving randomly. (It does not do as well.)"
   ]
  },
  {
   "cell_type": "code",
   "execution_count": 36,
   "metadata": {
    "colab": {},
    "colab_type": "code",
    "id": "pJZIdC37yNH4"
   },
   "outputs": [
    {
     "name": "stderr",
     "output_type": "stream",
     "text": [
      "WARNING:root:IMAGEIO FFMPEG_WRITER WARNING: input image is not divisible by macro_block_size=16, resizing from (400, 600) to (400, 608) to ensure video compatibility with most codecs and players. To prevent resizing, make your input image divisible by the macro_block_size or set the macro_block_size to None (risking incompatibility). You may also see a FFMPEG warning concerning speedloss due to data not being aligned.\n"
     ]
    },
    {
     "data": {
      "text/html": [
       "\n",
       "  <video width=\"640\" height=\"480\" controls>\n",
       "    <source src=\"data:video/mp4;base64,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\" type=\"video/mp4\">\n",
       "  Your browser does not support the video tag.\n",
       "  </video>"
      ],
      "text/plain": [
       "<IPython.core.display.HTML object>"
      ]
     },
     "execution_count": 36,
     "metadata": {},
     "output_type": "execute_result"
    }
   ],
   "source": [
    "create_policy_eval_video(random_policy, \"random-agent\")"
   ]
  }
 ],
 "metadata": {
  "colab": {
   "collapsed_sections": [],
   "name": "DQN Tutorial.ipynb",
   "private_outputs": true,
   "provenance": [],
   "toc_visible": true
  },
  "kernelspec": {
   "display_name": "Python 3",
   "language": "python",
   "name": "python3"
  },
  "language_info": {
   "codemirror_mode": {
    "name": "ipython",
    "version": 3
   },
   "file_extension": ".py",
   "mimetype": "text/x-python",
   "name": "python",
   "nbconvert_exporter": "python",
   "pygments_lexer": "ipython3",
   "version": "3.6.9"
  },
  "pycharm": {
   "stem_cell": {
    "cell_type": "raw",
    "metadata": {
     "collapsed": false
    },
    "source": []
   }
  }
 },
 "nbformat": 4,
 "nbformat_minor": 0
}
