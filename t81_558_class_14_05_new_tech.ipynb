{
 "cells": [
  {
   "cell_type": "markdown",
   "metadata": {},
   "source": [
    "# T81-558: Applications of Deep Neural Networks\n",
    "**Module 14: Other Neural Network Techniques**\n",
    "* Instructor: [Jeff Heaton](https://sites.wustl.edu/jeffheaton/), McKelvey School of Engineering, [Washington University in St. Louis](https://engineering.wustl.edu/Programs/Pages/default.aspx)\n",
    "* For more information visit the [class website](https://sites.wustl.edu/jeffheaton/t81-558/)."
   ]
  },
  {
   "cell_type": "markdown",
   "metadata": {},
   "source": [
    "# Module 14 Video Material\n",
    "\n",
    "* Part 14.1: What is AutoML [[Video]](https://www.youtube.com/watch?v=TFUysIR5AB0&list=PLjy4p-07OYzulelvJ5KVaT2pDlxivl_BN) [[Notebook]](t81_558_class_14_01_automl.ipynb)\n",
    "* Part 14.2: Using Denoising AutoEncoders in Keras [[Video]](https://www.youtube.com/watch?v=4bTSu6_fucc&list=PLjy4p-07OYzulelvJ5KVaT2pDlxivl_BN) [[Notebook]](t81_558_class_14_02_auto_encode.ipynb)\n",
    "* Part 14.3: Training an Intrusion Detection System with KDD99 [[Video]](https://www.youtube.com/watch?v=1ySn6h2A68I&list=PLjy4p-07OYzulelvJ5KVaT2pDlxivl_BN) [[Notebook]](t81_558_class_14_03_anomaly.ipynb)\n",
    "* Part 14.4: Anomaly Detection in Keras [[Video]](https://www.youtube.com/watch?v=VgyKQ5MTDFc&list=PLjy4p-07OYzulelvJ5KVaT2pDlxivl_BN) [[Notebook]](t81_558_class_14_04_ids_kdd99.ipynb)\n",
    "* **Part 14.5: The Deep Learning Technologies I am Excited About** [[Video]]() [[Notebook]](t81_558_class_14_05_new_tech.ipynb)\n",
    "\n"
   ]
  },
  {
   "cell_type": "markdown",
   "metadata": {},
   "source": [
    "# Part 14.5: New Technologies\n",
    "\n",
    "This course changes often to keep up with the rapidly evolving landscape that is deep learning.  If you would like to continue to monitor this class, I suggest following me on the following:\n",
    "\n",
    "* [GitHub](https://github.com/jeffheaton) - I post all changes to GitHub.\n",
    "* [Jeff Heaton's YouTube Channel](https://www.youtube.com/user/HeatonResearch) - I add new videos for this class at my channel.\n",
    "\n",
    "Currently, there are four technologies that are particularly on my radar for possible future inclusion in this course:\n",
    "\n",
    "* Neural Structured Learning (NSL)\n",
    "* Bert, AlBert, and Other NLP Technologies\n",
    "* Capsule Neural Networks\n",
    "* Explainability Frameworks\n",
    "\n",
    "These technologies are described in the following sections.\n",
    "\n",
    "# Neural Structured Learning (NSL)\n",
    "\n",
    "[Neural Structured Learning (NSL)](https://www.tensorflow.org/neural_structured_learning) provides additional training information to the neural network. [[Cite:bui2018neural]](https://static.googleusercontent.com/media/research.google.com/en//pubs/archive/46568.pdf) This training information is in the form of a graph that relates individual training cases (rows in your training set) among each other. This allows the neural network to be trained to greater accuracy with a smaller number of labeled data.  When the neural network is ultimately used for scoring and prediction, once training completes, the graph data is no longer provided.\n",
    "\n",
    "* Train Better Neural Network with Less Data\n",
    "* Relationships Among Training Items Provided During Training\n",
    "* Scoring/Prediction Remains the Same\n",
    "* Advasrial Attacks\n",
    "\n",
    "Super\n",
    "\n",
    "Built into TF 2.0, supports any type of ANN.\n",
    "\n",
    "graph and advasarial regularization\n",
    "\n",
    "pip install neural_structured_learning\n",
    "\n",
    "if no structure, then use embedding for NLP, advsarial for images\n",
    "\n",
    "\n",
    "# Bert, AlBert, and Other NLP Technologies\n",
    "\n",
    "\n",
    "\n",
    "# Capsule Neural Networks\n",
    "\n",
    "[Capsule Neural Network examples in Keras](https://keras.io/examples/cifar10_cnn_capsule/)\n",
    "\n",
    "# Explainability Frameworks\n",
    "\n",
    "* [Lime](https://github.com/marcotcr/lime)\n",
    "* [Explain it to Me Like I'm 5 (ELI5)](https://eli5.readthedocs.io/en/latest/)\n"
   ]
  }
 ],
 "metadata": {
  "anaconda-cloud": {},
  "kernelspec": {
   "display_name": "Python 3",
   "language": "python",
   "name": "python3"
  },
  "language_info": {
   "codemirror_mode": {
    "name": "ipython",
    "version": 3
   },
   "file_extension": ".py",
   "mimetype": "text/x-python",
   "name": "python",
   "nbconvert_exporter": "python",
   "pygments_lexer": "ipython3",
   "version": "3.6.9"
  }
 },
 "nbformat": 4,
 "nbformat_minor": 4
}
