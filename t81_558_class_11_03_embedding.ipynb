{
 "cells": [
  {
   "cell_type": "markdown",
   "metadata": {},
   "source": [
    "# T81-558: Applications of Deep Neural Networks\n",
    "**Module 11: Natural Language Processing and Speech Recognition**\n",
    "* Instructor: [Jeff Heaton](https://sites.wustl.edu/jeffheaton/), McKelvey School of Engineering, [Washington University in St. Louis](https://engineering.wustl.edu/Programs/Pages/default.aspx)\n",
    "* For more information visit the [class website](https://sites.wustl.edu/jeffheaton/t81-558/)."
   ]
  },
  {
   "cell_type": "markdown",
   "metadata": {},
   "source": [
    "# Module 11 Material\n",
    "\n",
    "* Part 11.1: Getting Started with Spacy in Python [[Video]](https://www.youtube.com/watch?v=bv_iVVrlfbU) [[Notebook]](t81_558_class_11_01_spacy.ipynb)\n",
    "* Part 11.2: Word2Vec and Text Classification [[Video]](https://www.youtube.com/watch?v=qN9hHlZKIL4) [[Notebook]](t81_558_class_11_02_word2vec.ipynb)\n",
    "* **Part 11.3: What are Embedding Layers in Keras** [[Video]](https://www.youtube.com/watch?v=Ae3GVw5nTYU) [[Notebook]](t81_558_class_11_03_embedding.ipynb)\n",
    "* Part 11.4: Natural Language Processing with Spacy and Keras [[Video]](https://www.youtube.com/watch?v=Ae3GVw5nTYU) [[Notebook]](t81_558_class_11_04_text_nlp.ipynb)\n",
    "* Part 11.5: Learning English from Scratch with Keras and TensorFlow [[Video]](https://www.youtube.com/watch?v=Ae3GVw5nTYU) [[Notebook]](t81_558_class_11_05_english_scratch.ipynb)"
   ]
  },
  {
   "cell_type": "markdown",
   "metadata": {},
   "source": [
    "# Part 11.3: What are Embedding Layers in Keras\n",
    "\n",
    "[Embedding Layers](https://keras.io/layers/embeddings/) are a powerful feature of Keras that allow additional information to be automatically inserted into your neural network.  In the previous section you saw that Word2Vec can expand words to a 300 dimension vector.  An embedding layer would allow you to automatically insert these 300-dimension vectors in the place of word-indexes.  \n",
    "\n",
    "Embedding layers are often used with Natural Language Processing (NLP); however, they can be used in any instance where you wish to insert a larger vector in the place of an index value.  In some ways you can think of an embedding layer as dimension expansion. However, the hope is that these additional dimensions will provide more information to the model and provide a better score."
   ]
  },
  {
   "cell_type": "markdown",
   "metadata": {},
   "source": [
    "### Simple Embedding Layer Example\n",
    "\n",
    "* **input_dim** = How large is the vocabulary?  How many categories are you encoding. This is the number of items in your \"lookup table\".\n",
    "* **output_dim** = How many numbers in the vector that you wish to return. \n",
    "* **input_length** = How many items are in the input feature vector that you need to transform?\n",
    "\n",
    "Now we create one that has a vocabulary size of 10, will reduce those values between 0-9 to 4 number vectors.  Each feature vector coming in will have 2 such features.  This neural network does nothing more than pass the embedding on to the output.  But it does let us see what the embedding is doing."
   ]
  },
  {
   "cell_type": "code",
   "execution_count": 1,
   "metadata": {},
   "outputs": [],
   "source": [
    "from tensorflow.keras.models import Sequential\n",
    "from tensorflow.keras.layers import Embedding\n",
    "import numpy as np\n",
    "\n",
    "model = Sequential()\n",
    "embedding_layer = Embedding(input_dim=10, output_dim=4, input_length=2)\n",
    "model.add(embedding_layer)\n",
    "model.compile('adam', 'mse')"
   ]
  },
  {
   "cell_type": "markdown",
   "metadata": {},
   "source": [
    "Now lets query the neural network with 2 rows."
   ]
  },
  {
   "cell_type": "code",
   "execution_count": 2,
   "metadata": {},
   "outputs": [
    {
     "name": "stdout",
     "output_type": "stream",
     "text": [
      "(1, 2)\n",
      "[[[ 0.03057209  0.00422094  0.01367218  0.02890844]\n",
      "  [-0.01935221  0.03212074  0.04108474  0.01327438]]]\n"
     ]
    }
   ],
   "source": [
    "input_data = np.array([\n",
    "    [1,2]\n",
    "])\n",
    "\n",
    "pred = model.predict(input_data)\n",
    "\n",
    "print(input_data.shape)\n",
    "print(pred)"
   ]
  },
  {
   "cell_type": "code",
   "execution_count": 3,
   "metadata": {},
   "outputs": [
    {
     "data": {
      "text/plain": [
       "[array([[ 0.03441718,  0.0164186 ,  0.00878377,  0.04051207],\n",
       "        [ 0.03057209,  0.00422094,  0.01367218,  0.02890844],\n",
       "        [-0.01935221,  0.03212074,  0.04108474,  0.01327438],\n",
       "        [-0.00192205,  0.03440199, -0.01355858, -0.03365298],\n",
       "        [-0.04298228,  0.0442316 , -0.03126836, -0.0358155 ],\n",
       "        [-0.02912127,  0.02603122,  0.00684156,  0.02036822],\n",
       "        [ 0.02611477, -0.00136814, -0.0052232 ,  0.04870078],\n",
       "        [-0.03386402,  0.03691549,  0.03001035, -0.04981709],\n",
       "        [-0.03855449, -0.01952852, -0.03983789,  0.00627376],\n",
       "        [ 0.03916714, -0.03956715,  0.0301869 ,  0.04573746]],\n",
       "       dtype=float32)]"
      ]
     },
     "execution_count": 3,
     "metadata": {},
     "output_type": "execute_result"
    }
   ],
   "source": [
    "embedding_layer.get_weights()"
   ]
  },
  {
   "cell_type": "markdown",
   "metadata": {},
   "source": [
    "### Transferring An Embedding"
   ]
  },
  {
   "cell_type": "code",
   "execution_count": 4,
   "metadata": {},
   "outputs": [],
   "source": [
    "from tensorflow.keras.models import Sequential\n",
    "from tensorflow.keras.layers import Embedding\n",
    "import numpy as np\n",
    "\n",
    "embedding_lookup = np.array([\n",
    "    [1,0,0],\n",
    "    [0,1,0],\n",
    "    [0,0,1]\n",
    "])\n",
    "\n",
    "model = Sequential()\n",
    "embedding_layer = Embedding(input_dim=3, output_dim=3, input_length=2)\n",
    "model.add(embedding_layer)\n",
    "model.compile('adam', 'mse')\n",
    "\n",
    "embedding_layer.set_weights([embedding_lookup])"
   ]
  },
  {
   "cell_type": "code",
   "execution_count": 5,
   "metadata": {},
   "outputs": [
    {
     "name": "stdout",
     "output_type": "stream",
     "text": [
      "(1, 2)\n",
      "[[[1. 0. 0.]\n",
      "  [0. 1. 0.]]]\n"
     ]
    }
   ],
   "source": [
    "input_data = np.array([\n",
    "    [0,1]\n",
    "])\n",
    "\n",
    "pred = model.predict(input_data)\n",
    "\n",
    "print(input_data.shape)\n",
    "print(pred)"
   ]
  },
  {
   "cell_type": "markdown",
   "metadata": {},
   "source": [
    "### Training an Embedding"
   ]
  },
  {
   "cell_type": "code",
   "execution_count": 6,
   "metadata": {},
   "outputs": [],
   "source": [
    "from numpy import array\n",
    "from tensorflow.keras.preprocessing.text import one_hot\n",
    "from tensorflow.keras.preprocessing.sequence import pad_sequences\n",
    "from tensorflow.keras.models import Sequential\n",
    "from tensorflow.keras.layers import Flatten, Embedding, Dense"
   ]
  },
  {
   "cell_type": "code",
   "execution_count": 7,
   "metadata": {},
   "outputs": [],
   "source": [
    "# Define 10 resturant reviews.\n",
    "reviews = [\n",
    "    'Never coming back!',\n",
    "    'Horrible service',\n",
    "    'Rude waitress',\n",
    "    'Cold food.',\n",
    "    'Horrible food!',\n",
    "    'Awesome',\n",
    "    'Awesome service!',\n",
    "    'Rocks!',\n",
    "    'poor work',\n",
    "    'Couldn\\'t have done better']\n",
    "\n",
    "# Define labels (1=negative, 0=positive)\n",
    "labels = array([1,1,1,1,1,0,0,0,0,0])"
   ]
  },
  {
   "cell_type": "code",
   "execution_count": null,
   "metadata": {},
   "outputs": [],
   "source": []
  },
  {
   "cell_type": "code",
   "execution_count": 8,
   "metadata": {},
   "outputs": [
    {
     "name": "stdout",
     "output_type": "stream",
     "text": [
      "Encoded reviews: [[49, 41, 21], [6, 1], [10, 12], [33, 3], [6, 3], [27], [27, 1], [37], [22, 26], [25, 17, 3, 33]]\n"
     ]
    }
   ],
   "source": [
    "VOCAB_SIZE = 50\n",
    "encoded_reviews = [one_hot(d, VOCAB_SIZE) for d in reviews]\n",
    "print(f\"Encoded reviews: {encoded_reviews}\")"
   ]
  },
  {
   "cell_type": "code",
   "execution_count": 9,
   "metadata": {},
   "outputs": [
    {
     "name": "stdout",
     "output_type": "stream",
     "text": [
      "[[49 41 21  0]\n",
      " [ 6  1  0  0]\n",
      " [10 12  0  0]\n",
      " [33  3  0  0]\n",
      " [ 6  3  0  0]\n",
      " [27  0  0  0]\n",
      " [27  1  0  0]\n",
      " [37  0  0  0]\n",
      " [22 26  0  0]\n",
      " [25 17  3 33]]\n"
     ]
    }
   ],
   "source": [
    "MAX_LENGTH = 4\n",
    "\n",
    "padded_reviews = pad_sequences(encoded_reviews, maxlen=MAX_LENGTH, padding='post')\n",
    "print(padded_reviews)"
   ]
  },
  {
   "cell_type": "code",
   "execution_count": 10,
   "metadata": {},
   "outputs": [
    {
     "name": "stdout",
     "output_type": "stream",
     "text": [
      "Model: \"sequential_2\"\n",
      "_________________________________________________________________\n",
      "Layer (type)                 Output Shape              Param #   \n",
      "=================================================================\n",
      "embedding_2 (Embedding)      (None, 4, 8)              400       \n",
      "_________________________________________________________________\n",
      "flatten (Flatten)            (None, 32)                0         \n",
      "_________________________________________________________________\n",
      "dense (Dense)                (None, 1)                 33        \n",
      "=================================================================\n",
      "Total params: 433\n",
      "Trainable params: 433\n",
      "Non-trainable params: 0\n",
      "_________________________________________________________________\n",
      "None\n"
     ]
    }
   ],
   "source": [
    "model = Sequential()\n",
    "embedding_layer = Embedding(VOCAB_SIZE, 8, input_length=MAX_LENGTH)\n",
    "model.add(embedding_layer)\n",
    "model.add(Flatten())\n",
    "model.add(Dense(1, activation='sigmoid'))\n",
    "model.compile(optimizer='adam', loss='binary_crossentropy', metrics=['acc'])\n",
    "\n",
    "print(model.summary())"
   ]
  },
  {
   "cell_type": "code",
   "execution_count": 11,
   "metadata": {},
   "outputs": [
    {
     "name": "stderr",
     "output_type": "stream",
     "text": [
      "WARNING: Logging before flag parsing goes to stderr.\n",
      "W0720 07:36:56.280488 140735946830720 deprecation.py:323] From /Users/jheaton/miniconda3/envs/wustl/lib/python3.6/site-packages/tensorflow/python/ops/math_grad.py:1250: add_dispatch_support.<locals>.wrapper (from tensorflow.python.ops.array_ops) is deprecated and will be removed in a future version.\n",
      "Instructions for updating:\n",
      "Use tf.where in 2.0, which has the same broadcast rule as np.where\n"
     ]
    },
    {
     "data": {
      "text/plain": [
       "<tensorflow.python.keras.callbacks.History at 0xb3879ff60>"
      ]
     },
     "execution_count": 11,
     "metadata": {},
     "output_type": "execute_result"
    }
   ],
   "source": [
    "# fit the model\n",
    "model.fit(padded_reviews, labels, epochs=100, verbose=0)"
   ]
  },
  {
   "cell_type": "code",
   "execution_count": 12,
   "metadata": {},
   "outputs": [
    {
     "name": "stdout",
     "output_type": "stream",
     "text": [
      "(50, 8)\n",
      "[array([[-9.13142189e-02, -1.51171356e-01, -6.48781583e-02,\n",
      "        -5.17367609e-02,  1.41099036e-01,  6.59870058e-02,\n",
      "         1.52993515e-01,  5.71711399e-02],\n",
      "       [ 2.52599977e-02,  6.61662268e-03,  1.05992099e-03,\n",
      "        -3.66561674e-02, -2.48227902e-02, -3.46253738e-02,\n",
      "         3.31519544e-02, -1.75137054e-02],\n",
      "       [-9.27434117e-03,  1.20283253e-02,  3.53279375e-02,\n",
      "        -3.73719111e-02, -4.86300848e-02,  9.11641866e-04,\n",
      "        -2.91978475e-02, -2.00898051e-02],\n",
      "       [ 6.46254122e-02, -6.36352524e-02,  7.22218156e-02,\n",
      "         1.51179790e-01, -8.28030482e-02,  1.31728109e-02,\n",
      "        -1.54265761e-01, -1.17290027e-01],\n",
      "       [-1.25587098e-02,  7.45282322e-03,  2.57406496e-02,\n",
      "         3.20425890e-02, -4.75681536e-02,  2.62241624e-02,\n",
      "        -4.08306122e-02,  1.45004727e-02],\n",
      "       [-1.60277113e-02, -2.76740640e-03,  1.43200196e-02,\n",
      "        -3.10975313e-02, -4.57917117e-02,  4.18280438e-03,\n",
      "        -3.05963643e-02,  3.37566175e-02],\n",
      "       [-1.28883064e-01, -6.99212551e-02, -1.18979491e-01,\n",
      "        -1.62529111e-01,  1.34415254e-01,  1.38721213e-01,\n",
      "         1.09818116e-01, -1.48334980e-01],\n",
      "       [-1.82113163e-02, -4.71018925e-02, -4.15483341e-02,\n",
      "        -7.47334957e-03,  3.31904776e-02,  8.60148668e-03,\n",
      "         2.49639042e-02,  2.85320766e-02],\n",
      "       [ 1.68577321e-02,  3.76246460e-02, -4.26096097e-02,\n",
      "        -7.37297535e-03, -4.84208949e-02, -2.12840792e-02,\n",
      "         3.62547673e-02,  1.35854371e-02],\n",
      "       [ 1.13156214e-02,  4.43550386e-02, -1.86930783e-02,\n",
      "        -3.86685133e-03, -4.13037911e-02, -4.79195230e-02,\n",
      "        -3.56327295e-02, -2.29487773e-02],\n",
      "       [-8.88247862e-02, -7.58175403e-02, -1.04170591e-01,\n",
      "        -1.69989318e-01,  8.19226354e-02,  1.17321119e-01,\n",
      "         9.50578451e-02, -1.39605001e-01],\n",
      "       [-2.10076571e-03, -9.07961279e-03, -4.22256477e-02,\n",
      "        -3.98260355e-02,  2.63311304e-02, -3.88011225e-02,\n",
      "         4.87082042e-02, -2.02190634e-02],\n",
      "       [ 1.40664279e-01,  4.68423450e-03,  1.39852196e-01,\n",
      "         1.06539600e-01, -1.18191443e-01, -1.49432823e-01,\n",
      "        -1.47306204e-01, -1.10758714e-01],\n",
      "       [ 4.52802293e-02,  1.43666901e-02, -5.62566519e-03,\n",
      "        -4.22095321e-02, -3.65660340e-03,  1.29599608e-02,\n",
      "         3.20091732e-02, -1.55616291e-02],\n",
      "       [ 2.43584849e-02,  8.22947174e-03, -2.34406721e-02,\n",
      "         4.75082882e-02,  3.04584168e-02, -9.77677107e-03,\n",
      "        -2.03080066e-02,  3.77450697e-02],\n",
      "       [ 4.44628485e-02, -1.68391950e-02, -1.77327394e-02,\n",
      "         3.40440534e-02,  3.67796533e-02,  4.04473059e-02,\n",
      "        -1.87092908e-02, -1.37970224e-02],\n",
      "       [ 4.68832962e-02,  1.31467842e-02, -1.76990740e-02,\n",
      "         1.21638775e-02,  1.47868656e-02, -3.05809863e-02,\n",
      "         3.96907590e-02, -1.21423714e-02],\n",
      "       [-1.43465236e-01,  1.72630884e-02, -8.74653012e-02,\n",
      "        -1.38144150e-01,  1.49215370e-01,  9.09392238e-02,\n",
      "         8.18031952e-02,  8.86930376e-02],\n",
      "       [-3.89651284e-02,  3.05430330e-02,  3.66664790e-02,\n",
      "        -1.58469789e-02, -2.71408316e-02, -3.21054235e-02,\n",
      "        -1.27720349e-02, -3.43063958e-02],\n",
      "       [ 4.66824211e-02,  3.29907052e-02, -7.36862421e-06,\n",
      "         4.42414545e-02,  2.11786665e-02, -2.84080505e-02,\n",
      "        -4.73904982e-02,  2.17925943e-02],\n",
      "       [-2.57781502e-02, -5.00550121e-03,  2.78625973e-02,\n",
      "         2.17708834e-02, -1.45666115e-02, -4.96008880e-02,\n",
      "         3.62308733e-02,  3.24152373e-02],\n",
      "       [ 5.15958406e-02,  1.15332589e-01, -1.05136149e-01,\n",
      "         7.73624107e-02, -1.43152252e-01, -8.83579105e-02,\n",
      "        -1.47203282e-01,  1.13640055e-01],\n",
      "       [ 1.57557771e-01,  9.07594487e-02,  6.57730475e-02,\n",
      "         8.47220421e-02, -1.18705958e-01, -1.19342268e-01,\n",
      "        -1.45847663e-01,  1.33196652e-01],\n",
      "       [ 3.23822834e-02, -2.59096380e-02,  2.61546113e-02,\n",
      "        -1.28064044e-02, -8.85192305e-03,  4.11737673e-02,\n",
      "        -3.35608013e-02, -1.04880929e-02],\n",
      "       [-4.28110473e-02,  2.38221884e-03,  2.70824172e-02,\n",
      "        -3.31009515e-02, -4.92787361e-02, -3.17219645e-03,\n",
      "         4.44103517e-02, -5.34529611e-03],\n",
      "       [ 1.48532301e-01,  1.17901877e-01,  1.20602451e-01,\n",
      "         9.66299996e-02, -1.40113279e-01, -1.48590595e-01,\n",
      "        -7.40599036e-02,  1.21718116e-01],\n",
      "       [-8.71626809e-02, -2.28555519e-02, -5.59971556e-02,\n",
      "        -8.64622965e-02,  1.19895093e-01,  1.47861287e-01,\n",
      "         1.31010890e-01,  6.34687394e-02],\n",
      "       [ 9.47273970e-02,  6.24492131e-02,  7.84261599e-02,\n",
      "         1.62909269e-01, -1.46825820e-01, -6.26287460e-02,\n",
      "        -1.09755114e-01,  1.25881910e-01],\n",
      "       [-4.19408306e-02, -3.56824026e-02, -4.92901467e-02,\n",
      "         3.47684696e-03, -6.88396394e-04, -1.46739557e-03,\n",
      "        -2.63525732e-02, -1.69531219e-02],\n",
      "       [-7.79793411e-03,  2.88943686e-02, -1.74690112e-02,\n",
      "        -3.68075594e-02, -3.63199115e-02, -1.08641610e-02,\n",
      "         1.16022713e-02,  1.06553659e-02],\n",
      "       [ 1.63036846e-02,  2.91034319e-02,  1.35591365e-02,\n",
      "        -8.45482200e-03,  3.87788154e-02, -3.74583229e-02,\n",
      "        -1.17980354e-02, -5.37111610e-03],\n",
      "       [-1.27742440e-03,  2.87263058e-02, -2.29561683e-02,\n",
      "        -3.11486721e-02, -2.40329262e-02,  4.95131053e-02,\n",
      "        -2.76801717e-02,  1.20615475e-02],\n",
      "       [-2.22354662e-02, -7.22696632e-03, -2.62358543e-02,\n",
      "         3.72170098e-02,  3.14384364e-02,  3.23927067e-02,\n",
      "         2.58144997e-02,  1.71401240e-02],\n",
      "       [-1.53038278e-01,  8.25604051e-02, -1.12484440e-01,\n",
      "        -9.47300121e-02, -7.07869083e-02,  1.38502076e-01,\n",
      "         1.24352269e-01, -1.06076196e-01],\n",
      "       [ 3.09853069e-02, -7.29786232e-03,  1.25057958e-02,\n",
      "        -5.72615862e-03, -1.62709467e-02,  9.86691564e-03,\n",
      "        -4.81913686e-02, -1.33231506e-02],\n",
      "       [-2.06278209e-02,  3.23839225e-02, -4.76668142e-02,\n",
      "         4.94287163e-03, -4.72817309e-02,  3.60282511e-03,\n",
      "         3.30684893e-02,  7.00079277e-03],\n",
      "       [-4.09008041e-02, -1.12671368e-02, -4.08288352e-02,\n",
      "        -1.58805959e-02, -2.46777385e-03, -1.45173557e-02,\n",
      "         3.45428698e-02,  1.75010227e-02],\n",
      "       [ 1.46194786e-01,  1.12755828e-01,  1.27794594e-01,\n",
      "         1.01955600e-01, -1.21736228e-01, -8.61176774e-02,\n",
      "        -1.27018556e-01,  8.62799883e-02],\n",
      "       [-4.70973551e-04, -4.53583486e-02,  1.35031454e-02,\n",
      "         1.27354898e-02, -4.04503457e-02, -2.08266024e-02,\n",
      "         1.64002664e-02,  4.72382940e-02],\n",
      "       [ 3.36257108e-02,  4.16616350e-03, -4.25480977e-02,\n",
      "         2.60920636e-02, -9.89876688e-04,  1.45987757e-02,\n",
      "         2.80139707e-02, -1.43854618e-02],\n",
      "       [ 1.73212178e-02,  7.98615068e-03, -4.63698022e-02,\n",
      "        -2.03416832e-02, -3.10010556e-02, -1.46289468e-02,\n",
      "         7.32421875e-03,  2.81218998e-02],\n",
      "       [ 7.30775148e-02,  3.77319269e-02,  5.94319552e-02,\n",
      "         1.12494253e-01, -7.12405890e-02, -9.44316015e-02,\n",
      "        -1.35974661e-01, -8.94770324e-02],\n",
      "       [ 2.51765735e-02, -1.82191730e-02, -2.47959848e-02,\n",
      "        -2.64511108e-02,  3.38808782e-02, -4.18679714e-02,\n",
      "        -3.23902518e-02,  4.52186130e-02],\n",
      "       [ 4.72664833e-03,  4.43487652e-02,  2.65675448e-02,\n",
      "         3.04253362e-02,  2.11482123e-03,  9.17065889e-04,\n",
      "        -4.25967351e-02,  4.13004272e-02],\n",
      "       [-3.38769928e-02, -2.51175407e-02, -2.34738719e-02,\n",
      "         2.45670341e-02,  4.27840687e-02, -3.05585265e-02,\n",
      "        -2.83644199e-02,  2.90553607e-02],\n",
      "       [ 3.95344235e-02, -8.24543089e-03, -1.55794397e-02,\n",
      "        -2.51241457e-02,  1.56200416e-02,  2.21928209e-03,\n",
      "        -4.12726402e-03,  2.64166854e-02],\n",
      "       [ 3.66240032e-02, -4.67828773e-02, -2.05451138e-02,\n",
      "        -4.17810194e-02,  1.78468116e-02, -1.14949793e-03,\n",
      "         2.68356912e-02,  2.88930200e-02],\n",
      "       [-4.13450599e-02,  7.16074556e-03,  3.64807360e-02,\n",
      "         3.48537304e-02,  4.86924089e-02,  4.77691330e-02,\n",
      "         8.82823393e-03,  2.35591084e-03],\n",
      "       [ 2.12067403e-02,  5.02669811e-03, -3.68985906e-02,\n",
      "        -1.76109895e-02,  8.12170655e-03,  2.29484923e-02,\n",
      "         1.89659745e-03, -3.21901925e-02],\n",
      "       [-7.72001296e-02, -1.37606636e-01, -1.03756338e-01,\n",
      "        -8.24365765e-02,  1.41133681e-01,  6.19879402e-02,\n",
      "         1.20373458e-01, -5.42399772e-02]], dtype=float32)]\n"
     ]
    }
   ],
   "source": [
    "print(embedding_layer.get_weights()[0].shape)\n",
    "print(embedding_layer.get_weights())"
   ]
  },
  {
   "cell_type": "code",
   "execution_count": 13,
   "metadata": {},
   "outputs": [
    {
     "name": "stdout",
     "output_type": "stream",
     "text": [
      "Accuracy: 1.0\n"
     ]
    }
   ],
   "source": [
    "loss, accuracy = model.evaluate(padded_reviews, labels, verbose=0)\n",
    "print(f'Accuracy: {accuracy}')"
   ]
  },
  {
   "cell_type": "code",
   "execution_count": null,
   "metadata": {},
   "outputs": [],
   "source": []
  }
 ],
 "metadata": {
  "anaconda-cloud": {},
  "kernelspec": {
   "display_name": "Python 3.6 (wustl)",
   "language": "python",
   "name": "wustl"
  },
  "language_info": {
   "codemirror_mode": {
    "name": "ipython",
    "version": 3
   },
   "file_extension": ".py",
   "mimetype": "text/x-python",
   "name": "python",
   "nbconvert_exporter": "python",
   "pygments_lexer": "ipython3",
   "version": "3.6.8"
  }
 },
 "nbformat": 4,
 "nbformat_minor": 4
}
