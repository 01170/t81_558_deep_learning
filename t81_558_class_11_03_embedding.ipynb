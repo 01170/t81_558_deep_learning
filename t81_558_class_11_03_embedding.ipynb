{
 "cells": [
  {
   "cell_type": "markdown",
   "metadata": {},
   "source": [
    "# T81-558: Applications of Deep Neural Networks\n",
    "**Module 11: Natural Language Processing and Speech Recognition**\n",
    "* Instructor: [Jeff Heaton](https://sites.wustl.edu/jeffheaton/), McKelvey School of Engineering, [Washington University in St. Louis](https://engineering.wustl.edu/Programs/Pages/default.aspx)\n",
    "* For more information visit the [class website](https://sites.wustl.edu/jeffheaton/t81-558/)."
   ]
  },
  {
   "cell_type": "markdown",
   "metadata": {},
   "source": [
    "# Module 11 Material\n",
    "\n",
    "* Part 11.1: Getting Started with Spacy in Python [[Video]](https://www.youtube.com/watch?v=bv_iVVrlfbU) [[Notebook]](t81_558_class_11_01_spacy.ipynb)\n",
    "* Part 11.2: Word2Vec and Text Classification [[Video]](https://www.youtube.com/watch?v=qN9hHlZKIL4) [[Notebook]](t81_558_class_11_02_word2vec.ipynb)\n",
    "* **Part 11.3: What are Embedding Layers in Keras** [[Video]](https://www.youtube.com/watch?v=Ae3GVw5nTYU) [[Notebook]](t81_558_class_11_03_embedding.ipynb)\n",
    "* Part 11.4: Natural Language Processing with Spacy and Keras [[Video]](https://www.youtube.com/watch?v=Ae3GVw5nTYU) [[Notebook]](t81_558_class_11_04_text_nlp.ipynb)\n",
    "* Part 11.5: Learning English from Scratch with Keras and TensorFlow [[Video]](https://www.youtube.com/watch?v=Ae3GVw5nTYU) [[Notebook]](t81_558_class_11_05_english_scratch.ipynb)"
   ]
  },
  {
   "cell_type": "markdown",
   "metadata": {},
   "source": [
    "# Part 11.3: What are Embedding Layers in Keras\n",
    "\n",
    "[Embedding Layers](https://keras.io/layers/embeddings/) are a powerful feature of Keras that allow additional information to be automatically inserted into your neural network.  In the previous section you saw that Word2Vec can expand words to a 300 dimension vector.  An embedding layer would allow you to automatically insert these 300-dimension vectors in the place of word-indexes.  \n",
    "\n",
    "Embedding layers are often used with Natural Language Processing (NLP); however, they can be used in any instance where you wish to insert a larger vector in the place of an index value.  In some ways you can think of an embedding layer as dimension expansion. However, the hope is that these additional dimensions will provide more information to the model and provide a better score."
   ]
  },
  {
   "cell_type": "code",
   "execution_count": 4,
   "metadata": {},
   "outputs": [],
   "source": [
    "from keras.models import Sequential\n",
    "from keras.layers import Embedding\n",
    "import numpy as np\n",
    "\n",
    "model = Sequential()\n",
    "model.add(Embedding(1000, 64, input_length=10))\n",
    "# the model will take as input an integer matrix of size (batch, input_length).\n",
    "# the largest integer (i.e. word index) in the input should be\n",
    "# no larger than 999 (vocabulary size).\n",
    "# now model.output_shape == (None, 10, 64), where None is the batch dimension.\n",
    "\n",
    "input_array = np.random.randint(1000, size=(32, 10))\n",
    "\n",
    "model.compile('rmsprop', 'mse')\n",
    "output_array = model.predict(input_array)\n",
    "assert output_array.shape == (32, 10, 64)"
   ]
  },
  {
   "cell_type": "code",
   "execution_count": 5,
   "metadata": {},
   "outputs": [
    {
     "data": {
      "text/plain": [
       "array([[[ 0.00148531, -0.02484481,  0.03750004, ...,  0.04823485,\n",
       "         -0.03592342, -0.03295747],\n",
       "        [-0.04962308, -0.023443  ,  0.00899249, ...,  0.03256037,\n",
       "          0.01375597,  0.03997575],\n",
       "        [ 0.04146341, -0.04022657, -0.02679427, ...,  0.02797518,\n",
       "          0.02481229, -0.04230652],\n",
       "        ...,\n",
       "        [-0.03651143,  0.01828153, -0.01824565, ...,  0.01133262,\n",
       "         -0.02873353,  0.00828058],\n",
       "        [ 0.0379012 ,  0.02493343, -0.03205984, ...,  0.01685869,\n",
       "          0.01029737, -0.00607287],\n",
       "        [-0.00345949, -0.02231693,  0.04504948, ...,  0.0113552 ,\n",
       "         -0.01478071,  0.0245846 ]],\n",
       "\n",
       "       [[ 0.02033497,  0.03670131,  0.01287762, ...,  0.03170332,\n",
       "         -0.04594446, -0.03487029],\n",
       "        [ 0.03862177, -0.01650984,  0.01120607, ...,  0.01798854,\n",
       "          0.00339844, -0.00497578],\n",
       "        [-0.0312975 ,  0.00677928,  0.010879  , ..., -0.00454694,\n",
       "          0.02128942, -0.04169091],\n",
       "        ...,\n",
       "        [ 0.01359783,  0.01332318, -0.03400425, ...,  0.01294103,\n",
       "         -0.01043534, -0.00252719],\n",
       "        [-0.0255038 ,  0.00209371, -0.04860313, ..., -0.04098531,\n",
       "         -0.03617592,  0.04017632],\n",
       "        [-0.00502379,  0.03035596, -0.01912383, ...,  0.04266382,\n",
       "         -0.0063195 , -0.04035257]],\n",
       "\n",
       "       [[ 0.01606591,  0.00866782, -0.01090886, ..., -0.01217117,\n",
       "          0.0278651 , -0.00274058],\n",
       "        [ 0.04991079, -0.00482454,  0.00394516, ..., -0.02243595,\n",
       "          0.0438376 ,  0.0469049 ],\n",
       "        [ 0.041299  ,  0.03612131, -0.03424529, ..., -0.04010888,\n",
       "         -0.0200332 , -0.01780285],\n",
       "        ...,\n",
       "        [ 0.02098953, -0.02880003, -0.00183111, ..., -0.03935579,\n",
       "          0.03918726,  0.03673092],\n",
       "        [ 0.04659483, -0.03164935, -0.00163358, ..., -0.02663789,\n",
       "         -0.03488934,  0.0418919 ],\n",
       "        [ 0.03953448, -0.01463169, -0.01287699, ..., -0.02997587,\n",
       "         -0.03626835,  0.03483639]],\n",
       "\n",
       "       ...,\n",
       "\n",
       "       [[ 0.01609117, -0.04239141,  0.02232086, ...,  0.0316489 ,\n",
       "          0.03283975, -0.00095639],\n",
       "        [ 0.04003227, -0.02431228, -0.00067315, ...,  0.01904409,\n",
       "          0.04988993,  0.01998008],\n",
       "        [-0.046758  ,  0.00833116, -0.00700231, ...,  0.04438112,\n",
       "         -0.01397256, -0.04535453],\n",
       "        ...,\n",
       "        [-0.00814031, -0.01054647, -0.03970582, ...,  0.01917401,\n",
       "         -0.00849627, -0.01709262],\n",
       "        [-0.04541191,  0.00088181,  0.01097673, ..., -0.01432021,\n",
       "         -0.0108968 ,  0.01669792],\n",
       "        [-0.01028457, -0.00702914, -0.01043434, ..., -0.02386818,\n",
       "         -0.01228327, -0.00997194]],\n",
       "\n",
       "       [[-0.0007716 , -0.03944732, -0.02448512, ...,  0.02127978,\n",
       "         -0.01184618,  0.03394118],\n",
       "        [ 0.00127595,  0.01637036,  0.03240563, ...,  0.02315002,\n",
       "         -0.0012964 ,  0.03404589],\n",
       "        [ 0.04386296, -0.01754647,  0.00412367, ...,  0.03970737,\n",
       "         -0.04239323,  0.04553643],\n",
       "        ...,\n",
       "        [ 0.03633798, -0.01853868,  0.00309093, ...,  0.04409004,\n",
       "          0.04381276, -0.02839081],\n",
       "        [-0.04273461,  0.04599145, -0.04139246, ...,  0.03091368,\n",
       "         -0.01372707, -0.01091481],\n",
       "        [ 0.03689853,  0.01314217,  0.028003  , ..., -0.00993115,\n",
       "         -0.01836327,  0.01470124]],\n",
       "\n",
       "       [[-0.01601747,  0.00317391, -0.02647286, ..., -0.02869027,\n",
       "         -0.04669283,  0.00520707],\n",
       "        [-0.02114757,  0.02673903, -0.009891  , ...,  0.02582066,\n",
       "          0.02954182, -0.04912153],\n",
       "        [ 0.03329568, -0.03350406, -0.0325399 , ...,  0.01122952,\n",
       "          0.03915495, -0.03288396],\n",
       "        ...,\n",
       "        [ 0.02145196, -0.01496438, -0.00779057, ..., -0.00593485,\n",
       "         -0.02256672,  0.00345652],\n",
       "        [ 0.00708071, -0.04467033, -0.01120526, ...,  0.04531438,\n",
       "         -0.0041646 ,  0.04230816],\n",
       "        [-0.01193051, -0.03180194,  0.03553775, ..., -0.0200862 ,\n",
       "          0.0393079 ,  0.04260061]]], dtype=float32)"
      ]
     },
     "execution_count": 5,
     "metadata": {},
     "output_type": "execute_result"
    }
   ],
   "source": [
    "output_array"
   ]
  },
  {
   "cell_type": "code",
   "execution_count": null,
   "metadata": {},
   "outputs": [],
   "source": []
  }
 ],
 "metadata": {
  "anaconda-cloud": {},
  "kernelspec": {
   "display_name": "Python 3.6 (wustl)",
   "language": "python",
   "name": "wustl"
  },
  "language_info": {
   "codemirror_mode": {
    "name": "ipython",
    "version": 3
   },
   "file_extension": ".py",
   "mimetype": "text/x-python",
   "name": "python",
   "nbconvert_exporter": "python",
   "pygments_lexer": "ipython3",
   "version": "3.6.7"
  }
 },
 "nbformat": 4,
 "nbformat_minor": 4
}
